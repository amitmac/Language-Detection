{
 "cells": [
  {
   "cell_type": "code",
   "execution_count": 14,
   "metadata": {},
   "outputs": [],
   "source": [
    "import numpy as np\n",
    "import pandas as pd\n",
    "import os\n",
    "import json\n",
    "import pickle"
   ]
  },
  {
   "cell_type": "code",
   "execution_count": 15,
   "metadata": {},
   "outputs": [],
   "source": [
    "with open('lang_dict_4_gram.json', 'r') as f:\n",
    "    lang_dict_n_gram = pickle.load(f)"
   ]
  },
  {
   "cell_type": "code",
   "execution_count": 16,
   "metadata": {},
   "outputs": [
    {
     "name": "stdout",
     "output_type": "stream",
     "text": [
      "8192\n",
      "5324\n"
     ]
    }
   ],
   "source": [
    "print(len(lang_dict_n_gram['en'].keys()))\n",
    "print(lang_dict_n_gram['en']['the'])"
   ]
  },
  {
   "cell_type": "code",
   "execution_count": 17,
   "metadata": {},
   "outputs": [
    {
     "name": "stdout",
     "output_type": "stream",
     "text": [
      "('\"\\xd0\\x95\\xd0\\xb2\\xd1\\x80\\xd0\\xbe\\xd0\\xbf\\xd0\\xb0 2020\" \\xd0\\xbd\\xd0\\xb5 \\xd1\\x82\\xd1\\x80\\xd1\\x8f\\xd0\\xb1\\xd0\\xb2\\xd0\\xb0 \\xd0\\xb4\\xd0\\xb0 \\xd1\\x81\\xd1\\x82\\xd0\\xb0\\xd1\\x80\\xd1\\x82\\xd0\\xb8\\xd1\\x80\\xd0\\xb0 \\xd0\\xbd\\xd0\\xbe\\xd0\\xb2 \\xd0\\xba\\xd0\\xbe\\xd0\\xbd\\xd0\\xba\\xd1\\x83\\xd1\\x80\\xd0\\xb5\\xd0\\xbd\\xd1\\x82\\xd0\\xb5\\xd0\\xbd \\xd0\\xbc\\xd0\\xb0\\xd1\\x80\\xd0\\xb0\\xd1\\x82\\xd0\\xbe\\xd0\\xbd \\xd0\\xb8 \\xd0\\xb8\\xd0\\xb7\\xd1\\x85\\xd0\\xbe\\xd0\\xb4 \\xd1\\x81 \\xd0\\xbf\\xd1\\x80\\xd0\\xb8\\xd0\\xb2\\xd0\\xb0\\xd1\\x82\\xd0\\xb8\\xd0\\xb7\\xd0\\xb0\\xd1\\x86\\xd0\\xb8\\xd1\\x8f.', 'bg')\n"
     ]
    }
   ],
   "source": [
    "test_data, test_labels = [], []\n",
    "with open(\"/workspace/lang-detect/europarl.test\", \"r\") as f:\n",
    "    for line in f:\n",
    "        line = line.split()\n",
    "        test_data.append(\" \".join(line[1:]))\n",
    "        test_labels.append(line[0])\n",
    "print(test_data[0], test_labels[0])"
   ]
  },
  {
   "cell_type": "code",
   "execution_count": 18,
   "metadata": {},
   "outputs": [
    {
     "name": "stdout",
     "output_type": "stream",
     "text": [
      "21000\n"
     ]
    }
   ],
   "source": [
    "print(len(test_data))"
   ]
  },
  {
   "cell_type": "code",
   "execution_count": 19,
   "metadata": {},
   "outputs": [],
   "source": [
    "import utils\n",
    "\n",
    "for i in range(len(test_data)):\n",
    "    test_data[i] = utils.preprocess(test_data[i])\n",
    "\n",
    "new_data = [0]*len(test_data)\n",
    "\n",
    "for i in range(len(test_data)):\n",
    "    new_data[i] = utils.create_n_gram(test_data[i], 4)"
   ]
  },
  {
   "cell_type": "code",
   "execution_count": 20,
   "metadata": {},
   "outputs": [
    {
     "data": {
      "text/plain": [
       "['\\xd0\\x95\\xd0\\xb2 \\x95\\xd0\\xb2\\xd1 \\xd0\\xb2\\xd1\\x80 \\xb2\\xd1\\x80\\xd0 \\xd1\\x80\\xd0\\xbe \\x80\\xd0\\xbe\\xd0 \\xd0\\xbe\\xd0\\xbf \\xbe\\xd0\\xbf\\xd0 \\xd0\\xbf\\xd0\\xb0 \\xd0\\xbd\\xd0\\xb5 \\xd1\\x82\\xd1\\x80 \\x82\\xd1\\x80\\xd1 \\xd1\\x80\\xd1\\x8f \\x80\\xd1\\x8f\\xd0 \\xd1\\x8f\\xd0\\xb1 \\x8f\\xd0\\xb1\\xd0 \\xd0\\xb1\\xd0\\xb2 \\xb1\\xd0\\xb2\\xd0 \\xd0\\xb2\\xd0\\xb0 \\xd0\\xb4\\xd0\\xb0 \\xd1\\x81\\xd1\\x82 \\x81\\xd1\\x82\\xd0 \\xd1\\x82\\xd0\\xb0 \\x82\\xd0\\xb0\\xd1 \\xd0\\xb0\\xd1\\x80 \\xb0\\xd1\\x80\\xd1 \\xd1\\x80\\xd1\\x82 \\x80\\xd1\\x82\\xd0 \\xd1\\x82\\xd0\\xb8 \\x82\\xd0\\xb8\\xd1 \\xd0\\xb8\\xd1\\x80 \\xb8\\xd1\\x80\\xd0 \\xd1\\x80\\xd0\\xb0 \\xd0\\xbd\\xd0\\xbe \\xbd\\xd0\\xbe\\xd0 \\xd0\\xbe\\xd0\\xb2 \\xd0\\xba\\xd0\\xbe \\xba\\xd0\\xbe\\xd0 \\xd0\\xbe\\xd0\\xbd \\xbe\\xd0\\xbd\\xd0 \\xd0\\xbd\\xd0\\xba \\xbd\\xd0\\xba\\xd1 \\xd0\\xba\\xd1\\x83 \\xba\\xd1\\x83\\xd1 \\xd1\\x83\\xd1\\x80 \\x83\\xd1\\x80\\xd0 \\xd1\\x80\\xd0\\xb5 \\x80\\xd0\\xb5\\xd0 \\xd0\\xb5\\xd0\\xbd \\xb5\\xd0\\xbd\\xd1 \\xd0\\xbd\\xd1\\x82 \\xbd\\xd1\\x82\\xd0 \\xd1\\x82\\xd0\\xb5 \\x82\\xd0\\xb5\\xd0 \\xd0\\xb5\\xd0\\xbd \\xd0\\xbc\\xd0\\xb0 \\xbc\\xd0\\xb0\\xd1 \\xd0\\xb0\\xd1\\x80 \\xb0\\xd1\\x80\\xd0 \\xd1\\x80\\xd0\\xb0 \\x80\\xd0\\xb0\\xd1 \\xd0\\xb0\\xd1\\x82 \\xb0\\xd1\\x82\\xd0 \\xd1\\x82\\xd0\\xbe \\x82\\xd0\\xbe\\xd0 \\xd0\\xbe\\xd0\\xbd \\xd0\\xb8 \\xd0\\xb8\\xd0\\xb7 \\xb8\\xd0\\xb7\\xd1 \\xd0\\xb7\\xd1\\x85 \\xb7\\xd1\\x85\\xd0 \\xd1\\x85\\xd0\\xbe \\x85\\xd0\\xbe\\xd0 \\xd0\\xbe\\xd0\\xb4 \\xd1\\x81 \\xd0\\xbf\\xd1\\x80 \\xbf\\xd1\\x80\\xd0 \\xd1\\x80\\xd0\\xb8 \\x80\\xd0\\xb8\\xd0 \\xd0\\xb8\\xd0\\xb2 \\xb8\\xd0\\xb2\\xd0 \\xd0\\xb2\\xd0\\xb0 \\xb2\\xd0\\xb0\\xd1 \\xd0\\xb0\\xd1\\x82 \\xb0\\xd1\\x82\\xd0 \\xd1\\x82\\xd0\\xb8 \\x82\\xd0\\xb8\\xd0 \\xd0\\xb8\\xd0\\xb7 \\xb8\\xd0\\xb7\\xd0 \\xd0\\xb7\\xd0\\xb0 \\xb7\\xd0\\xb0\\xd1 \\xd0\\xb0\\xd1\\x86 \\xb0\\xd1\\x86\\xd0 \\xd1\\x86\\xd0\\xb8 \\x86\\xd0\\xb8\\xd1 \\xd0\\xb8\\xd1\\x8f',\n",
       " 'CS \\xd0\\x9d\\xd0\\xb0 \\x9d\\xd0\\xb0\\xd0 \\xd0\\xb0\\xd0\\xb9 \\xb0\\xd0\\xb9- \\xd0\\xb9-\\xd0 \\xb9-\\xd0\\xb3 -\\xd0\\xb3\\xd0 \\xd0\\xb3\\xd0\\xbe \\xb3\\xd0\\xbe\\xd0 \\xd0\\xbe\\xd0\\xbb \\xbe\\xd0\\xbb\\xd1 \\xd0\\xbb\\xd1\\x8f \\xbb\\xd1\\x8f\\xd0 \\xd1\\x8f\\xd0\\xbc \\x8f\\xd0\\xbc\\xd0 \\xd0\\xbc\\xd0\\xb0 \\xbc\\xd0\\xb0\\xd1 \\xd0\\xb0\\xd1\\x82 \\xb0\\xd1\\x82\\xd0 \\xd1\\x82\\xd0\\xb0 \\xd0\\xbd\\xd0\\xb5 \\xbd\\xd0\\xb5\\xd1 \\xd0\\xb5\\xd1\\x81 \\xb5\\xd1\\x81\\xd0 \\xd1\\x81\\xd0\\xbf \\x81\\xd0\\xbf\\xd1 \\xd0\\xbf\\xd1\\x80 \\xbf\\xd1\\x80\\xd0 \\xd1\\x80\\xd0\\xb0 \\x80\\xd0\\xb0\\xd0 \\xd0\\xb0\\xd0\\xb2 \\xb0\\xd0\\xb2\\xd0 \\xd0\\xb2\\xd0\\xb5 \\xb2\\xd0\\xb5\\xd0 \\xd0\\xb5\\xd0\\xb4 \\xb5\\xd0\\xb4\\xd0 \\xd0\\xb4\\xd0\\xbb \\xb4\\xd0\\xbb\\xd0 \\xd0\\xbb\\xd0\\xb8 \\xbb\\xd0\\xb8\\xd0 \\xd0\\xb8\\xd0\\xb2 \\xb8\\xd0\\xb2\\xd0 \\xd0\\xb2\\xd0\\xbe \\xb2\\xd0\\xbe\\xd1 \\xd0\\xbe\\xd1\\x81 \\xbe\\xd1\\x81\\xd1 \\xd1\\x81\\xd1\\x82 \\xd0\\xbd\\xd0\\xb0 \\xd1\\x81\\xd0\\xb5 \\x81\\xd0\\xb5\\xd0 \\xd0\\xb5\\xd0\\xb3 \\xb5\\xd0\\xb3\\xd0 \\xd0\\xb3\\xd0\\xb0 \\xb3\\xd0\\xb0\\xd1 \\xd0\\xb0\\xd1\\x88 \\xb0\\xd1\\x88\\xd0 \\xd1\\x88\\xd0\\xbd \\x88\\xd0\\xbd\\xd0 \\xd0\\xbd\\xd0\\xb0 \\xbd\\xd0\\xb0\\xd1 \\xd0\\xb0\\xd1\\x82 \\xb0\\xd1\\x82\\xd0 \\xd1\\x82\\xd0\\xb0 \\xd0\\xbe\\xd0\\xb1 \\xbe\\xd0\\xb1\\xd1 \\xd0\\xb1\\xd1\\x89 \\xb1\\xd1\\x89\\xd0 \\xd1\\x89\\xd0\\xb0 \\xd1\\x81\\xd0\\xb5 \\x81\\xd0\\xb5\\xd0 \\xd0\\xb5\\xd0\\xbb \\xb5\\xd0\\xbb\\xd1 \\xd0\\xbb\\xd1\\x81 \\xbb\\xd1\\x81\\xd0 \\xd1\\x81\\xd0\\xba \\x81\\xd0\\xba\\xd0 \\xd0\\xba\\xd0\\xbe \\xba\\xd0\\xbe\\xd1 \\xd0\\xbe\\xd1\\x81 \\xbe\\xd1\\x81\\xd1 \\xd1\\x81\\xd1\\x82 \\x81\\xd1\\x82\\xd0 \\xd1\\x82\\xd0\\xbe \\x82\\xd0\\xbe\\xd0 \\xd0\\xbe\\xd0\\xbf \\xbe\\xd0\\xbf\\xd0 \\xd0\\xbf\\xd0\\xb0 \\xbf\\xd0\\xb0\\xd0 \\xd0\\xb0\\xd0\\xbd \\xb0\\xd0\\xbd\\xd1 \\xd0\\xbd\\xd1\\x81 \\xbd\\xd1\\x81\\xd0 \\xd1\\x81\\xd0\\xba \\x81\\xd0\\xba\\xd0 \\xd0\\xba\\xd0\\xb0 \\xd0\\xbf\\xd0\\xbe \\xbf\\xd0\\xbe\\xd0 \\xd0\\xbe\\xd0\\xbb \\xbe\\xd0\\xbb\\xd0 \\xd0\\xbb\\xd0\\xb8 \\xbb\\xd0\\xb8\\xd1 \\xd0\\xb8\\xd1\\x82 \\xb8\\xd1\\x82\\xd0 \\xd1\\x82\\xd0\\xb8 \\x82\\xd0\\xb8\\xd0 \\xd0\\xb8\\xd0\\xba \\xb8\\xd0\\xba\\xd0 \\xd0\\xba\\xd0\\xb0 \\xd0\\xb5 \\xd1\\x84\\xd0\\xb0 \\x84\\xd0\\xb0\\xd0 \\xd0\\xb0\\xd0\\xba \\xb0\\xd0\\xba\\xd1 \\xd0\\xba\\xd1\\x82 \\xba\\xd1\\x82\\xd1 \\xd1\\x82\\xd1\\x8a \\x82\\xd1\\x8a\\xd1 \\xd1\\x8a\\xd1\\x82 \\xd1\\x87\\xd0\\xb5 \\xd1\\x81\\xd1\\x83 \\x81\\xd1\\x83\\xd0 \\xd1\\x83\\xd0\\xb1 \\x83\\xd0\\xb1\\xd1 \\xd0\\xb1\\xd1\\x81 \\xb1\\xd1\\x81\\xd0 \\xd1\\x81\\xd0\\xb8 \\x81\\xd0\\xb8\\xd0 \\xd0\\xb8\\xd0\\xb4 \\xb8\\xd0\\xb4\\xd0 \\xd0\\xb4\\xd0\\xb8 \\xb4\\xd0\\xb8\\xd0 \\xd0\\xb8\\xd0\\xb8 \\xb8\\xd0\\xb8\\xd1 \\xd0\\xb8\\xd1\\x82 \\xb8\\xd1\\x82\\xd0 \\xd1\\x82\\xd0\\xb5 \\xd1\\x81\\xd0\\xb5 \\xd1\\x80\\xd0\\xb0 \\x80\\xd0\\xb0\\xd0 \\xd0\\xb0\\xd0\\xb7 \\xb0\\xd0\\xb7\\xd0 \\xd0\\xb7\\xd0\\xbf \\xb7\\xd0\\xbf\\xd1 \\xd0\\xbf\\xd1\\x80 \\xbf\\xd1\\x80\\xd0 \\xd1\\x80\\xd0\\xb5 \\x80\\xd0\\xb5\\xd0 \\xd0\\xb5\\xd0\\xb4 \\xb5\\xd0\\xb4\\xd0 \\xd0\\xb4\\xd0\\xb5 \\xb4\\xd0\\xb5\\xd0 \\xd0\\xb5\\xd0\\xbb \\xb5\\xd0\\xbb\\xd1 \\xd0\\xbb\\xd1\\x8f \\xbb\\xd1\\x8f\\xd1 \\xd1\\x8f\\xd1\\x82 \\xd0\\xbd\\xd0\\xb5 \\xbd\\xd0\\xb5\\xd1 \\xd0\\xb5\\xd1\\x80 \\xb5\\xd1\\x80\\xd0 \\xd1\\x80\\xd0\\xb0 \\x80\\xd0\\xb0\\xd0 \\xd0\\xb0\\xd0\\xb2 \\xb0\\xd0\\xb2\\xd0 \\xd0\\xb2\\xd0\\xbd \\xb2\\xd0\\xbd\\xd0 \\xd0\\xbd\\xd0\\xbe \\xbd\\xd0\\xbe\\xd1 \\xd0\\xbe\\xd1\\x81 \\xbe\\xd1\\x81\\xd1 \\xd1\\x81\\xd1\\x82 \\x81\\xd1\\x82\\xd0 \\xd1\\x82\\xd0\\xbe \\x82\\xd0\\xbe\\xd0 \\xd0\\xbe\\xd0\\xb9 \\xbe\\xd0\\xb9\\xd0 \\xd0\\xb9\\xd0\\xbd \\xb9\\xd0\\xbd\\xd0 \\xd0\\xbd\\xd0\\xbe \\xd0\\xb8 \\xd0\\xbd\\xd0\\xb5 \\xbd\\xd0\\xb5\\xd1 \\xd0\\xb5\\xd1\\x81 \\xb5\\xd1\\x81\\xd0 \\xd1\\x81\\xd0\\xbf \\x81\\xd0\\xbf\\xd1 \\xd0\\xbf\\xd1\\x80 \\xbf\\xd1\\x80\\xd0 \\xd1\\x80\\xd0\\xb0 \\x80\\xd0\\xb0\\xd0 \\xd0\\xb0\\xd0\\xb2 \\xb0\\xd0\\xb2\\xd0 \\xd0\\xb2\\xd0\\xb5 \\xb2\\xd0\\xb5\\xd0 \\xd0\\xb5\\xd0\\xb4 \\xb5\\xd0\\xb4\\xd0 \\xd0\\xb4\\xd0\\xbb \\xb4\\xd0\\xbb\\xd0 \\xd0\\xbb\\xd0\\xb8 \\xbb\\xd0\\xb8\\xd0 \\xd0\\xb8\\xd0\\xb2 \\xb8\\xd0\\xb2\\xd0 \\xd0\\xb2\\xd0\\xbe \\xd0\\xbc\\xd0\\xb5 \\xbc\\xd0\\xb5\\xd0 \\xd0\\xb5\\xd0\\xb6 \\xb5\\xd0\\xb6\\xd0 \\xd0\\xb6\\xd0\\xb4 \\xb6\\xd0\\xb4\\xd1 \\xd0\\xb4\\xd1\\x83 \\xd1\\x81\\xd1\\x82 \\x81\\xd1\\x82\\xd0 \\xd1\\x82\\xd0\\xb0 \\x82\\xd0\\xb0\\xd1 \\xd0\\xb0\\xd1\\x80 \\xb0\\xd1\\x80\\xd0 \\xd1\\x80\\xd0\\xb8 \\x80\\xd0\\xb8\\xd1 \\xd0\\xb8\\xd1\\x82 \\xb8\\xd1\\x82\\xd0 \\xd1\\x82\\xd0\\xb5 \\xd0\\xb8 \\xd0\\xbd\\xd0\\xbe \\xbd\\xd0\\xbe\\xd0 \\xd0\\xbe\\xd0\\xb2 \\xbe\\xd0\\xb2\\xd0 \\xd0\\xb2\\xd0\\xb8 \\xb2\\xd0\\xb8\\xd1 \\xd0\\xb8\\xd1\\x82 \\xb8\\xd1\\x82\\xd0 \\xd1\\x82\\xd0\\xb5 \\xd0\\xb4\\xd1\\x8a \\xb4\\xd1\\x8a\\xd1 \\xd1\\x8a\\xd1\\x80 \\x8a\\xd1\\x80\\xd0 \\xd1\\x80\\xd0\\xb6 \\x80\\xd0\\xb6\\xd0 \\xd0\\xb6\\xd0\\xb0 \\xb6\\xd0\\xb0\\xd0 \\xd0\\xb0\\xd0\\xb2 \\xb0\\xd0\\xb2\\xd0 \\xd0\\xb2\\xd0\\xb8 \\xb2\\xd0\\xb8- \\xd0\\xb8-\\xd1 \\xb8-\\xd1\\x87 -\\xd1\\x87\\xd0 \\xd1\\x87\\xd0\\xbb \\x87\\xd0\\xbb\\xd0 \\xd0\\xbb\\xd0\\xb5 \\xbb\\xd0\\xb5\\xd0 \\xd0\\xb5\\xd0\\xbd \\xb5\\xd0\\xbd\\xd0 \\xd0\\xbd\\xd0\\xba \\xbd\\xd0\\xba\\xd0 \\xd0\\xba\\xd0\\xb8']"
      ]
     },
     "execution_count": 20,
     "metadata": {},
     "output_type": "execute_result"
    }
   ],
   "source": [
    "new_data[:2]"
   ]
  },
  {
   "cell_type": "code",
   "execution_count": 21,
   "metadata": {},
   "outputs": [],
   "source": [
    "# Based on total occurence\n",
    "output_labels = []\n",
    "for i in range(len(new_data)):\n",
    "    count = {}\n",
    "    for key in lang_dict_n_gram.keys():\n",
    "        count[key] = 0\n",
    "    for token in new_data[i].split():\n",
    "        for key in lang_dict_n_gram.keys():\n",
    "            if token in lang_dict_n_gram[key]:\n",
    "                count[key] += lang_dict_n_gram[key][token]\n",
    "    best_lang, max_count = \"NN\", 0\n",
    "    for key in count.keys():\n",
    "        if count[key] > max_count:\n",
    "            best_lang = key\n",
    "            max_count = count[key]\n",
    "    output_labels.append(best_lang)"
   ]
  },
  {
   "cell_type": "code",
   "execution_count": 22,
   "metadata": {},
   "outputs": [
    {
     "name": "stdout",
     "output_type": "stream",
     "text": [
      "(21000, 21000)\n"
     ]
    }
   ],
   "source": [
    "print(len(output_labels), len(test_labels))"
   ]
  },
  {
   "cell_type": "code",
   "execution_count": 23,
   "metadata": {},
   "outputs": [
    {
     "name": "stdout",
     "output_type": "stream",
     "text": [
      "('Accuracy', 90.12380952380953)\n"
     ]
    }
   ],
   "source": [
    "correct_preds = 0\n",
    "for i in range(len(output_labels)):\n",
    "    if output_labels[i] == test_labels[i]:\n",
    "        correct_preds += 1\n",
    "print(\"Accuracy\", float(correct_preds)/len(output_labels)*100)"
   ]
  },
  {
   "cell_type": "code",
   "execution_count": 24,
   "metadata": {},
   "outputs": [],
   "source": [
    "# Based on 0-1 occurence\n",
    "output_labels = []\n",
    "for i in range(len(new_data)):\n",
    "    count = {}\n",
    "    for key in lang_dict_n_gram.keys():\n",
    "        count[key] = 0\n",
    "    for token in new_data[i].split():\n",
    "        for key in lang_dict_n_gram.keys():\n",
    "            if token in lang_dict_n_gram[key]:\n",
    "                count[key] += 1\n",
    "    best_lang, max_count = \"NN\", 0\n",
    "    for key in count.keys():\n",
    "        if count[key] > max_count:\n",
    "            best_lang = key\n",
    "            max_count = count[key]\n",
    "    output_labels.append(best_lang)"
   ]
  },
  {
   "cell_type": "code",
   "execution_count": 25,
   "metadata": {},
   "outputs": [
    {
     "name": "stdout",
     "output_type": "stream",
     "text": [
      "('Accuracy', 99.53333333333333)\n"
     ]
    }
   ],
   "source": [
    "correct_preds = 0\n",
    "for i in range(len(output_labels)):\n",
    "    if output_labels[i] == test_labels[i]:\n",
    "        correct_preds += 1\n",
    "print(\"Accuracy\", float(correct_preds)/len(output_labels)*100)"
   ]
  },
  {
   "cell_type": "markdown",
   "metadata": {},
   "source": [
    "#### **Wow!! Accuracy based on 0-1 occurence is 99.53% which is just perfect while if we include total frequency of each token, then the accuracy reduces to 90.12% which is not bad either.**"
   ]
  },
  {
   "cell_type": "code",
   "execution_count": 26,
   "metadata": {},
   "outputs": [
    {
     "name": "stdout",
     "output_type": "stream",
     "text": [
      "děk ěku �kuj kuji vám pane batt atte tten tene\n",
      "Actual Language cs | Predicted Language en\n",
      "{'pl': 2, 'el': 1, 'fr': 4, 'bg': 1, 'nl': 4, 'ro': 2, 'pt': 2, 'de': 4, 'sv': 4, 'da': 4, 'lv': 2, 'cs': 3, 'lt': 1, 'en': 5, 'sk': 1, 'sl': 1, 'it': 4, 'et': 4, 'hu': 5, 'fi': 5, 'es': 3}\n",
      "--------------------------------\n",
      "jmen meno enov nova oval vali se will illi llia liam meye eyer bern erna rnar nard star tari arie regi egin gina inal nald pike thom homa omas shaw jame ames mcle clei leis eish arch rchi chib hiba ibal bald barr arro rrow rowm owma wman a albe lber bert robe ober bert erts a vši šic �ich ichn chni budo udou v sobo obot botu vyzn yzna znam name amen men� ená nán áni\n",
      "Actual Language cs | Predicted Language sk\n",
      "{'pl': 28, 'el': 10, 'fr': 28, 'bg': 8, 'nl': 30, 'ro': 25, 'pt': 30, 'de': 34, 'sv': 29, 'da': 25, 'lv': 23, 'cs': 39, 'lt': 35, 'en': 33, 'sk': 40, 'sl': 29, 'it': 28, 'et': 30, 'hu': 26, 'fi': 27, 'es': 29}\n",
      "--------------------------------\n",
      "napr apro pros rost osto souh ouhl uhla hlas las� así sím s pane anem maat aate aten tene enem\n",
      "Actual Language cs | Predicted Language et\n",
      "{'pl': 9, 'el': 2, 'fr': 6, 'bg': 1, 'nl': 7, 'ro': 7, 'pt': 8, 'de': 6, 'sv': 8, 'da': 7, 'lv': 5, 'cs': 12, 'lt': 4, 'en': 6, 'sk': 11, 'sl': 10, 'it': 6, 'et': 13, 'hu': 6, 'fi': 11, 'es': 9}\n",
      "--------------------------------\n",
      "za prv� rvé jsem rád že exis xist istu stuj tuje\n",
      "Actual Language cs | Predicted Language sk\n",
      "{'pl': 2, 'el': 0, 'fr': 0, 'bg': 0, 'nl': 0, 'ro': 3, 'pt': 3, 'de': 3, 'sv': 0, 'da': 0, 'lv': 1, 'cs': 7, 'lt': 1, 'en': 1, 'sk': 8, 'sl': 4, 'it': 0, 'et': 2, 'hu': 2, 'fi': 2, 'es': 2}\n",
      "--------------------------------\n",
      "en nuls ulsa lsat sats er et spec peci ecif cifi ifik fikt tal\n",
      "Actual Language da | Predicted Language sv\n",
      "{'pl': 3, 'el': 1, 'fr': 6, 'bg': 2, 'nl': 7, 'ro': 5, 'pt': 5, 'de': 4, 'sv': 11, 'da': 11, 'lv': 7, 'cs': 6, 'lt': 5, 'en': 6, 'sk': 6, 'sl': 7, 'it': 5, 'et': 4, 'hu': 5, 'fi': 5, 'es': 7}\n",
      "--------------------------------\n",
      "men ting inge ngen gene gik galt ikke sand andt\n",
      "Actual Language da | Predicted Language sv\n",
      "{'pl': 4, 'el': 3, 'fr': 5, 'bg': 2, 'nl': 6, 'ro': 5, 'pt': 5, 'de': 6, 'sv': 7, 'da': 7, 'lv': 4, 'cs': 5, 'lt': 5, 'en': 6, 'sk': 4, 'sl': 4, 'it': 5, 'et': 7, 'hu': 6, 'fi': 5, 'es': 5}\n",
      "--------------------------------\n",
      "vi har den inte nter tern erna rnat nati atio tion iona onal nale kont onta ntak takt aktg ktgr tgru grup rupp uppe\n",
      "Actual Language da | Predicted Language sv\n",
      "{'pl': 15, 'el': 1, 'fr': 12, 'bg': 2, 'nl': 13, 'ro': 12, 'pt': 12, 'de': 19, 'sv': 21, 'da': 21, 'lv': 14, 'cs': 14, 'lt': 14, 'en': 12, 'sk': 12, 'sl': 13, 'it': 14, 'et': 16, 'hu': 10, 'fi': 9, 'es': 13}\n",
      "--------------------------------\n",
      "hr form orma rman mand mine dame amer og herr erre rrer\n",
      "Actual Language da | Predicted Language fr\n",
      "{'pl': 6, 'el': 1, 'fr': 9, 'bg': 2, 'nl': 9, 'ro': 8, 'pt': 7, 'de': 8, 'sv': 7, 'da': 9, 'lv': 6, 'cs': 6, 'lt': 6, 'en': 9, 'sk': 6, 'sl': 8, 'it': 8, 'et': 8, 'hu': 5, 'fi': 7, 'es': 9}\n",
      "--------------------------------\n",
      "dank anke herr maca acar cart artn rtne tney\n",
      "Actual Language de | Predicted Language nl\n",
      "{'pl': 2, 'el': 0, 'fr': 1, 'bg': 0, 'nl': 4, 'ro': 1, 'pt': 1, 'de': 4, 'sv': 3, 'da': 3, 'lv': 2, 'cs': 3, 'lt': 3, 'en': 4, 'sk': 3, 'sl': 3, 'it': 3, 'et': 3, 'hu': 2, 'fi': 1, 'es': 1}\n",
      "--------------------------------\n",
      "sein eine frau hat gewo ewon wonn onne nnen\n",
      "Actual Language de | Predicted Language nl\n",
      "{'pl': 2, 'el': 0, 'fr': 4, 'bg': 1, 'nl': 6, 'ro': 1, 'pt': 1, 'de': 5, 'sv': 1, 'da': 3, 'lv': 1, 'cs': 0, 'lt': 1, 'en': 2, 'sk': 1, 'sl': 0, 'it': 2, 'et': 2, 'hu': 3, 'fi': 3, 'es': 1}\n",
      "--------------------------------\n"
     ]
    }
   ],
   "source": [
    "# Test few cases where this model didn't work\n",
    "num_case = 0\n",
    "for i in range(len(output_labels)):\n",
    "    if output_labels[i] != test_labels[i]:\n",
    "        print(new_data[i])\n",
    "        print(\"Actual Language {0} | Predicted Language {1}\".format(test_labels[i], output_labels[i]))\n",
    "        count = {}\n",
    "        for key in lang_dict_n_gram.keys():\n",
    "            count[key] = 0\n",
    "        for token in new_data[i].split():\n",
    "            for key in lang_dict_n_gram.keys():\n",
    "                if token in lang_dict_n_gram[key]:\n",
    "                    count[key] += 1\n",
    "        print(count)\n",
    "        print(\"--------------------------------\")\n",
    "        num_case += 1\n",
    "        if num_case == 10:\n",
    "            break"
   ]
  },
  {
   "cell_type": "markdown",
   "metadata": {},
   "source": [
    "#### **If we actually notice the difference between actual language and predicted language, we see very less difference in terms of occurence of words/trigrams which gives a sense of similarity in those languages. In some cases they are equal.**"
   ]
  },
  {
   "cell_type": "code",
   "execution_count": 27,
   "metadata": {},
   "outputs": [
    {
     "name": "stdout",
     "output_type": "stream",
     "text": [
      "{'pl': 0, 'el': 0, 'fr': 5, 'bg': 0, 'nl': 1, 'ro': 2, 'pt': 11, 'de': 4, 'sv': 2, 'da': 4, 'lv': 3, 'cs': 4, 'lt': 1, 'en': 8, 'sk': 16, 'sl': 2, 'it': 10, 'et': 12, 'hu': 0, 'fi': 3, 'es': 10}\n"
     ]
    }
   ],
   "source": [
    "# Lets check which language has most wrong predictions\n",
    "wrong_pred = {}\n",
    "for key in lang_dict_n_gram.keys():\n",
    "    wrong_pred[key] = 0\n",
    "for i in range(len(output_labels)):\n",
    "    if output_labels[i] != test_labels[i]:\n",
    "        wrong_pred[test_labels[i]] += 1\n",
    "print(wrong_pred)"
   ]
  },
  {
   "cell_type": "code",
   "execution_count": 28,
   "metadata": {},
   "outputs": [],
   "source": [
    "%matplotlib inline\n",
    "import matplotlib.pyplot as plt"
   ]
  },
  {
   "cell_type": "code",
   "execution_count": 29,
   "metadata": {},
   "outputs": [
    {
     "data": {
      "image/png": "[encoded data removed]",
      "text/plain": [
       "<Figure size 432x288 with 1 Axes>"
      ]
     },
     "metadata": {},
     "output_type": "display_data"
    }
   ],
   "source": [
    "plt.bar(wrong_pred.keys(), wrong_pred.values())\n",
    "plt.show()"
   ]
  },
  {
   "cell_type": "markdown",
   "metadata": {},
   "source": [
    "The most number of mismatches happened with slovak(sk) - 16, Estonian(et) - 12, portugese(pt) - 11, italian(it) - 10, spanish(es) - 10. While bulgarian(bg), polish(pl), hungarian(hu) and greek(el) has true positive rate 1."
   ]
  },
  {
   "cell_type": "code",
   "execution_count": 30,
   "metadata": {},
   "outputs": [],
   "source": [
    "# Convert the classes to numbers\n",
    "classes_map = {}\n",
    "classes = []\n",
    "for ind, key in enumerate(count.keys()):\n",
    "    classes_map[key] = ind\n",
    "    classes.append(key)\n",
    "\n",
    "test_labels_n, output_labels_n = [], []\n",
    "for i in range(len(test_labels)):\n",
    "    test_labels_n.append(classes_map[test_labels[i]])\n",
    "    output_labels_n.append(classes_map[output_labels[i]])"
   ]
  },
  {
   "cell_type": "code",
   "execution_count": 31,
   "metadata": {},
   "outputs": [
    {
     "data": {
      "text/plain": [
       "Text(123,0.5,'True')"
      ]
     },
     "execution_count": 31,
     "metadata": {},
     "output_type": "execute_result"
    },
    {
     "data": {
      "image/png": "[encoded data removed]",
      "text/plain": [
       "<Figure size 1152x864 with 2 Axes>"
      ]
     },
     "metadata": {},
     "output_type": "display_data"
    }
   ],
   "source": [
    "# Plot confusion matrix\n",
    "from sklearn.metrics import confusion_matrix\n",
    "cnf_matrix = confusion_matrix(test_labels_n, output_labels_n)\n",
    "\n",
    "import seaborn as sns\n",
    "fig = plt.figure(figsize=(16,12))\n",
    "ax = fig.add_subplot(111)\n",
    "sns.heatmap(cnf_matrix, annot=True, fmt='g',ax=ax)\n",
    "ax.xaxis.set_ticklabels(classes)\n",
    "ax.yaxis.set_ticklabels(classes)\n",
    "plt.xlabel('Predicted')\n",
    "plt.ylabel('True')"
   ]
  },
  {
   "cell_type": "markdown",
   "metadata": {},
   "source": [
    "From confusion matrix we can seee that 42 English(en) sentences are classified as Dutch(nl). Lets see what are those sentences."
   ]
  },
  {
   "cell_type": "code",
   "execution_count": 32,
   "metadata": {},
   "outputs": [
    {
     "name": "stdout",
     "output_type": "stream",
     "text": [
      "at present this region is full of memories \n",
      "at pres rese esen sent this regi egio gion is full of memo emor mori orie ries\n",
      "----------------------------------------------\n",
      "mrs ibrahim we stand shoulder to shoulder with you in rejecting this cruelty and our rejection will be total \n",
      "mrs ibra brah rahi ahim we stan tand shou houl ould ulde lder to shou houl ould ulde lder with you in reje ejec ject ecti ctin ting this crue ruel uelt elty and our reje ejec ject ecti ctio tion will be tota otal\n",
      "----------------------------------------------\n",
      "the same has happened under other circumstances \n",
      "the same has happ appe ppen pene ened unde nder othe ther circ ircu rcum cums umst msta stan tanc ance nces\n",
      "----------------------------------------------\n",
      "the short answer to this is ‘no’ \n",
      "the shor hort answ nswe swer to this is ‘n ��no �no� no� o’\n",
      "----------------------------------------------\n",
      "we must help others to help themselves \n",
      "we must help othe ther hers to help them hems emse msel selv elve lves\n",
      "----------------------------------------------\n"
     ]
    }
   ],
   "source": [
    "counter = 0\n",
    "for i in range(len(output_labels)):\n",
    "    if (output_labels[i] == 'nl') and (test_labels[i] == 'en'):\n",
    "        print(test_data[i])\n",
    "        print(new_data[i])\n",
    "        print(\"----------------------------------------------\")\n",
    "        counter += 1\n",
    "    if counter == 5:\n",
    "        break"
   ]
  },
  {
   "cell_type": "markdown",
   "metadata": {},
   "source": [
    "**4-gram model is great. But since this model doesn't uses context, What if we include 4-grams and complete word together?**"
   ]
  },
  {
   "cell_type": "code",
   "execution_count": null,
   "metadata": {},
   "outputs": [],
   "source": []
  }
 ],
 "metadata": {
  "kernelspec": {
   "display_name": "Python 2",
   "language": "python",
   "name": "python2"
  },
  "language_info": {
   "codemirror_mode": {
    "name": "ipython",
    "version": 2
   },
   "file_extension": ".py",
   "mimetype": "text/x-python",
   "name": "python",
   "nbconvert_exporter": "python",
   "pygments_lexer": "ipython2",
   "version": "2.7.12"
  }
 },
 "nbformat": 4,
 "nbformat_minor": 2
}
