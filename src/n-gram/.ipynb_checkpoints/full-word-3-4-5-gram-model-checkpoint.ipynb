{
 "cells": [
  {
   "cell_type": "code",
   "execution_count": 1,
   "metadata": {},
   "outputs": [],
   "source": [
    "import numpy as np\n",
    "import pandas as pd\n",
    "import os\n",
    "import json\n",
    "import pickle\n",
    "import sys\n",
    "\n",
    "sys.path.insert(0,'/workspace/lang-detect/')"
   ]
  },
  {
   "cell_type": "code",
   "execution_count": 2,
   "metadata": {},
   "outputs": [],
   "source": [
    "with open('../data/lang_dict_full_word_3_4_5_gram.json', 'r') as f:\n",
    "    lang_dict_n_gram = pickle.load(f)"
   ]
  },
  {
   "cell_type": "code",
   "execution_count": 3,
   "metadata": {},
   "outputs": [
    {
     "name": "stdout",
     "output_type": "stream",
     "text": [
      "24208\n",
      "5480\n"
     ]
    }
   ],
   "source": [
    "print(len(lang_dict_n_gram['en'].keys()))\n",
    "print(lang_dict_n_gram['en']['the'])"
   ]
  },
  {
   "cell_type": "code",
   "execution_count": 5,
   "metadata": {},
   "outputs": [
    {
     "name": "stdout",
     "output_type": "stream",
     "text": [
      "('\"\\xd0\\x95\\xd0\\xb2\\xd1\\x80\\xd0\\xbe\\xd0\\xbf\\xd0\\xb0 2020\" \\xd0\\xbd\\xd0\\xb5 \\xd1\\x82\\xd1\\x80\\xd1\\x8f\\xd0\\xb1\\xd0\\xb2\\xd0\\xb0 \\xd0\\xb4\\xd0\\xb0 \\xd1\\x81\\xd1\\x82\\xd0\\xb0\\xd1\\x80\\xd1\\x82\\xd0\\xb8\\xd1\\x80\\xd0\\xb0 \\xd0\\xbd\\xd0\\xbe\\xd0\\xb2 \\xd0\\xba\\xd0\\xbe\\xd0\\xbd\\xd0\\xba\\xd1\\x83\\xd1\\x80\\xd0\\xb5\\xd0\\xbd\\xd1\\x82\\xd0\\xb5\\xd0\\xbd \\xd0\\xbc\\xd0\\xb0\\xd1\\x80\\xd0\\xb0\\xd1\\x82\\xd0\\xbe\\xd0\\xbd \\xd0\\xb8 \\xd0\\xb8\\xd0\\xb7\\xd1\\x85\\xd0\\xbe\\xd0\\xb4 \\xd1\\x81 \\xd0\\xbf\\xd1\\x80\\xd0\\xb8\\xd0\\xb2\\xd0\\xb0\\xd1\\x82\\xd0\\xb8\\xd0\\xb7\\xd0\\xb0\\xd1\\x86\\xd0\\xb8\\xd1\\x8f.', 'bg')\n"
     ]
    }
   ],
   "source": [
    "test_data, test_labels = [], []\n",
    "with open(\"../../europarl.test\", \"r\") as f:\n",
    "    for line in f:\n",
    "        line = line.split()\n",
    "        test_data.append(\" \".join(line[1:]))\n",
    "        test_labels.append(line[0])\n",
    "print(test_data[0], test_labels[0])"
   ]
  },
  {
   "cell_type": "code",
   "execution_count": 6,
   "metadata": {},
   "outputs": [
    {
     "name": "stdout",
     "output_type": "stream",
     "text": [
      "21000\n"
     ]
    }
   ],
   "source": [
    "print(len(test_data))"
   ]
  },
  {
   "cell_type": "code",
   "execution_count": 8,
   "metadata": {},
   "outputs": [],
   "source": [
    "from src import utils\n",
    "\n",
    "for i in range(len(test_data)):\n",
    "    test_data[i] = utils.preprocess(test_data[i])\n",
    "\n",
    "new_data = [0]*len(test_data)\n",
    "\n",
    "for i in range(len(test_data)):\n",
    "    new_data[i] = utils.create_full_word_and_multiple_n_gram(test_data[i], [3,4,5])"
   ]
  },
  {
   "cell_type": "code",
   "execution_count": 9,
   "metadata": {},
   "outputs": [
    {
     "data": {
      "text/plain": [
       "'\\xd0\\x95\\xd0\\xb2\\xd1\\x80\\xd0\\xbe\\xd0\\xbf\\xd0\\xb0 \\xd0\\x95\\xd0 \\x95\\xd0\\xb2 \\xd0\\xb2\\xd1 \\xb2\\xd1\\x80 \\xd1\\x80\\xd0 \\x80\\xd0\\xbe \\xd0\\xbe\\xd0 \\xbe\\xd0\\xbf \\xd0\\xbf\\xd0 \\xbf\\xd0\\xb0 \\xd0\\x95\\xd0\\xb2 \\x95\\xd0\\xb2\\xd1 \\xd0\\xb2\\xd1\\x80 \\xb2\\xd1\\x80\\xd0 \\xd1\\x80\\xd0\\xbe \\x80\\xd0\\xbe\\xd0 \\xd0\\xbe\\xd0\\xbf \\xbe\\xd0\\xbf\\xd0 \\xd0\\xbf\\xd0\\xb0 \\xd0\\x95\\xd0\\xb2\\xd1 \\x95\\xd0\\xb2\\xd1\\x80 \\xd0\\xb2\\xd1\\x80\\xd0 \\xb2\\xd1\\x80\\xd0\\xbe \\xd1\\x80\\xd0\\xbe\\xd0 \\x80\\xd0\\xbe\\xd0\\xbf \\xd0\\xbe\\xd0\\xbf\\xd0 \\xbe\\xd0\\xbf\\xd0\\xb0 \\xd0\\xbd\\xd0\\xb5 \\xd0\\xbd\\xd0 \\xbd\\xd0\\xb5 \\xd1\\x82\\xd1\\x80\\xd1\\x8f\\xd0\\xb1\\xd0\\xb2\\xd0\\xb0 \\xd1\\x82\\xd1 \\x82\\xd1\\x80 \\xd1\\x80\\xd1 \\x80\\xd1\\x8f \\xd1\\x8f\\xd0 \\x8f\\xd0\\xb1 \\xd0\\xb1\\xd0 \\xb1\\xd0\\xb2 \\xd0\\xb2\\xd0 \\xb2\\xd0\\xb0 \\xd1\\x82\\xd1\\x80 \\x82\\xd1\\x80\\xd1 \\xd1\\x80\\xd1\\x8f \\x80\\xd1\\x8f\\xd0 \\xd1\\x8f\\xd0\\xb1 \\x8f\\xd0\\xb1\\xd0 \\xd0\\xb1\\xd0\\xb2 \\xb1\\xd0\\xb2\\xd0 \\xd0\\xb2\\xd0\\xb0 \\xd1\\x82\\xd1\\x80\\xd1 \\x82\\xd1\\x80\\xd1\\x8f \\xd1\\x80\\xd1\\x8f\\xd0 \\x80\\xd1\\x8f\\xd0\\xb1 \\xd1\\x8f\\xd0\\xb1\\xd0 \\x8f\\xd0\\xb1\\xd0\\xb2 \\xd0\\xb1\\xd0\\xb2\\xd0 \\xb1\\xd0\\xb2\\xd0\\xb0 \\xd0\\xb4\\xd0\\xb0 \\xd0\\xb4\\xd0 \\xb4\\xd0\\xb0 \\xd1\\x81\\xd1\\x82\\xd0\\xb0\\xd1\\x80\\xd1\\x82\\xd0\\xb8\\xd1\\x80\\xd0\\xb0 \\xd1\\x81\\xd1 \\x81\\xd1\\x82 \\xd1\\x82\\xd0 \\x82\\xd0\\xb0 \\xd0\\xb0\\xd1 \\xb0\\xd1\\x80 \\xd1\\x80\\xd1 \\x80\\xd1\\x82 \\xd1\\x82\\xd0 \\x82\\xd0\\xb8 \\xd0\\xb8\\xd1 \\xb8\\xd1\\x80 \\xd1\\x80\\xd0 \\x80\\xd0\\xb0 \\xd1\\x81\\xd1\\x82 \\x81\\xd1\\x82\\xd0 \\xd1\\x82\\xd0\\xb0 \\x82\\xd0\\xb0\\xd1 \\xd0\\xb0\\xd1\\x80 \\xb0\\xd1\\x80\\xd1 \\xd1\\x80\\xd1\\x82 \\x80\\xd1\\x82\\xd0 \\xd1\\x82\\xd0\\xb8 \\x82\\xd0\\xb8\\xd1 \\xd0\\xb8\\xd1\\x80 \\xb8\\xd1\\x80\\xd0 \\xd1\\x80\\xd0\\xb0 \\xd1\\x81\\xd1\\x82\\xd0 \\x81\\xd1\\x82\\xd0\\xb0 \\xd1\\x82\\xd0\\xb0\\xd1 \\x82\\xd0\\xb0\\xd1\\x80 \\xd0\\xb0\\xd1\\x80\\xd1 \\xb0\\xd1\\x80\\xd1\\x82 \\xd1\\x80\\xd1\\x82\\xd0 \\x80\\xd1\\x82\\xd0\\xb8 \\xd1\\x82\\xd0\\xb8\\xd1 \\x82\\xd0\\xb8\\xd1\\x80 \\xd0\\xb8\\xd1\\x80\\xd0 \\xb8\\xd1\\x80\\xd0\\xb0 \\xd0\\xbd\\xd0\\xbe\\xd0\\xb2 \\xd0\\xbd\\xd0 \\xbd\\xd0\\xbe \\xd0\\xbe\\xd0 \\xbe\\xd0\\xb2 \\xd0\\xbd\\xd0\\xbe \\xbd\\xd0\\xbe\\xd0 \\xd0\\xbe\\xd0\\xb2 \\xd0\\xbd\\xd0\\xbe\\xd0 \\xbd\\xd0\\xbe\\xd0\\xb2 \\xd0\\xba\\xd0\\xbe\\xd0\\xbd\\xd0\\xba\\xd1\\x83\\xd1\\x80\\xd0\\xb5\\xd0\\xbd\\xd1\\x82\\xd0\\xb5\\xd0\\xbd \\xd0\\xba\\xd0 \\xba\\xd0\\xbe \\xd0\\xbe\\xd0 \\xbe\\xd0\\xbd \\xd0\\xbd\\xd0 \\xbd\\xd0\\xba \\xd0\\xba\\xd1 \\xba\\xd1\\x83 \\xd1\\x83\\xd1 \\x83\\xd1\\x80 \\xd1\\x80\\xd0 \\x80\\xd0\\xb5 \\xd0\\xb5\\xd0 \\xb5\\xd0\\xbd \\xd0\\xbd\\xd1 \\xbd\\xd1\\x82 \\xd1\\x82\\xd0 \\x82\\xd0\\xb5 \\xd0\\xb5\\xd0 \\xb5\\xd0\\xbd \\xd0\\xba\\xd0\\xbe \\xba\\xd0\\xbe\\xd0 \\xd0\\xbe\\xd0\\xbd \\xbe\\xd0\\xbd\\xd0 \\xd0\\xbd\\xd0\\xba \\xbd\\xd0\\xba\\xd1 \\xd0\\xba\\xd1\\x83 \\xba\\xd1\\x83\\xd1 \\xd1\\x83\\xd1\\x80 \\x83\\xd1\\x80\\xd0 \\xd1\\x80\\xd0\\xb5 \\x80\\xd0\\xb5\\xd0 \\xd0\\xb5\\xd0\\xbd \\xb5\\xd0\\xbd\\xd1 \\xd0\\xbd\\xd1\\x82 \\xbd\\xd1\\x82\\xd0 \\xd1\\x82\\xd0\\xb5 \\x82\\xd0\\xb5\\xd0 \\xd0\\xb5\\xd0\\xbd \\xd0\\xba\\xd0\\xbe\\xd0 \\xba\\xd0\\xbe\\xd0\\xbd \\xd0\\xbe\\xd0\\xbd\\xd0 \\xbe\\xd0\\xbd\\xd0\\xba \\xd0\\xbd\\xd0\\xba\\xd1 \\xbd\\xd0\\xba\\xd1\\x83 \\xd0\\xba\\xd1\\x83\\xd1 \\xba\\xd1\\x83\\xd1\\x80 \\xd1\\x83\\xd1\\x80\\xd0 \\x83\\xd1\\x80\\xd0\\xb5 \\xd1\\x80\\xd0\\xb5\\xd0 \\x80\\xd0\\xb5\\xd0\\xbd \\xd0\\xb5\\xd0\\xbd\\xd1 \\xb5\\xd0\\xbd\\xd1\\x82 \\xd0\\xbd\\xd1\\x82\\xd0 \\xbd\\xd1\\x82\\xd0\\xb5 \\xd1\\x82\\xd0\\xb5\\xd0 \\x82\\xd0\\xb5\\xd0\\xbd \\xd0\\xbc\\xd0\\xb0\\xd1\\x80\\xd0\\xb0\\xd1\\x82\\xd0\\xbe\\xd0\\xbd \\xd0\\xbc\\xd0 \\xbc\\xd0\\xb0 \\xd0\\xb0\\xd1 \\xb0\\xd1\\x80 \\xd1\\x80\\xd0 \\x80\\xd0\\xb0 \\xd0\\xb0\\xd1 \\xb0\\xd1\\x82 \\xd1\\x82\\xd0 \\x82\\xd0\\xbe \\xd0\\xbe\\xd0 \\xbe\\xd0\\xbd \\xd0\\xbc\\xd0\\xb0 \\xbc\\xd0\\xb0\\xd1 \\xd0\\xb0\\xd1\\x80 \\xb0\\xd1\\x80\\xd0 \\xd1\\x80\\xd0\\xb0 \\x80\\xd0\\xb0\\xd1 \\xd0\\xb0\\xd1\\x82 \\xb0\\xd1\\x82\\xd0 \\xd1\\x82\\xd0\\xbe \\x82\\xd0\\xbe\\xd0 \\xd0\\xbe\\xd0\\xbd \\xd0\\xbc\\xd0\\xb0\\xd1 \\xbc\\xd0\\xb0\\xd1\\x80 \\xd0\\xb0\\xd1\\x80\\xd0 \\xb0\\xd1\\x80\\xd0\\xb0 \\xd1\\x80\\xd0\\xb0\\xd1 \\x80\\xd0\\xb0\\xd1\\x82 \\xd0\\xb0\\xd1\\x82\\xd0 \\xb0\\xd1\\x82\\xd0\\xbe \\xd1\\x82\\xd0\\xbe\\xd0 \\x82\\xd0\\xbe\\xd0\\xbd \\xd0\\xb8 \\xd0\\xb8\\xd0\\xb7\\xd1\\x85\\xd0\\xbe\\xd0\\xb4 \\xd0\\xb8\\xd0 \\xb8\\xd0\\xb7 \\xd0\\xb7\\xd1 \\xb7\\xd1\\x85 \\xd1\\x85\\xd0 \\x85\\xd0\\xbe \\xd0\\xbe\\xd0 \\xbe\\xd0\\xb4 \\xd0\\xb8\\xd0\\xb7 \\xb8\\xd0\\xb7\\xd1 \\xd0\\xb7\\xd1\\x85 \\xb7\\xd1\\x85\\xd0 \\xd1\\x85\\xd0\\xbe \\x85\\xd0\\xbe\\xd0 \\xd0\\xbe\\xd0\\xb4 \\xd0\\xb8\\xd0\\xb7\\xd1 \\xb8\\xd0\\xb7\\xd1\\x85 \\xd0\\xb7\\xd1\\x85\\xd0 \\xb7\\xd1\\x85\\xd0\\xbe \\xd1\\x85\\xd0\\xbe\\xd0 \\x85\\xd0\\xbe\\xd0\\xb4 \\xd1\\x81 \\xd0\\xbf\\xd1\\x80\\xd0\\xb8\\xd0\\xb2\\xd0\\xb0\\xd1\\x82\\xd0\\xb8\\xd0\\xb7\\xd0\\xb0\\xd1\\x86\\xd0\\xb8\\xd1\\x8f \\xd0\\xbf\\xd1 \\xbf\\xd1\\x80 \\xd1\\x80\\xd0 \\x80\\xd0\\xb8 \\xd0\\xb8\\xd0 \\xb8\\xd0\\xb2 \\xd0\\xb2\\xd0 \\xb2\\xd0\\xb0 \\xd0\\xb0\\xd1 \\xb0\\xd1\\x82 \\xd1\\x82\\xd0 \\x82\\xd0\\xb8 \\xd0\\xb8\\xd0 \\xb8\\xd0\\xb7 \\xd0\\xb7\\xd0 \\xb7\\xd0\\xb0 \\xd0\\xb0\\xd1 \\xb0\\xd1\\x86 \\xd1\\x86\\xd0 \\x86\\xd0\\xb8 \\xd0\\xb8\\xd1 \\xb8\\xd1\\x8f \\xd0\\xbf\\xd1\\x80 \\xbf\\xd1\\x80\\xd0 \\xd1\\x80\\xd0\\xb8 \\x80\\xd0\\xb8\\xd0 \\xd0\\xb8\\xd0\\xb2 \\xb8\\xd0\\xb2\\xd0 \\xd0\\xb2\\xd0\\xb0 \\xb2\\xd0\\xb0\\xd1 \\xd0\\xb0\\xd1\\x82 \\xb0\\xd1\\x82\\xd0 \\xd1\\x82\\xd0\\xb8 \\x82\\xd0\\xb8\\xd0 \\xd0\\xb8\\xd0\\xb7 \\xb8\\xd0\\xb7\\xd0 \\xd0\\xb7\\xd0\\xb0 \\xb7\\xd0\\xb0\\xd1 \\xd0\\xb0\\xd1\\x86 \\xb0\\xd1\\x86\\xd0 \\xd1\\x86\\xd0\\xb8 \\x86\\xd0\\xb8\\xd1 \\xd0\\xb8\\xd1\\x8f \\xd0\\xbf\\xd1\\x80\\xd0 \\xbf\\xd1\\x80\\xd0\\xb8 \\xd1\\x80\\xd0\\xb8\\xd0 \\x80\\xd0\\xb8\\xd0\\xb2 \\xd0\\xb8\\xd0\\xb2\\xd0 \\xb8\\xd0\\xb2\\xd0\\xb0 \\xd0\\xb2\\xd0\\xb0\\xd1 \\xb2\\xd0\\xb0\\xd1\\x82 \\xd0\\xb0\\xd1\\x82\\xd0 \\xb0\\xd1\\x82\\xd0\\xb8 \\xd1\\x82\\xd0\\xb8\\xd0 \\x82\\xd0\\xb8\\xd0\\xb7 \\xd0\\xb8\\xd0\\xb7\\xd0 \\xb8\\xd0\\xb7\\xd0\\xb0 \\xd0\\xb7\\xd0\\xb0\\xd1 \\xb7\\xd0\\xb0\\xd1\\x86 \\xd0\\xb0\\xd1\\x86\\xd0 \\xb0\\xd1\\x86\\xd0\\xb8 \\xd1\\x86\\xd0\\xb8\\xd1 \\x86\\xd0\\xb8\\xd1\\x8f'"
      ]
     },
     "execution_count": 9,
     "metadata": {},
     "output_type": "execute_result"
    }
   ],
   "source": [
    "new_data[0]"
   ]
  },
  {
   "cell_type": "code",
   "execution_count": 10,
   "metadata": {},
   "outputs": [],
   "source": [
    "# Based on total occurence\n",
    "output_labels = []\n",
    "for i in range(len(new_data)):\n",
    "    count = {}\n",
    "    for key in lang_dict_n_gram.keys():\n",
    "        count[key] = 0\n",
    "    for token in new_data[i].split():\n",
    "        for key in lang_dict_n_gram.keys():\n",
    "            if token in lang_dict_n_gram[key]:\n",
    "                count[key] += lang_dict_n_gram[key][token]\n",
    "    best_lang, max_count = \"NN\", 0\n",
    "    for key in count.keys():\n",
    "        if count[key] > max_count:\n",
    "            best_lang = key\n",
    "            max_count = count[key]\n",
    "    output_labels.append(best_lang)"
   ]
  },
  {
   "cell_type": "code",
   "execution_count": 11,
   "metadata": {},
   "outputs": [
    {
     "name": "stdout",
     "output_type": "stream",
     "text": [
      "(21000, 21000)\n"
     ]
    }
   ],
   "source": [
    "print(len(output_labels), len(test_labels))"
   ]
  },
  {
   "cell_type": "code",
   "execution_count": 12,
   "metadata": {},
   "outputs": [
    {
     "name": "stdout",
     "output_type": "stream",
     "text": [
      "('Accuracy', 93.12857142857143)\n"
     ]
    }
   ],
   "source": [
    "correct_preds = 0\n",
    "for i in range(len(output_labels)):\n",
    "    if output_labels[i] == test_labels[i]:\n",
    "        correct_preds += 1\n",
    "print(\"Accuracy\", float(correct_preds)/len(output_labels)*100)"
   ]
  },
  {
   "cell_type": "code",
   "execution_count": 13,
   "metadata": {},
   "outputs": [],
   "source": [
    "# Based on 0-1 occurence\n",
    "output_labels = []\n",
    "for i in range(len(new_data)):\n",
    "    count = {}\n",
    "    for key in lang_dict_n_gram.keys():\n",
    "        count[key] = 0\n",
    "    for token in new_data[i].split():\n",
    "        for key in lang_dict_n_gram.keys():\n",
    "            if token in lang_dict_n_gram[key]:\n",
    "                count[key] += 1\n",
    "    best_lang, max_count = \"NN\", 0\n",
    "    for key in count.keys():\n",
    "        if count[key] > max_count:\n",
    "            best_lang = key\n",
    "            max_count = count[key]\n",
    "    output_labels.append(best_lang)"
   ]
  },
  {
   "cell_type": "code",
   "execution_count": 14,
   "metadata": {},
   "outputs": [
    {
     "name": "stdout",
     "output_type": "stream",
     "text": [
      "('Accuracy', 99.53809523809524)\n"
     ]
    }
   ],
   "source": [
    "correct_preds = 0\n",
    "for i in range(len(output_labels)):\n",
    "    if output_labels[i] == test_labels[i]:\n",
    "        correct_preds += 1\n",
    "print(\"Accuracy\", float(correct_preds)/len(output_labels)*100)"
   ]
  },
  {
   "cell_type": "markdown",
   "metadata": {},
   "source": [
    "#### **Accuracy based on 0-1 occurence is 99.53% which is less than full-word-4-gram model while if we include total frequency of each token, then the accuracy reduces to 93.12% which is better from corresponding full-word-4-gram model.**"
   ]
  },
  {
   "cell_type": "code",
   "execution_count": 16,
   "metadata": {},
   "outputs": [
    {
     "name": "stdout",
     "output_type": "stream",
     "text": [
      "co jsme jsm sme tím tí ím tehdy teh ehd hdy tehd ehdy dali dal ali najevo naj aje jev evo naje ajev jevo najev ajevo\n",
      "Actual Language cs | Predicted Language fi\n",
      "{'pl': 8, 'el': 4, 'fr': 11, 'bg': 3, 'nl': 11, 'ro': 12, 'pt': 13, 'de': 12, 'sv': 11, 'da': 12, 'lv': 11, 'cs': 15, 'lt': 10, 'en': 11, 'sk': 15, 'sl': 13, 'it': 11, 'et': 13, 'hu': 12, 'fi': 16, 'es': 12}\n",
      "--------------------------------\n",
      "jmenovali jme men eno nov ova val ali jmen meno enov nova oval vali jmeno menov enova noval ovali se william wil ill lli lia iam will illi llia liam willi illia lliam meyer mey eye yer meye eyer bernard ber ern rna nar ard bern erna rnar nard berna ernar rnard starie sta tar ari rie star tari arie stari tarie reginald reg egi gin ina nal ald regi egin gina inal nald regin egina ginal inald pike pik ike thomas tho hom oma mas thom homa omas thoma homas shaw sha haw james jam ame mes jame ames mcleish mcl cle lei eis ish mcle clei leis eish mclei cleis leish archibald arc rch chi hib iba bal ald arch rchi chib hiba ibal bald archi rchib chiba hibal ibald barrowman bar arr rro row owm wma man barr arro rrow rowm owma wman barro arrow rrowm rowma owman a albert alb lbe ber ert albe lber bert alber lbert roberts rob obe ber ert rts robe ober bert erts rober obert berts a všichni vš ši �ic ich chn hni vši šic �ich ichn chni všic šich �ichn ichni budou bud udo dou budo udou v sobotu sob obo bot otu sobo obot botu sobot obotu vyznamenáni vyz yzn zna nam ame men en� ná án �ni vyzn yzna znam name amen men� ená nán áni vyzna yznam zname namen amen� mená enán náni\n",
      "Actual Language cs | Predicted Language sk\n",
      "{'pl': 107, 'el': 57, 'fr': 104, 'bg': 49, 'nl': 113, 'ro': 91, 'pt': 106, 'de': 113, 'sv': 102, 'da': 97, 'lv': 94, 'cs': 123, 'lt': 114, 'en': 111, 'sk': 128, 'sl': 105, 'it': 99, 'et': 107, 'hu': 104, 'fi': 103, 'es': 108}\n",
      "--------------------------------\n",
      "jsme jsm sme plni pln lni nadšení nad ad� dš še �en en� ní nad� adš dše šen �en� ení nadš adše dšen šen� �ení že se Čína Č� �í ín �na Čí �ín ína Čín �ína stane sta tan ane stan tane zemí zem em� mí zem� emí míru mí ír �ru mír íru\n",
      "Actual Language cs | Predicted Language sk\n",
      "{'pl': 14, 'el': 6, 'fr': 14, 'bg': 8, 'nl': 13, 'ro': 10, 'pt': 19, 'de': 12, 'sv': 13, 'da': 13, 'lv': 13, 'cs': 43, 'lt': 21, 'en': 11, 'sk': 44, 'sl': 18, 'it': 11, 'et': 18, 'hu': 20, 'fi': 17, 'es': 18}\n",
      "--------------------------------\n",
      "da den alligevel all lli lig ige gev eve vel alli llig lige igev geve evel allig llige ligev igeve gevel produceres pro rod odu duc uce cer ere res prod rodu oduc duce ucer cere eres produ roduc oduce ducer ucere ceres industrielt ind ndu dus ust str tri rie iel elt indu ndus dust ustr stri trie riel ielt indus ndust dustr ustri strie triel rielt skal ska kal også ogs gs� så ogs� gså disse dis iss sse diss isse producenter pro rod odu duc uce cen ent nte ter prod rodu oduc duce ucen cent ente nter produ roduc oduce ducen ucent cente enter have hav ave en plads pla lad ads plad lads i eus administration adm dmi min ini nis ist str tra rat ati tio ion admi dmin mini inis nist istr stra trat rati atio tion admin dmini minis inist nistr istra strat trati ratio ation\n",
      "Actual Language da | Predicted Language sv\n",
      "{'pl': 84, 'el': 46, 'fr': 110, 'bg': 37, 'nl': 124, 'ro': 104, 'pt': 101, 'de': 99, 'sv': 126, 'da': 126, 'lv': 97, 'cs': 89, 'lt': 96, 'en': 116, 'sk': 94, 'sl': 88, 'it': 111, 'et': 94, 'hu': 81, 'fi': 77, 'es': 109}\n",
      "--------------------------------\n",
      "folk fol olk fik konfiskeret kon onf nfi fis isk ske ker ere ret konf onfi nfis fisk iske sker kere eret konfi onfis nfisk fiske isker skere keret deres der ere res dere eres radiometre rad adi dio iom ome met etr tre radi adio diom iome omet metr etre radio adiom diome iomet ometr metre og de spiser spi pis ise ser spis pise iser spise piser radioaktiv rad adi dio ioa oak akt kti tiv radi adio dioa ioak oakt akti ktiv radio adioa dioak ioakt oakti aktiv mad\n",
      "Actual Language da | Predicted Language sv\n",
      "{'pl': 58, 'el': 27, 'fr': 40, 'bg': 24, 'nl': 53, 'ro': 47, 'pt': 44, 'de': 64, 'sv': 74, 'da': 74, 'lv': 64, 'cs': 64, 'lt': 62, 'en': 46, 'sk': 55, 'sl': 55, 'it': 46, 'et': 66, 'hu': 64, 'fi': 63, 'es': 42}\n",
      "--------------------------------\n"
     ]
    }
   ],
   "source": [
    "# Test few cases where this model didn't work\n",
    "num_case = 0\n",
    "for i in range(len(output_labels)):\n",
    "    if output_labels[i] != test_labels[i]:\n",
    "        print(new_data[i])\n",
    "        print(\"Actual Language {0} | Predicted Language {1}\".format(test_labels[i], output_labels[i]))\n",
    "        count = {}\n",
    "        for key in lang_dict_n_gram.keys():\n",
    "            count[key] = 0\n",
    "        for token in new_data[i].split():\n",
    "            for key in lang_dict_n_gram.keys():\n",
    "                if token in lang_dict_n_gram[key]:\n",
    "                    count[key] += 1\n",
    "        print(count)\n",
    "        print(\"--------------------------------\")\n",
    "        num_case += 1\n",
    "        if num_case == 5:\n",
    "            break"
   ]
  },
  {
   "cell_type": "markdown",
   "metadata": {},
   "source": [
    "#### **If we actually notice the difference between actual language and predicted language, we see very less difference in terms of occurence of words/trigrams which gives a sense of similarity in those languages. In some cases they are equal.**"
   ]
  },
  {
   "cell_type": "code",
   "execution_count": 17,
   "metadata": {},
   "outputs": [
    {
     "name": "stdout",
     "output_type": "stream",
     "text": [
      "{'pl': 0, 'el': 0, 'fr': 7, 'bg': 0, 'nl': 1, 'ro': 3, 'pt': 11, 'de': 5, 'sv': 4, 'da': 4, 'lv': 1, 'cs': 3, 'lt': 0, 'en': 8, 'sk': 15, 'sl': 4, 'it': 7, 'et': 10, 'hu': 0, 'fi': 0, 'es': 14}\n"
     ]
    }
   ],
   "source": [
    "# Lets check which language has most wrong predictions\n",
    "wrong_pred = {}\n",
    "for key in lang_dict_n_gram.keys():\n",
    "    wrong_pred[key] = 0\n",
    "for i in range(len(output_labels)):\n",
    "    if output_labels[i] != test_labels[i]:\n",
    "        wrong_pred[test_labels[i]] += 1\n",
    "print(wrong_pred)"
   ]
  },
  {
   "cell_type": "code",
   "execution_count": 18,
   "metadata": {},
   "outputs": [],
   "source": [
    "%matplotlib inline\n",
    "import matplotlib.pyplot as plt"
   ]
  },
  {
   "cell_type": "code",
   "execution_count": 19,
   "metadata": {},
   "outputs": [
    {
     "data": {
      "image/png": "[encoded data removed]",
      "text/plain": [
       "<Figure size 432x288 with 1 Axes>"
      ]
     },
     "metadata": {},
     "output_type": "display_data"
    }
   ],
   "source": [
    "plt.bar(wrong_pred.keys(), wrong_pred.values())\n",
    "plt.show()"
   ]
  },
  {
   "cell_type": "markdown",
   "metadata": {},
   "source": [
    "The most number of mismatches happened with slovak(sk) - 15, Estonian(et) - 10, portugese(pt) - 11, italian(it) - 7, spanish(es) - 14. While bulgarian(bg), polish(pl), hungarian(hu), lithuanian(lt), finnish(fi) and greek(el) has true positive rate 1. "
   ]
  },
  {
   "cell_type": "code",
   "execution_count": 20,
   "metadata": {},
   "outputs": [],
   "source": [
    "# Convert the classes to numbers\n",
    "classes_map = {}\n",
    "classes = []\n",
    "for ind, key in enumerate(count.keys()):\n",
    "    classes_map[key] = ind\n",
    "    classes.append(key)\n",
    "\n",
    "test_labels_n, output_labels_n = [], []\n",
    "for i in range(len(test_labels)):\n",
    "    test_labels_n.append(classes_map[test_labels[i]])\n",
    "    output_labels_n.append(classes_map[output_labels[i]])"
   ]
  },
  {
   "cell_type": "code",
   "execution_count": 21,
   "metadata": {},
   "outputs": [
    {
     "data": {
      "text/plain": [
       "Text(123,0.5,'True')"
      ]
     },
     "execution_count": 21,
     "metadata": {},
     "output_type": "execute_result"
    },
    {
     "data": {
      "image/png": "[encoded data removed]",
      "text/plain": [
       "<Figure size 1152x864 with 2 Axes>"
      ]
     },
     "metadata": {},
     "output_type": "display_data"
    }
   ],
   "source": [
    "# Plot confusion matrix\n",
    "from sklearn.metrics import confusion_matrix\n",
    "cnf_matrix = confusion_matrix(test_labels_n, output_labels_n)\n",
    "\n",
    "import seaborn as sns\n",
    "fig = plt.figure(figsize=(16,12))\n",
    "ax = fig.add_subplot(111)\n",
    "sns.heatmap(cnf_matrix, annot=True, fmt='g',ax=ax)\n",
    "ax.xaxis.set_ticklabels(classes)\n",
    "ax.yaxis.set_ticklabels(classes)\n",
    "plt.xlabel('Predicted')\n",
    "plt.ylabel('True')"
   ]
  },
  {
   "cell_type": "markdown",
   "metadata": {},
   "source": [
    "From confusion matrix we can seee that 42 English(en) sentences are classified as Dutch(nl). Lets see what are those sentences."
   ]
  },
  {
   "cell_type": "code",
   "execution_count": 22,
   "metadata": {},
   "outputs": [
    {
     "name": "stdout",
     "output_type": "stream",
     "text": [
      "even half of that would be too much’ \n",
      "even eve ven half hal alf of that tha hat would wou oul uld woul ould be too much’ muc uch ch� h� ’ much uch� ch� h’ much� uch� ch’\n",
      "----------------------------------------------\n",
      "the same has happened under other circumstances \n",
      "the same sam ame has happened hap app ppe pen ene ned happ appe ppen pene ened happe appen ppene pened under und nde der unde nder other oth the her othe ther circumstances cir irc rcu cum ums mst sta tan anc nce ces circ ircu rcum cums umst msta stan tanc ance nces circu ircum rcums cumst umsta mstan stanc tance ances\n",
      "----------------------------------------------\n",
      "the short answer to this is ‘no’ \n",
      "the short sho hor ort shor hort answer ans nsw swe wer answ nswe swer answe nswer to this thi his is ‘no’ ‘ ��n �no no� o� ’ ‘n ��no �no� no� o’ ‘no ��no� �no� no’\n",
      "----------------------------------------------\n",
      "we must help others to help themselves \n",
      "we must mus ust help hel elp others oth the her ers othe ther hers other thers to help hel elp themselves the hem ems mse sel elv lve ves them hems emse msel selv elve lves thems hemse emsel mselv selve elves\n",
      "----------------------------------------------\n"
     ]
    }
   ],
   "source": [
    "counter = 0\n",
    "for i in range(len(output_labels)):\n",
    "    if (output_labels[i] == 'nl') and (test_labels[i] == 'en'):\n",
    "        print(test_data[i])\n",
    "        print(new_data[i])\n",
    "        print(\"----------------------------------------------\")\n",
    "        counter += 1\n",
    "    if counter == 5:\n",
    "        break"
   ]
  },
  {
   "cell_type": "markdown",
   "metadata": {},
   "source": [
    "**Full word and 4-gram model is great. 5-gram, 4-gram, 3-gram and full words we have slightly reduced performance.**"
   ]
  },
  {
   "cell_type": "code",
   "execution_count": null,
   "metadata": {},
   "outputs": [],
   "source": []
  }
 ],
 "metadata": {
  "kernelspec": {
   "display_name": "Python 2",
   "language": "python",
   "name": "python2"
  },
  "language_info": {
   "codemirror_mode": {
    "name": "ipython",
    "version": 2
   },
   "file_extension": ".py",
   "mimetype": "text/x-python",
   "name": "python",
   "nbconvert_exporter": "python",
   "pygments_lexer": "ipython2",
   "version": "2.7.12"
  }
 },
 "nbformat": 4,
 "nbformat_minor": 2
}
