{
 "cells": [
  {
   "cell_type": "code",
   "execution_count": 1,
   "metadata": {},
   "outputs": [],
   "source": [
    "import numpy as np\n",
    "import pandas as pd\n",
    "import os\n",
    "import json\n",
    "import pickle\n",
    "import sys\n",
    "\n",
    "sys.path.insert(0,'/workspace/lang-detect/')"
   ]
  },
  {
   "cell_type": "code",
   "execution_count": 2,
   "metadata": {},
   "outputs": [],
   "source": [
    "with open('../data/lang_dict_full_word_4_5_gram.json', 'r') as f:\n",
    "    lang_dict_n_gram = pickle.load(f)"
   ]
  },
  {
   "cell_type": "code",
   "execution_count": 3,
   "metadata": {},
   "outputs": [
    {
     "name": "stdout",
     "output_type": "stream",
     "text": [
      "20338\n",
      "5324\n"
     ]
    }
   ],
   "source": [
    "print(len(lang_dict_n_gram['en'].keys()))\n",
    "print(lang_dict_n_gram['en']['the'])"
   ]
  },
  {
   "cell_type": "code",
   "execution_count": 4,
   "metadata": {},
   "outputs": [
    {
     "name": "stdout",
     "output_type": "stream",
     "text": [
      "('\"\\xd0\\x95\\xd0\\xb2\\xd1\\x80\\xd0\\xbe\\xd0\\xbf\\xd0\\xb0 2020\" \\xd0\\xbd\\xd0\\xb5 \\xd1\\x82\\xd1\\x80\\xd1\\x8f\\xd0\\xb1\\xd0\\xb2\\xd0\\xb0 \\xd0\\xb4\\xd0\\xb0 \\xd1\\x81\\xd1\\x82\\xd0\\xb0\\xd1\\x80\\xd1\\x82\\xd0\\xb8\\xd1\\x80\\xd0\\xb0 \\xd0\\xbd\\xd0\\xbe\\xd0\\xb2 \\xd0\\xba\\xd0\\xbe\\xd0\\xbd\\xd0\\xba\\xd1\\x83\\xd1\\x80\\xd0\\xb5\\xd0\\xbd\\xd1\\x82\\xd0\\xb5\\xd0\\xbd \\xd0\\xbc\\xd0\\xb0\\xd1\\x80\\xd0\\xb0\\xd1\\x82\\xd0\\xbe\\xd0\\xbd \\xd0\\xb8 \\xd0\\xb8\\xd0\\xb7\\xd1\\x85\\xd0\\xbe\\xd0\\xb4 \\xd1\\x81 \\xd0\\xbf\\xd1\\x80\\xd0\\xb8\\xd0\\xb2\\xd0\\xb0\\xd1\\x82\\xd0\\xb8\\xd0\\xb7\\xd0\\xb0\\xd1\\x86\\xd0\\xb8\\xd1\\x8f.', 'bg')\n"
     ]
    }
   ],
   "source": [
    "test_data, test_labels = [], []\n",
    "with open(\"/workspace/lang-detect/europarl.test\", \"r\") as f:\n",
    "    for line in f:\n",
    "        line = line.split()\n",
    "        test_data.append(\" \".join(line[1:]))\n",
    "        test_labels.append(line[0])\n",
    "print(test_data[0], test_labels[0])"
   ]
  },
  {
   "cell_type": "code",
   "execution_count": 5,
   "metadata": {},
   "outputs": [
    {
     "name": "stdout",
     "output_type": "stream",
     "text": [
      "21000\n"
     ]
    }
   ],
   "source": [
    "print(len(test_data))"
   ]
  },
  {
   "cell_type": "code",
   "execution_count": 6,
   "metadata": {},
   "outputs": [],
   "source": [
    "from src import utils\n",
    "\n",
    "for i in range(len(test_data)):\n",
    "    test_data[i] = utils.preprocess(test_data[i])\n",
    "\n",
    "new_data = [0]*len(test_data)\n",
    "\n",
    "for i in range(len(test_data)):\n",
    "    new_data[i] = utils.create_full_word_and_multiple_n_gram(test_data[i], [4,5])"
   ]
  },
  {
   "cell_type": "code",
   "execution_count": 7,
   "metadata": {},
   "outputs": [
    {
     "data": {
      "text/plain": [
       "'\\xd0\\x95\\xd0\\xb2\\xd1\\x80\\xd0\\xbe\\xd0\\xbf\\xd0\\xb0 \\xd0\\x95\\xd0\\xb2 \\x95\\xd0\\xb2\\xd1 \\xd0\\xb2\\xd1\\x80 \\xb2\\xd1\\x80\\xd0 \\xd1\\x80\\xd0\\xbe \\x80\\xd0\\xbe\\xd0 \\xd0\\xbe\\xd0\\xbf \\xbe\\xd0\\xbf\\xd0 \\xd0\\xbf\\xd0\\xb0 \\xd0\\x95\\xd0\\xb2\\xd1 \\x95\\xd0\\xb2\\xd1\\x80 \\xd0\\xb2\\xd1\\x80\\xd0 \\xb2\\xd1\\x80\\xd0\\xbe \\xd1\\x80\\xd0\\xbe\\xd0 \\x80\\xd0\\xbe\\xd0\\xbf \\xd0\\xbe\\xd0\\xbf\\xd0 \\xbe\\xd0\\xbf\\xd0\\xb0 \\xd0\\xbd\\xd0\\xb5 \\xd1\\x82\\xd1\\x80\\xd1\\x8f\\xd0\\xb1\\xd0\\xb2\\xd0\\xb0 \\xd1\\x82\\xd1\\x80 \\x82\\xd1\\x80\\xd1 \\xd1\\x80\\xd1\\x8f \\x80\\xd1\\x8f\\xd0 \\xd1\\x8f\\xd0\\xb1 \\x8f\\xd0\\xb1\\xd0 \\xd0\\xb1\\xd0\\xb2 \\xb1\\xd0\\xb2\\xd0 \\xd0\\xb2\\xd0\\xb0 \\xd1\\x82\\xd1\\x80\\xd1 \\x82\\xd1\\x80\\xd1\\x8f \\xd1\\x80\\xd1\\x8f\\xd0 \\x80\\xd1\\x8f\\xd0\\xb1 \\xd1\\x8f\\xd0\\xb1\\xd0 \\x8f\\xd0\\xb1\\xd0\\xb2 \\xd0\\xb1\\xd0\\xb2\\xd0 \\xb1\\xd0\\xb2\\xd0\\xb0 \\xd0\\xb4\\xd0\\xb0 \\xd1\\x81\\xd1\\x82\\xd0\\xb0\\xd1\\x80\\xd1\\x82\\xd0\\xb8\\xd1\\x80\\xd0\\xb0 \\xd1\\x81\\xd1\\x82 \\x81\\xd1\\x82\\xd0 \\xd1\\x82\\xd0\\xb0 \\x82\\xd0\\xb0\\xd1 \\xd0\\xb0\\xd1\\x80 \\xb0\\xd1\\x80\\xd1 \\xd1\\x80\\xd1\\x82 \\x80\\xd1\\x82\\xd0 \\xd1\\x82\\xd0\\xb8 \\x82\\xd0\\xb8\\xd1 \\xd0\\xb8\\xd1\\x80 \\xb8\\xd1\\x80\\xd0 \\xd1\\x80\\xd0\\xb0 \\xd1\\x81\\xd1\\x82\\xd0 \\x81\\xd1\\x82\\xd0\\xb0 \\xd1\\x82\\xd0\\xb0\\xd1 \\x82\\xd0\\xb0\\xd1\\x80 \\xd0\\xb0\\xd1\\x80\\xd1 \\xb0\\xd1\\x80\\xd1\\x82 \\xd1\\x80\\xd1\\x82\\xd0 \\x80\\xd1\\x82\\xd0\\xb8 \\xd1\\x82\\xd0\\xb8\\xd1 \\x82\\xd0\\xb8\\xd1\\x80 \\xd0\\xb8\\xd1\\x80\\xd0 \\xb8\\xd1\\x80\\xd0\\xb0 \\xd0\\xbd\\xd0\\xbe\\xd0\\xb2 \\xd0\\xbd\\xd0\\xbe \\xbd\\xd0\\xbe\\xd0 \\xd0\\xbe\\xd0\\xb2 \\xd0\\xbd\\xd0\\xbe\\xd0 \\xbd\\xd0\\xbe\\xd0\\xb2 \\xd0\\xba\\xd0\\xbe\\xd0\\xbd\\xd0\\xba\\xd1\\x83\\xd1\\x80\\xd0\\xb5\\xd0\\xbd\\xd1\\x82\\xd0\\xb5\\xd0\\xbd \\xd0\\xba\\xd0\\xbe \\xba\\xd0\\xbe\\xd0 \\xd0\\xbe\\xd0\\xbd \\xbe\\xd0\\xbd\\xd0 \\xd0\\xbd\\xd0\\xba \\xbd\\xd0\\xba\\xd1 \\xd0\\xba\\xd1\\x83 \\xba\\xd1\\x83\\xd1 \\xd1\\x83\\xd1\\x80 \\x83\\xd1\\x80\\xd0 \\xd1\\x80\\xd0\\xb5 \\x80\\xd0\\xb5\\xd0 \\xd0\\xb5\\xd0\\xbd \\xb5\\xd0\\xbd\\xd1 \\xd0\\xbd\\xd1\\x82 \\xbd\\xd1\\x82\\xd0 \\xd1\\x82\\xd0\\xb5 \\x82\\xd0\\xb5\\xd0 \\xd0\\xb5\\xd0\\xbd \\xd0\\xba\\xd0\\xbe\\xd0 \\xba\\xd0\\xbe\\xd0\\xbd \\xd0\\xbe\\xd0\\xbd\\xd0 \\xbe\\xd0\\xbd\\xd0\\xba \\xd0\\xbd\\xd0\\xba\\xd1 \\xbd\\xd0\\xba\\xd1\\x83 \\xd0\\xba\\xd1\\x83\\xd1 \\xba\\xd1\\x83\\xd1\\x80 \\xd1\\x83\\xd1\\x80\\xd0 \\x83\\xd1\\x80\\xd0\\xb5 \\xd1\\x80\\xd0\\xb5\\xd0 \\x80\\xd0\\xb5\\xd0\\xbd \\xd0\\xb5\\xd0\\xbd\\xd1 \\xb5\\xd0\\xbd\\xd1\\x82 \\xd0\\xbd\\xd1\\x82\\xd0 \\xbd\\xd1\\x82\\xd0\\xb5 \\xd1\\x82\\xd0\\xb5\\xd0 \\x82\\xd0\\xb5\\xd0\\xbd \\xd0\\xbc\\xd0\\xb0\\xd1\\x80\\xd0\\xb0\\xd1\\x82\\xd0\\xbe\\xd0\\xbd \\xd0\\xbc\\xd0\\xb0 \\xbc\\xd0\\xb0\\xd1 \\xd0\\xb0\\xd1\\x80 \\xb0\\xd1\\x80\\xd0 \\xd1\\x80\\xd0\\xb0 \\x80\\xd0\\xb0\\xd1 \\xd0\\xb0\\xd1\\x82 \\xb0\\xd1\\x82\\xd0 \\xd1\\x82\\xd0\\xbe \\x82\\xd0\\xbe\\xd0 \\xd0\\xbe\\xd0\\xbd \\xd0\\xbc\\xd0\\xb0\\xd1 \\xbc\\xd0\\xb0\\xd1\\x80 \\xd0\\xb0\\xd1\\x80\\xd0 \\xb0\\xd1\\x80\\xd0\\xb0 \\xd1\\x80\\xd0\\xb0\\xd1 \\x80\\xd0\\xb0\\xd1\\x82 \\xd0\\xb0\\xd1\\x82\\xd0 \\xb0\\xd1\\x82\\xd0\\xbe \\xd1\\x82\\xd0\\xbe\\xd0 \\x82\\xd0\\xbe\\xd0\\xbd \\xd0\\xb8 \\xd0\\xb8\\xd0\\xb7\\xd1\\x85\\xd0\\xbe\\xd0\\xb4 \\xd0\\xb8\\xd0\\xb7 \\xb8\\xd0\\xb7\\xd1 \\xd0\\xb7\\xd1\\x85 \\xb7\\xd1\\x85\\xd0 \\xd1\\x85\\xd0\\xbe \\x85\\xd0\\xbe\\xd0 \\xd0\\xbe\\xd0\\xb4 \\xd0\\xb8\\xd0\\xb7\\xd1 \\xb8\\xd0\\xb7\\xd1\\x85 \\xd0\\xb7\\xd1\\x85\\xd0 \\xb7\\xd1\\x85\\xd0\\xbe \\xd1\\x85\\xd0\\xbe\\xd0 \\x85\\xd0\\xbe\\xd0\\xb4 \\xd1\\x81 \\xd0\\xbf\\xd1\\x80\\xd0\\xb8\\xd0\\xb2\\xd0\\xb0\\xd1\\x82\\xd0\\xb8\\xd0\\xb7\\xd0\\xb0\\xd1\\x86\\xd0\\xb8\\xd1\\x8f \\xd0\\xbf\\xd1\\x80 \\xbf\\xd1\\x80\\xd0 \\xd1\\x80\\xd0\\xb8 \\x80\\xd0\\xb8\\xd0 \\xd0\\xb8\\xd0\\xb2 \\xb8\\xd0\\xb2\\xd0 \\xd0\\xb2\\xd0\\xb0 \\xb2\\xd0\\xb0\\xd1 \\xd0\\xb0\\xd1\\x82 \\xb0\\xd1\\x82\\xd0 \\xd1\\x82\\xd0\\xb8 \\x82\\xd0\\xb8\\xd0 \\xd0\\xb8\\xd0\\xb7 \\xb8\\xd0\\xb7\\xd0 \\xd0\\xb7\\xd0\\xb0 \\xb7\\xd0\\xb0\\xd1 \\xd0\\xb0\\xd1\\x86 \\xb0\\xd1\\x86\\xd0 \\xd1\\x86\\xd0\\xb8 \\x86\\xd0\\xb8\\xd1 \\xd0\\xb8\\xd1\\x8f \\xd0\\xbf\\xd1\\x80\\xd0 \\xbf\\xd1\\x80\\xd0\\xb8 \\xd1\\x80\\xd0\\xb8\\xd0 \\x80\\xd0\\xb8\\xd0\\xb2 \\xd0\\xb8\\xd0\\xb2\\xd0 \\xb8\\xd0\\xb2\\xd0\\xb0 \\xd0\\xb2\\xd0\\xb0\\xd1 \\xb2\\xd0\\xb0\\xd1\\x82 \\xd0\\xb0\\xd1\\x82\\xd0 \\xb0\\xd1\\x82\\xd0\\xb8 \\xd1\\x82\\xd0\\xb8\\xd0 \\x82\\xd0\\xb8\\xd0\\xb7 \\xd0\\xb8\\xd0\\xb7\\xd0 \\xb8\\xd0\\xb7\\xd0\\xb0 \\xd0\\xb7\\xd0\\xb0\\xd1 \\xb7\\xd0\\xb0\\xd1\\x86 \\xd0\\xb0\\xd1\\x86\\xd0 \\xb0\\xd1\\x86\\xd0\\xb8 \\xd1\\x86\\xd0\\xb8\\xd1 \\x86\\xd0\\xb8\\xd1\\x8f'"
      ]
     },
     "execution_count": 7,
     "metadata": {},
     "output_type": "execute_result"
    }
   ],
   "source": [
    "new_data[0]"
   ]
  },
  {
   "cell_type": "code",
   "execution_count": 8,
   "metadata": {},
   "outputs": [],
   "source": [
    "# Based on total occurence\n",
    "output_labels = []\n",
    "for i in range(len(new_data)):\n",
    "    count = {}\n",
    "    for key in lang_dict_n_gram.keys():\n",
    "        count[key] = 0\n",
    "    for token in new_data[i].split():\n",
    "        for key in lang_dict_n_gram.keys():\n",
    "            if token in lang_dict_n_gram[key]:\n",
    "                count[key] += lang_dict_n_gram[key][token]\n",
    "    best_lang, max_count = \"NN\", 0\n",
    "    for key in count.keys():\n",
    "        if count[key] > max_count:\n",
    "            best_lang = key\n",
    "            max_count = count[key]\n",
    "    output_labels.append(best_lang)"
   ]
  },
  {
   "cell_type": "code",
   "execution_count": 9,
   "metadata": {},
   "outputs": [
    {
     "name": "stdout",
     "output_type": "stream",
     "text": [
      "(21000, 21000)\n"
     ]
    }
   ],
   "source": [
    "print(len(output_labels), len(test_labels))"
   ]
  },
  {
   "cell_type": "code",
   "execution_count": 10,
   "metadata": {},
   "outputs": [
    {
     "name": "stdout",
     "output_type": "stream",
     "text": [
      "('Accuracy', 91.7)\n"
     ]
    }
   ],
   "source": [
    "correct_preds = 0\n",
    "for i in range(len(output_labels)):\n",
    "    if output_labels[i] == test_labels[i]:\n",
    "        correct_preds += 1\n",
    "print(\"Accuracy\", float(correct_preds)/len(output_labels)*100)"
   ]
  },
  {
   "cell_type": "code",
   "execution_count": 11,
   "metadata": {},
   "outputs": [],
   "source": [
    "# Based on 0-1 occurence\n",
    "output_labels = []\n",
    "for i in range(len(new_data)):\n",
    "    count = {}\n",
    "    for key in lang_dict_n_gram.keys():\n",
    "        count[key] = 0\n",
    "    for token in new_data[i].split():\n",
    "        for key in lang_dict_n_gram.keys():\n",
    "            if token in lang_dict_n_gram[key]:\n",
    "                count[key] += 1\n",
    "    best_lang, max_count = \"NN\", 0\n",
    "    for key in count.keys():\n",
    "        if count[key] > max_count:\n",
    "            best_lang = key\n",
    "            max_count = count[key]\n",
    "    output_labels.append(best_lang)"
   ]
  },
  {
   "cell_type": "code",
   "execution_count": 12,
   "metadata": {},
   "outputs": [
    {
     "name": "stdout",
     "output_type": "stream",
     "text": [
      "('Accuracy', 99.55238095238094)\n"
     ]
    }
   ],
   "source": [
    "correct_preds = 0\n",
    "for i in range(len(output_labels)):\n",
    "    if output_labels[i] == test_labels[i]:\n",
    "        correct_preds += 1\n",
    "print(\"Accuracy\", float(correct_preds)/len(output_labels)*100)"
   ]
  },
  {
   "cell_type": "markdown",
   "metadata": {},
   "source": [
    "#### **Accuracy based on 0-1 occurence is 99.55% which is less than full-word-4-gram model while if we include total frequency of each token, then the accuracy reduces to 91.7% .**"
   ]
  },
  {
   "cell_type": "code",
   "execution_count": 14,
   "metadata": {},
   "outputs": [
    {
     "name": "stdout",
     "output_type": "stream",
     "text": [
      "co jsme tím tehdy tehd ehdy dali najevo naje ajev jevo najev ajevo\n",
      "Actual Language cs | Predicted Language fi\n",
      "{'pl': 1, 'el': 0, 'fr': 4, 'bg': 0, 'nl': 4, 'ro': 4, 'pt': 4, 'de': 4, 'sv': 4, 'da': 4, 'lv': 2, 'cs': 5, 'lt': 2, 'en': 4, 'sk': 4, 'sl': 4, 'it': 4, 'et': 4, 'hu': 2, 'fi': 6, 'es': 4}\n",
      "--------------------------------\n",
      "děkuji děk ěku �kuj kuji děku ěkuj �kuji vám pane battene batt atte tten tene batte atten ttene\n",
      "Actual Language cs | Predicted Language en\n",
      "{'pl': 2, 'el': 1, 'fr': 5, 'bg': 1, 'nl': 6, 'ro': 2, 'pt': 2, 'de': 6, 'sv': 6, 'da': 6, 'lv': 2, 'cs': 3, 'lt': 1, 'en': 7, 'sk': 1, 'sl': 1, 'it': 6, 'et': 4, 'hu': 6, 'fi': 5, 'es': 3}\n",
      "--------------------------------\n",
      "jmenovali jmen meno enov nova oval vali jmeno menov enova noval ovali se william will illi llia liam willi illia lliam meyer meye eyer bernard bern erna rnar nard berna ernar rnard starie star tari arie stari tarie reginald regi egin gina inal nald regin egina ginal inald pike thomas thom homa omas thoma homas shaw james jame ames mcleish mcle clei leis eish mclei cleis leish archibald arch rchi chib hiba ibal bald archi rchib chiba hibal ibald barrowman barr arro rrow rowm owma wman barro arrow rrowm rowma owman a albert albe lber bert alber lbert roberts robe ober bert erts rober obert berts a všichni vši šic �ich ichn chni všic šich �ichn ichni budou budo udou v sobotu sobo obot botu sobot obotu vyznamenáni vyzn yzna znam name amen men� ená nán áni vyzna yznam zname namen amen� mená enán náni\n",
      "Actual Language cs | Predicted Language sk\n",
      "{'pl': 33, 'el': 13, 'fr': 33, 'bg': 11, 'nl': 39, 'ro': 29, 'pt': 36, 'de': 42, 'sv': 33, 'da': 29, 'lv': 28, 'cs': 49, 'lt': 41, 'en': 39, 'sk': 52, 'sl': 37, 'it': 35, 'et': 34, 'hu': 31, 'fi': 32, 'es': 38}\n",
      "--------------------------------\n",
      "jsme plni nadšení nad� adš dše šen �en� ení nadš adše dšen šen� �ení že se Čína Čí �ín ína Čín �ína stane stan tane zemí zem� emí míru mír íru\n",
      "Actual Language cs | Predicted Language sk\n",
      "{'pl': 4, 'el': 0, 'fr': 3, 'bg': 1, 'nl': 3, 'ro': 3, 'pt': 4, 'de': 1, 'sv': 2, 'da': 2, 'lv': 2, 'cs': 19, 'lt': 8, 'en': 2, 'sk': 20, 'sl': 6, 'it': 2, 'et': 4, 'hu': 5, 'fi': 4, 'es': 3}\n",
      "--------------------------------\n",
      "měli měl ěli bychom bych ycho chom bycho ychom toto téma tém éma nechat nech echa chat necha echat stranout stra tran rano anou nout stran trano ranou anout\n",
      "Actual Language cs | Predicted Language sk\n",
      "{'pl': 5, 'el': 0, 'fr': 7, 'bg': 0, 'nl': 4, 'ro': 3, 'pt': 6, 'de': 4, 'sv': 3, 'da': 4, 'lv': 3, 'cs': 10, 'lt': 5, 'en': 3, 'sk': 12, 'sl': 4, 'it': 4, 'et': 2, 'hu': 6, 'fi': 4, 'es': 5}\n",
      "--------------------------------\n"
     ]
    }
   ],
   "source": [
    "# Test few cases where this model didn't work\n",
    "num_case = 0\n",
    "for i in range(len(output_labels)):\n",
    "    if output_labels[i] != test_labels[i]:\n",
    "        print(new_data[i])\n",
    "        print(\"Actual Language {0} | Predicted Language {1}\".format(test_labels[i], output_labels[i]))\n",
    "        count = {}\n",
    "        for key in lang_dict_n_gram.keys():\n",
    "            count[key] = 0\n",
    "        for token in new_data[i].split():\n",
    "            for key in lang_dict_n_gram.keys():\n",
    "                if token in lang_dict_n_gram[key]:\n",
    "                    count[key] += 1\n",
    "        print(count)\n",
    "        print(\"--------------------------------\")\n",
    "        num_case += 1\n",
    "        if num_case == 5:\n",
    "            break"
   ]
  },
  {
   "cell_type": "markdown",
   "metadata": {},
   "source": [
    "#### **If we actually notice the difference between actual language and predicted language, we see very less difference in terms of occurence of words/trigrams which gives a sense of similarity in those languages. In some cases they are equal.**"
   ]
  },
  {
   "cell_type": "code",
   "execution_count": 15,
   "metadata": {},
   "outputs": [
    {
     "name": "stdout",
     "output_type": "stream",
     "text": [
      "{'pl': 1, 'el': 0, 'fr': 5, 'bg': 0, 'nl': 1, 'ro': 5, 'pt': 10, 'de': 5, 'sv': 3, 'da': 4, 'lv': 1, 'cs': 5, 'lt': 0, 'en': 5, 'sk': 15, 'sl': 3, 'it': 5, 'et': 11, 'hu': 0, 'fi': 0, 'es': 15}\n"
     ]
    }
   ],
   "source": [
    "# Lets check which language has most wrong predictions\n",
    "wrong_pred = {}\n",
    "for key in lang_dict_n_gram.keys():\n",
    "    wrong_pred[key] = 0\n",
    "for i in range(len(output_labels)):\n",
    "    if output_labels[i] != test_labels[i]:\n",
    "        wrong_pred[test_labels[i]] += 1\n",
    "print(wrong_pred)"
   ]
  },
  {
   "cell_type": "code",
   "execution_count": 16,
   "metadata": {},
   "outputs": [],
   "source": [
    "%matplotlib inline\n",
    "import matplotlib.pyplot as plt"
   ]
  },
  {
   "cell_type": "code",
   "execution_count": 17,
   "metadata": {},
   "outputs": [
    {
     "data": {
      "image/png": "[encoded data removed]",
      "text/plain": [
       "<Figure size 432x288 with 1 Axes>"
      ]
     },
     "metadata": {},
     "output_type": "display_data"
    }
   ],
   "source": [
    "plt.bar(wrong_pred.keys(), wrong_pred.values())\n",
    "plt.show()"
   ]
  },
  {
   "cell_type": "code",
   "execution_count": 18,
   "metadata": {},
   "outputs": [],
   "source": [
    "# Convert the classes to numbers\n",
    "classes_map = {}\n",
    "classes = []\n",
    "for ind, key in enumerate(count.keys()):\n",
    "    classes_map[key] = ind\n",
    "    classes.append(key)\n",
    "\n",
    "test_labels_n, output_labels_n = [], []\n",
    "for i in range(len(test_labels)):\n",
    "    test_labels_n.append(classes_map[test_labels[i]])\n",
    "    output_labels_n.append(classes_map[output_labels[i]])"
   ]
  },
  {
   "cell_type": "code",
   "execution_count": 19,
   "metadata": {},
   "outputs": [
    {
     "data": {
      "text/plain": [
       "Text(123,0.5,'True')"
      ]
     },
     "execution_count": 19,
     "metadata": {},
     "output_type": "execute_result"
    },
    {
     "data": {
      "image/png": "[encoded data removed]",
      "text/plain": [
       "<Figure size 1152x864 with 2 Axes>"
      ]
     },
     "metadata": {},
     "output_type": "display_data"
    }
   ],
   "source": [
    "# Plot confusion matrix\n",
    "from sklearn.metrics import confusion_matrix\n",
    "cnf_matrix = confusion_matrix(test_labels_n, output_labels_n)\n",
    "\n",
    "import seaborn as sns\n",
    "fig = plt.figure(figsize=(16,12))\n",
    "ax = fig.add_subplot(111)\n",
    "sns.heatmap(cnf_matrix, annot=True, fmt='g',ax=ax)\n",
    "ax.xaxis.set_ticklabels(classes)\n",
    "ax.yaxis.set_ticklabels(classes)\n",
    "plt.xlabel('Predicted')\n",
    "plt.ylabel('True')"
   ]
  },
  {
   "cell_type": "markdown",
   "metadata": {},
   "source": [
    "From confusion matrix we can seee that 42 English(en) sentences are classified as Dutch(nl). Lets see what are those sentences."
   ]
  },
  {
   "cell_type": "code",
   "execution_count": 20,
   "metadata": {},
   "outputs": [
    {
     "name": "stdout",
     "output_type": "stream",
     "text": [
      "the same has happened under other circumstances \n",
      "the same has happened happ appe ppen pene ened happe appen ppene pened under unde nder other othe ther circumstances circ ircu rcum cums umst msta stan tanc ance nces circu ircum rcums cumst umsta mstan stanc tance ances\n",
      "----------------------------------------------\n",
      "we must help others to help themselves \n",
      "we must help others othe ther hers other thers to help themselves them hems emse msel selv elve lves thems hemse emsel mselv selve elves\n",
      "----------------------------------------------\n"
     ]
    }
   ],
   "source": [
    "counter = 0\n",
    "for i in range(len(output_labels)):\n",
    "    if (output_labels[i] == 'nl') and (test_labels[i] == 'en'):\n",
    "        print(test_data[i])\n",
    "        print(new_data[i])\n",
    "        print(\"----------------------------------------------\")\n",
    "        counter += 1\n",
    "    if counter == 5:\n",
    "        break"
   ]
  },
  {
   "cell_type": "code",
   "execution_count": null,
   "metadata": {},
   "outputs": [],
   "source": []
  }
 ],
 "metadata": {
  "kernelspec": {
   "display_name": "Python 2",
   "language": "python",
   "name": "python2"
  },
  "language_info": {
   "codemirror_mode": {
    "name": "ipython",
    "version": 2
   },
   "file_extension": ".py",
   "mimetype": "text/x-python",
   "name": "python",
   "nbconvert_exporter": "python",
   "pygments_lexer": "ipython2",
   "version": "2.7.12"
  }
 },
 "nbformat": 4,
 "nbformat_minor": 2
}
