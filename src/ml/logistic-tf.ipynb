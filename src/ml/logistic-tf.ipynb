{
 "cells": [
  {
   "cell_type": "code",
   "execution_count": 1,
   "metadata": {},
   "outputs": [],
   "source": [
    "import numpy as np\n",
    "import tensorflow as tf\n",
    "import os\n",
    "import sys\n",
    "from gensim.models import Word2Vec\n",
    "import math"
   ]
  },
  {
   "cell_type": "markdown",
   "metadata": {},
   "source": [
    "**Define functions**"
   ]
  },
  {
   "cell_type": "code",
   "execution_count": 2,
   "metadata": {},
   "outputs": [],
   "source": [
    "# Create placeholders\n",
    "X = tf.placeholder(shape=(None, None), dtype=tf.int32)\n",
    "Y = tf.placeholder(shape=(None), dtype=tf.int32)"
   ]
  },
  {
   "cell_type": "code",
   "execution_count": 3,
   "metadata": {},
   "outputs": [],
   "source": [
    "# Create RNN\n",
    "def get_init_cell(batch_size, rnn_size):\n",
    "    \"\"\"\n",
    "    Create an RNN Cell and initialize it.\n",
    "        :param batch_size: Size of batches\n",
    "        :param rnn_size: Size of RNNs\n",
    "        :return: Tuple (cell, initialize state)\n",
    "    \"\"\"\n",
    "    lstm_cell = tf.nn.rnn_cell.BasicLSTMCell(rnn_size)\n",
    "    initial_state = lstm_cell.zero_state(batch_size, dtype=tf.float32)\n",
    "    return lstm_cell, initial_state\n",
    "\n",
    "def build_rnn(cell, inputs, num_classes):\n",
    "    outputs, final_state = tf.nn.dynamic_rnn(cell, inputs, dtype=tf.float32)\n",
    "    logits = tf.contrib.layers.fully_connected(outputs, num_classes, \n",
    "                                               activation_fn=None,\n",
    "                                               weights_initializer=tf.truncated_normal_initializer(stddev=0.1),\n",
    "                                               biases_initializer=tf.zeros_initializer)\n",
    "    return logits, final_state"
   ]
  },
  {
   "cell_type": "code",
   "execution_count": 4,
   "metadata": {},
   "outputs": [],
   "source": [
    "# Create loss function\n",
    "def loss_function(labels, logits):\n",
    "    loss = tf.nn.sparse_softmax_cross_entropy_with_logits(labels=labels, logits=logits)\n",
    "    return tf.reduce_mean(loss)"
   ]
  },
  {
   "cell_type": "markdown",
   "metadata": {},
   "source": [
    "**Get data**"
   ]
  },
  {
   "cell_type": "code",
   "execution_count": 5,
   "metadata": {},
   "outputs": [
    {
     "data": {
      "text/plain": [
       "(82935, 100)"
      ]
     },
     "execution_count": 5,
     "metadata": {},
     "output_type": "execute_result"
    }
   ],
   "source": [
    "import pickle\n",
    "with open('../data/embedding_matrix.npy', 'r') as f:\n",
    "    embedding_matrix = pickle.load(f)\n",
    "embedding_matrix.shape"
   ]
  },
  {
   "cell_type": "code",
   "execution_count": 6,
   "metadata": {},
   "outputs": [
    {
     "data": {
      "text/plain": [
       "TensorShape([Dimension(None), Dimension(None), Dimension(100)])"
      ]
     },
     "execution_count": 6,
     "metadata": {},
     "output_type": "execute_result"
    }
   ],
   "source": [
    "# Create embedding lookup\n",
    "embeddings = tf.constant(embedding_matrix, dtype=tf.float32)\n",
    "X_embedded = tf.nn.embedding_lookup(embeddings, X)\n",
    "X_embedded.shape"
   ]
  },
  {
   "cell_type": "code",
   "execution_count": 7,
   "metadata": {},
   "outputs": [],
   "source": [
    "with open('../data/batch_data.npy', 'r') as f:\n",
    "    batch_data = pickle.load(f)\n",
    "\n",
    "with open('../data/batch_label.npy', 'r') as f:\n",
    "    batch_label = pickle.load(f)"
   ]
  },
  {
   "cell_type": "markdown",
   "metadata": {},
   "source": [
    "**Build the graph**"
   ]
  },
  {
   "cell_type": "code",
   "execution_count": 8,
   "metadata": {},
   "outputs": [],
   "source": [
    "num_classes = 21\n",
    "num_epochs = 50\n",
    "batch_size = 32\n",
    "learning_rate = 0.001\n",
    "rnn_size = 100"
   ]
  },
  {
   "cell_type": "code",
   "execution_count": 9,
   "metadata": {},
   "outputs": [],
   "source": [
    "lstm_cell, initial_state = get_init_cell(tf.shape(X)[0], rnn_size)\n",
    "logits, final_state = build_rnn(lstm_cell, X_embedded, num_classes)\n",
    "logits = logits[:,-1,:]\n",
    "probs = tf.nn.softmax(logits)\n",
    "cost = loss_function(Y, logits)\n",
    "train_op = tf.train.AdamOptimizer(learning_rate).minimize(cost)"
   ]
  },
  {
   "cell_type": "markdown",
   "metadata": {},
   "source": [
    "**Train**"
   ]
  },
  {
   "cell_type": "code",
   "execution_count": 10,
   "metadata": {},
   "outputs": [],
   "source": [
    "sess = tf.InteractiveSession()\n",
    "sess.run(tf.global_variables_initializer())"
   ]
  },
  {
   "cell_type": "code",
   "execution_count": null,
   "metadata": {},
   "outputs": [
    {
     "name": "stdout",
     "output_type": "stream",
     "text": [
      "Epoch 0\n",
      "Training Loss: 0.61088180542\n",
      "Epoch 1\n",
      "Training Loss: 0.0522088930011\n",
      "Epoch 2\n",
      "Training Loss: 0.0172134563327\n",
      "Epoch 3\n",
      "Training Loss: 0.0135728260502\n",
      "Epoch 4\n"
     ]
    }
   ],
   "source": [
    "loss_history = []\n",
    "for epoch in range(num_epochs):\n",
    "    print(\"Epoch {}\".format(epoch))\n",
    "    state = sess.run(initial_state, {X: batch_data[10][:64]})\n",
    "    for key in batch_data:\n",
    "        total_data = len(batch_data[key])\n",
    "        num_batches = int(math.ceil(total_data/float(batch_size)))\n",
    "        for batch in range(num_batches):\n",
    "            train_x = batch_data[key][batch*batch_size:(batch+1)*batch_size]\n",
    "            train_y = batch_label[key][batch*batch_size:(batch+1)*batch_size]\n",
    "            train_y = train_y.reshape(train_y.shape[0])\n",
    "            feed = {X: train_x,\n",
    "                    Y: train_y,\n",
    "                    initial_state: state}\n",
    "            train_loss, state, _ = sess.run([cost, final_state, train_op], feed)\n",
    "    print(\"Training Loss: {}\".format(train_loss))\n",
    "    loss_history.append(train_loss)"
   ]
  },
  {
   "cell_type": "code",
   "execution_count": null,
   "metadata": {},
   "outputs": [],
   "source": []
  }
 ],
 "metadata": {
  "kernelspec": {
   "display_name": "Python 2",
   "language": "python",
   "name": "python2"
  },
  "language_info": {
   "codemirror_mode": {
    "name": "ipython",
    "version": 2
   },
   "file_extension": ".py",
   "mimetype": "text/x-python",
   "name": "python",
   "nbconvert_exporter": "python",
   "pygments_lexer": "ipython2",
   "version": "2.7.12"
  }
 },
 "nbformat": 4,
 "nbformat_minor": 2
}
