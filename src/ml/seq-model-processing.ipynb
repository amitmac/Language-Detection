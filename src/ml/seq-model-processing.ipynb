{
 "cells": [
  {
   "cell_type": "code",
   "execution_count": 1,
   "metadata": {},
   "outputs": [],
   "source": [
    "from gensim.models import Word2Vec\n",
    "import numpy as np\n",
    "import pandas as pd\n",
    "import os\n",
    "import sys\n",
    "import re\n",
    "sys.path.insert(0,'/workspace/lang-detect/')\n",
    "\n",
    "from src import utils"
   ]
  },
  {
   "cell_type": "code",
   "execution_count": 2,
   "metadata": {},
   "outputs": [
    {
     "name": "stdout",
     "output_type": "stream",
     "text": [
      "['sl', 'es', 'el', 'nl', 'hu', 'it', 'bg', 'sk', 'da', 'sv', 'cs', 'lt', 'de', 'en', 'pl', 'fr', 'fi', 'lv', 'pt', 'et', 'ro']\n"
     ]
    }
   ],
   "source": [
    "data_path = \"/workspace/lang-detect/txt/\"\n",
    "dir_list = os.listdir(data_path)\n",
    "print(dir_list)"
   ]
  },
  {
   "cell_type": "code",
   "execution_count": 4,
   "metadata": {},
   "outputs": [],
   "source": [
    "def read_data(filepath):\n",
    "    with open(filepath, \"r\") as f:\n",
    "        lines = f.readlines()\n",
    "        if len(lines) > 1:\n",
    "            return lines[1].strip(\"\\n\")\n",
    "        return None"
   ]
  },
  {
   "cell_type": "code",
   "execution_count": 5,
   "metadata": {},
   "outputs": [
    {
     "name": "stdout",
     "output_type": "stream",
     "text": [
      "('\"\\xd0\\x95\\xd0\\xb2\\xd1\\x80\\xd0\\xbe\\xd0\\xbf\\xd0\\xb0 2020\" \\xd0\\xbd\\xd0\\xb5 \\xd1\\x82\\xd1\\x80\\xd1\\x8f\\xd0\\xb1\\xd0\\xb2\\xd0\\xb0 \\xd0\\xb4\\xd0\\xb0 \\xd1\\x81\\xd1\\x82\\xd0\\xb0\\xd1\\x80\\xd1\\x82\\xd0\\xb8\\xd1\\x80\\xd0\\xb0 \\xd0\\xbd\\xd0\\xbe\\xd0\\xb2 \\xd0\\xba\\xd0\\xbe\\xd0\\xbd\\xd0\\xba\\xd1\\x83\\xd1\\x80\\xd0\\xb5\\xd0\\xbd\\xd1\\x82\\xd0\\xb5\\xd0\\xbd \\xd0\\xbc\\xd0\\xb0\\xd1\\x80\\xd0\\xb0\\xd1\\x82\\xd0\\xbe\\xd0\\xbd \\xd0\\xb8 \\xd0\\xb8\\xd0\\xb7\\xd1\\x85\\xd0\\xbe\\xd0\\xb4 \\xd1\\x81 \\xd0\\xbf\\xd1\\x80\\xd0\\xb8\\xd0\\xb2\\xd0\\xb0\\xd1\\x82\\xd0\\xb8\\xd0\\xb7\\xd0\\xb0\\xd1\\x86\\xd0\\xb8\\xd1\\x8f.', 'bg')\n",
      "CPU times: user 5.8 s, sys: 6.43 s, total: 12.2 s\n",
      "Wall time: 42.9 s\n"
     ]
    }
   ],
   "source": [
    "%%time\n",
    "data, labels = [], []\n",
    "for dir_name in dir_list:\n",
    "    files_list = os.listdir(data_path + dir_name)\n",
    "    for f in files_list:\n",
    "        sent = read_data(data_path + dir_name + \"/\" + f)\n",
    "        if sent:\n",
    "            data.append(sent)\n",
    "            labels.append(dir_name)\n",
    "            \n",
    "test_data, test_labels = [], []\n",
    "with open(\"../../europarl.test\", \"r\") as f:\n",
    "    for line in f:\n",
    "        line = line.split()\n",
    "        test_data.append(\" \".join(line[1:]))\n",
    "        test_labels.append(line[0])\n",
    "\n",
    "print(test_data[0], test_labels[0])"
   ]
  },
  {
   "cell_type": "code",
   "execution_count": 6,
   "metadata": {},
   "outputs": [
    {
     "name": "stdout",
     "output_type": "stream",
     "text": [
      "('Length of train data', 186458)\n",
      "('Length of test data', 21000)\n"
     ]
    }
   ],
   "source": [
    "print(\"Length of train data\", len(data))\n",
    "print(\"Length of test data\", len(test_data))"
   ]
  },
  {
   "cell_type": "code",
   "execution_count": 7,
   "metadata": {},
   "outputs": [
    {
     "name": "stdout",
     "output_type": "stream",
     "text": [
      "CPU times: user 1.42 s, sys: 35.4 ms, total: 1.46 s\n",
      "Wall time: 1.42 s\n"
     ]
    }
   ],
   "source": [
    "%%time\n",
    "for i in range(len(data)):\n",
    "    data[i] = utils.preprocess(data[i])\n",
    "\n",
    "for i in range(len(test_data)):\n",
    "    test_data[i] = utils.preprocess(data[i])"
   ]
  },
  {
   "cell_type": "code",
   "execution_count": 8,
   "metadata": {},
   "outputs": [
    {
     "name": "stdout",
     "output_type": "stream",
     "text": [
      "(186458, 21000)\n"
     ]
    }
   ],
   "source": [
    "print(len(data),len(test_data))"
   ]
  },
  {
   "cell_type": "code",
   "execution_count": 9,
   "metadata": {},
   "outputs": [],
   "source": [
    "sentences, test_sentences = [], []\n",
    "for i in range(len(data)):\n",
    "    x = utils.create_n_gram(data[i], 4)\n",
    "    sentences.append(x.split())\n",
    "\n",
    "for i in range(len(test_data)):\n",
    "    x = utils.create_n_gram(data[i], 4)\n",
    "    test_sentences.append(x.split())"
   ]
  },
  {
   "cell_type": "code",
   "execution_count": 23,
   "metadata": {},
   "outputs": [
    {
     "name": "stdout",
     "output_type": "stream",
     "text": [
      "20000\n",
      "(166458, 166458, 20000, 20000)\n",
      "CPU times: user 11min 7s, sys: 211 ms, total: 11min 7s\n",
      "Wall time: 11min 7s\n"
     ]
    }
   ],
   "source": [
    "%%time\n",
    "# Create validation set of random 20000 sentences\n",
    "rand_indices = np.random.choice(len(sentences), 25000)\n",
    "rand_indices = list(set(rand_indices))[:20000]\n",
    "print(len(rand_indices))\n",
    "\n",
    "valid_sentences, valid_labels = [], []\n",
    "\n",
    "for ind in rand_indices:\n",
    "    valid_sentences.append(sentences[ind])\n",
    "    valid_labels.append(labels[ind])\n",
    "\n",
    "train_sentences = [j for i,j in enumerate(sentences) if i not in rand_indices]    \n",
    "train_labels = [j for i,j in enumerate(labels) if i not in rand_indices]\n",
    "\n",
    "print(len(train_sentences), len(train_labels), len(valid_sentences), len(valid_labels))"
   ]
  },
  {
   "cell_type": "code",
   "execution_count": 31,
   "metadata": {},
   "outputs": [],
   "source": [
    "import pickle\n",
    "\n",
    "with open(\"../data/train_sentences.npy\",\"wb\") as f:\n",
    "    pickle.dump(train_sentences, f)\n",
    "    \n",
    "with open(\"../data/train_labels.npy\",\"wb\") as f:\n",
    "    pickle.dump(train_labels, f)\n",
    "\n",
    "with open(\"../data/valid_sentences.npy\",\"wb\") as f:\n",
    "    pickle.dump(valid_sentences, f)\n",
    "    \n",
    "with open(\"../data/valid_labels.npy\",\"wb\") as f:\n",
    "    pickle.dump(valid_labels, f)"
   ]
  },
  {
   "cell_type": "code",
   "execution_count": 32,
   "metadata": {},
   "outputs": [
    {
     "data": {
      "text/plain": [
       "166458"
      ]
     },
     "execution_count": 32,
     "metadata": {},
     "output_type": "execute_result"
    }
   ],
   "source": [
    "len(train_sentences)"
   ]
  },
  {
   "cell_type": "markdown",
   "metadata": {},
   "source": [
    "### **Check Point**"
   ]
  },
  {
   "cell_type": "code",
   "execution_count": 33,
   "metadata": {},
   "outputs": [
    {
     "name": "stdout",
     "output_type": "stream",
     "text": [
      "(166458, 166458, 20000, 20000)\n"
     ]
    }
   ],
   "source": [
    "from gensim.models import Word2Vec\n",
    "import numpy as np\n",
    "import pandas as pd\n",
    "import os\n",
    "import sys\n",
    "import re\n",
    "sys.path.insert(0,'/workspace/lang-detect/')\n",
    "\n",
    "from src import utils\n",
    "import pickle\n",
    "\n",
    "with open(\"../data/train_sentences.npy\",\"r\") as f:\n",
    "    train_sentences = pickle.load(f)\n",
    "    \n",
    "with open(\"../data/train_labels.npy\",\"r\") as f:\n",
    "    train_labels = pickle.load(f)\n",
    "\n",
    "with open(\"../data/valid_sentences.npy\",\"r\") as f:\n",
    "    valid_sentences = pickle.load(f)\n",
    "    \n",
    "with open(\"../data/valid_labels.npy\",\"r\") as f:\n",
    "    valid_labels = pickle.load(f)\n",
    "    \n",
    "print(len(train_sentences), len(train_labels), len(valid_sentences), len(valid_labels))"
   ]
  },
  {
   "cell_type": "code",
   "execution_count": 34,
   "metadata": {},
   "outputs": [
    {
     "name": "stdout",
     "output_type": "stream",
     "text": [
      "('Vocabulary size', 81433)\n"
     ]
    }
   ],
   "source": [
    "# Create word_to_index and index_to_word mapping\n",
    "PAD_ID = 0\n",
    "UNK_ID = 1\n",
    "\n",
    "word_to_index, index_to_word, word_freq = {}, {}, {}\n",
    "\n",
    "index = 2\n",
    "for sent in train_sentences:\n",
    "    for token in sent:\n",
    "        if token not in word_to_index:\n",
    "            word_freq[token] = 1\n",
    "            word_to_index[token] = index\n",
    "            index_to_word[index] = token\n",
    "            index += 1\n",
    "        else:\n",
    "            word_freq[token] += 1\n",
    "\n",
    "print(\"Vocabulary size\", index-1)"
   ]
  },
  {
   "cell_type": "code",
   "execution_count": 37,
   "metadata": {},
   "outputs": [
    {
     "name": "stdout",
     "output_type": "stream",
     "text": [
      "{'el': 0, 'fr': 1, 'bg': 2, 'nl': 3, 'es': 20, 'pt': 5, 'da': 19, 'de': 8, 'sv': 7, 'it': 9, 'lv': 6, 'lt': 13, 'en': 14, 'sk': 11, 'sl': 16, 'cs': 17, 'et': 12, 'hu': 10, 'ro': 4, 'fi': 18, 'pl': 15}\n"
     ]
    }
   ],
   "source": [
    "classes = {}\n",
    "for ind, c in enumerate(list(set(train_labels))):\n",
    "    classes[c] = ind\n",
    "print(classes)"
   ]
  },
  {
   "cell_type": "code",
   "execution_count": 35,
   "metadata": {},
   "outputs": [
    {
     "name": "stdout",
     "output_type": "stream",
     "text": [
      "14093\n"
     ]
    }
   ],
   "source": [
    "less_freq = 0\n",
    "for k,v in word_freq.items():\n",
    "    if v <= 1:\n",
    "        less_freq += 1\n",
    "print(less_freq)"
   ]
  },
  {
   "cell_type": "code",
   "execution_count": 38,
   "metadata": {},
   "outputs": [
    {
     "name": "stdout",
     "output_type": "stream",
     "text": [
      "(166458, 20000, 21000)\n",
      "(166458, 20000, 21000)\n"
     ]
    }
   ],
   "source": [
    "# Change words to their index\n",
    "def get_indexed_data(sentences, data_type=None):\n",
    "    data_x = []\n",
    "    for sent in sentences:\n",
    "        x = []\n",
    "        for token in sent:\n",
    "            if token in word_to_index:\n",
    "                if (data_type == \"train\") and (word_freq[token] == 1):\n",
    "                    x.append(UNK_ID)\n",
    "                else:\n",
    "                    x.append(word_to_index[token])\n",
    "            else:\n",
    "                x.append(UNK_ID)\n",
    "        data_x.append(x)\n",
    "    return data_x\n",
    "\n",
    "def get_indexed_label(labels):\n",
    "    data_y = [classes[x] for x in labels]\n",
    "    return data_y\n",
    "\n",
    "train_x = get_indexed_data(train_sentences, \"train\")\n",
    "valid_x = get_indexed_data(valid_sentences)\n",
    "test_x = get_indexed_data(test_sentences)\n",
    "\n",
    "train_y = get_indexed_label(train_labels)\n",
    "valid_y = get_indexed_label(valid_labels)\n",
    "test_y = get_indexed_label(test_labels)\n",
    "\n",
    "print(len(train_x),len(valid_x),len(test_x))\n",
    "print(len(train_y),len(valid_y),len(test_y))"
   ]
  },
  {
   "cell_type": "code",
   "execution_count": 39,
   "metadata": {},
   "outputs": [],
   "source": [
    "# Check distribution of length of sentences\n",
    "def get_dist(x):\n",
    "    lens = {}\n",
    "    for sent in x:\n",
    "        if len(sent) in lens:\n",
    "            lens[len(sent)] += 1\n",
    "        else:\n",
    "            lens[len(sent)] = 1\n",
    "    return lens\n",
    "        \n",
    "train_lens = get_dist(train_x)\n",
    "valid_lens = get_dist(valid_x)\n",
    "test_lens = get_dist(test_x)"
   ]
  },
  {
   "cell_type": "code",
   "execution_count": 40,
   "metadata": {},
   "outputs": [],
   "source": [
    "import matplotlib.pyplot as plt\n",
    "%matplotlib inline  "
   ]
  },
  {
   "cell_type": "code",
   "execution_count": 66,
   "metadata": {},
   "outputs": [
    {
     "data": {
      "image/png": "[encoded data removed]",
      "text/plain": [
       "<Figure size 1080x576 with 4 Axes>"
      ]
     },
     "metadata": {},
     "output_type": "display_data"
    },
    {
     "data": {
      "text/plain": [
       "<Figure size 720x360 with 0 Axes>"
      ]
     },
     "metadata": {},
     "output_type": "display_data"
    }
   ],
   "source": [
    "fig, axes = plt.subplots(nrows=2, ncols=2, figsize=(15,8))\n",
    "\n",
    "plt.subplot(221)\n",
    "plt.bar(train_lens.keys(), train_lens.values())\n",
    "plt.title(\"Training Set Distribution\")\n",
    "plt.xlabel('Length of Sentences')\n",
    "plt.ylabel('No. of Sentences')\n",
    "\n",
    "plt.subplot(222)\n",
    "plt.bar(valid_lens.keys(), valid_lens.values())\n",
    "plt.title(\"Validation Set Distribution\")\n",
    "plt.xlabel('Length of Sentences')\n",
    "plt.ylabel('No. of Sentences')\n",
    "\n",
    "plt.subplot(223)\n",
    "plt.bar(test_lens.keys(), test_lens.values())\n",
    "plt.title(\"Testing Set Distribution\")\n",
    "plt.xlabel('Length of Sentences')\n",
    "plt.ylabel('No. of Sentences')\n",
    "plt.figure(figsize=(10,5))\n",
    "\n",
    "fig.tight_layout()\n",
    "plt.show()"
   ]
  },
  {
   "cell_type": "markdown",
   "metadata": {},
   "source": [
    "Training, Validation and Testing set have similar distribution. Also most of the sentences have length less than 250."
   ]
  },
  {
   "cell_type": "code",
   "execution_count": 68,
   "metadata": {},
   "outputs": [
    {
     "name": "stdout",
     "output_type": "stream",
     "text": [
      "(7356, 1024, 459, 226, 37)\n",
      "(973, 134, 55, 31, 7)\n",
      "(1172, 172, 74, 38, 4)\n"
     ]
    }
   ],
   "source": [
    "# in train check number of sentences with length more than 100, 200, 300\n",
    "def check_sent_length_buckets(len_dists):\n",
    "    n_100, n_200, n_250, n_300, n_500 = 0, 0, 0, 0, 0\n",
    "    for k,v in len_dists.items():\n",
    "        if k >= 500:\n",
    "            n_500 += v\n",
    "        if k >= 300:\n",
    "            n_300 += v\n",
    "        if k >= 200:\n",
    "            n_200 += v\n",
    "        if k >= 250:\n",
    "            n_250 += v\n",
    "        if k >= 100:\n",
    "            n_100 += v\n",
    "    print(n_100, n_200, n_250, n_300, n_500)\n",
    "\n",
    "check_sent_length_buckets(train_lens)\n",
    "check_sent_length_buckets(valid_lens)\n",
    "check_sent_length_buckets(test_lens)"
   ]
  },
  {
   "cell_type": "markdown",
   "metadata": {},
   "source": [
    "**There are some very long sentences but I don't want to loose information. What I am going to do is, truncate the sentences with length more than 250 and create a new sentence from index 251 to 500 and so on. This will be done only for train. Since I have included 4-gram tokens only in this data, some noise might get added at the start and end of new sentences, but the model should not get affected by that.**"
   ]
  },
  {
   "cell_type": "code",
   "execution_count": 69,
   "metadata": {},
   "outputs": [
    {
     "name": "stdout",
     "output_type": "stream",
     "text": [
      "(166959, 166959)\n"
     ]
    }
   ],
   "source": [
    "train_x_trunc, train_y_trunc = [], []\n",
    "\n",
    "max_len = 250\n",
    "\n",
    "for ind, sent in enumerate(train_x):\n",
    "    while(len(sent) > max_len):\n",
    "        train_x_trunc.append(sent[:max_len])\n",
    "        train_y_trunc.append(train_y[ind])\n",
    "        sent = sent[max_len:]\n",
    "    train_x_trunc.append(sent)\n",
    "    train_y_trunc.append(train_y[ind])\n",
    "\n",
    "print(len(train_x_trunc), len(train_y_trunc))"
   ]
  },
  {
   "cell_type": "markdown",
   "metadata": {},
   "source": [
    "##### **Create batches**"
   ]
  },
  {
   "cell_type": "code",
   "execution_count": 70,
   "metadata": {},
   "outputs": [],
   "source": [
    "train_lens = get_dist(train_x)"
   ]
  },
  {
   "cell_type": "code",
   "execution_count": 71,
   "metadata": {},
   "outputs": [
    {
     "data": {
      "text/plain": [
       "{10: 12360,\n",
       " 20: 29864,\n",
       " 30: 35436,\n",
       " 40: 30341,\n",
       " 50: 20243,\n",
       " 60: 12470,\n",
       " 70: 7462,\n",
       " 80: 4815,\n",
       " 90: 3905,\n",
       " 100: 2363,\n",
       " 110: 1569,\n",
       " 120: 1365,\n",
       " 130: 860,\n",
       " 140: 585,\n",
       " 150: 504,\n",
       " 160: 429,\n",
       " 170: 321,\n",
       " 180: 226,\n",
       " 190: 176,\n",
       " 200: 155,\n",
       " 210: 133,\n",
       " 220: 133,\n",
       " 230: 93,\n",
       " 240: 87,\n",
       " 250: 107}"
      ]
     },
     "execution_count": 71,
     "metadata": {},
     "output_type": "execute_result"
    }
   ],
   "source": [
    "buckets = [10*x for x in range(1,26)]\n",
    "buckets_data_sum = {}\n",
    "for k, v in train_lens.items():\n",
    "    for x in buckets:\n",
    "        if k <= x:\n",
    "            if x in buckets_data_sum:\n",
    "                buckets_data_sum[x] += v\n",
    "            else:\n",
    "                buckets_data_sum[x] = v\n",
    "            break\n",
    "buckets_data_sum"
   ]
  },
  {
   "cell_type": "code",
   "execution_count": 72,
   "metadata": {},
   "outputs": [
    {
     "data": {
      "text/plain": [
       "166002"
      ]
     },
     "execution_count": 72,
     "metadata": {},
     "output_type": "execute_result"
    }
   ],
   "source": [
    "sum(buckets_data_sum.values())"
   ]
  },
  {
   "cell_type": "code",
   "execution_count": 74,
   "metadata": {},
   "outputs": [],
   "source": [
    "from collections import defaultdict\n",
    "\n",
    "# Create batch data\n",
    "def create_batches(data_x, data_y):\n",
    "    batch_data = defaultdict(list)\n",
    "    batch_label = defaultdict(list)\n",
    "\n",
    "    for ind, sent in enumerate(data_x):\n",
    "        for x in buckets:\n",
    "            if len(sent) <= x:\n",
    "                sent += [PAD_ID]*(x - len(sent))\n",
    "                batch_data[x].append(sent)\n",
    "                batch_label[x].append(data_y[ind])\n",
    "                break\n",
    "    \n",
    "    return batch_data, batch_label\n",
    "\n",
    "train_batch_data, train_batch_labels = create_batches(train_x_trunc, train_y_trunc)\n",
    "valid_batch_data, valid_batch_labels = create_batches(valid_x, valid_y)"
   ]
  },
  {
   "cell_type": "code",
   "execution_count": 75,
   "metadata": {},
   "outputs": [
    {
     "data": {
      "text/plain": [
       "[[305, 306, 307, 293, 308, 71, 309, 0, 0, 0],\n",
       " [361, 59, 60, 61, 62, 63, 64, 144, 0, 0],\n",
       " [361, 59, 60, 61, 62, 63, 64, 144, 0, 0],\n",
       " [640, 641, 642, 643, 644, 645, 646, 309, 0, 0],\n",
       " [361, 59, 60, 61, 62, 63, 64, 144, 0, 0],\n",
       " [640, 641, 642, 643, 644, 645, 646, 309, 0, 0],\n",
       " [781, 782, 783, 440, 784, 785, 786, 787, 788, 789],\n",
       " [361, 59, 60, 61, 62, 63, 64, 144, 0, 0],\n",
       " [640, 641, 642, 643, 644, 645, 646, 309, 0, 0],\n",
       " [305, 306, 307, 293, 308, 71, 309, 0, 0, 0]]"
      ]
     },
     "execution_count": 75,
     "metadata": {},
     "output_type": "execute_result"
    }
   ],
   "source": [
    "train_batch_data[10][:10]"
   ]
  },
  {
   "cell_type": "code",
   "execution_count": 77,
   "metadata": {},
   "outputs": [],
   "source": [
    "# Convert to numpy array each key\n",
    "def to_numpy_array(batch_data, batch_label):\n",
    "    for key in batch_data:\n",
    "        batch_data[key] = np.array(batch_data[key])\n",
    "        batch_label[key] = np.array(batch_label[key])\n",
    "    return batch_data, batch_label\n",
    "\n",
    "train_batch_data, train_batch_labels = to_numpy_array(train_batch_data, train_batch_labels)\n",
    "valid_batch_data, valid_batch_labels = to_numpy_array(valid_batch_data, valid_batch_labels)\n",
    "test_data, test_labels = np.array(test_x), np.array(test_y)"
   ]
  },
  {
   "cell_type": "code",
   "execution_count": 79,
   "metadata": {},
   "outputs": [],
   "source": [
    "import pickle\n",
    "\n",
    "train = {'data':train_batch_data, 'labels':train_batch_labels}\n",
    "valid = {'data':valid_batch_data, 'labels':valid_batch_labels}\n",
    "test = {'data':test_data, 'labels':test_labels}\n",
    "\n",
    "with open('../data/train_batch.npy', 'w') as f:\n",
    "    pickle.dump(train, f)\n",
    "\n",
    "with open('../data/valid_batch.npy', 'w') as f:\n",
    "    pickle.dump(valid, f)\n",
    "    \n",
    "with open('../data/test_data.npy', 'w') as f:\n",
    "    pickle.dump(test, f)"
   ]
  },
  {
   "cell_type": "code",
   "execution_count": 80,
   "metadata": {},
   "outputs": [
    {
     "name": "stderr",
     "output_type": "stream",
     "text": [
      "/usr/local/lib/python2.7/dist-packages/gensim/matutils.py:737: FutureWarning: Conversion of the second argument of issubdtype from `int` to `np.signedinteger` is deprecated. In future, it will be treated as `np.int64 == np.dtype(int).type`.\n",
      "  if np.issubdtype(vec.dtype, np.int):\n"
     ]
    },
    {
     "data": {
      "text/plain": [
       "[('and', 0.7841068506240845),\n",
       " ('on', 0.759896993637085),\n",
       " ('of', 0.7271450757980347),\n",
       " ('fety', 0.7232488393783569),\n",
       " ('shor', 0.7075440883636475),\n",
       " ('ourt', 0.7063887119293213),\n",
       " ('din', 0.7044749855995178),\n",
       " ('to', 0.7022175192832947),\n",
       " ('afet', 0.6996240019798279),\n",
       " ('from', 0.691842794418335)]"
      ]
     },
     "execution_count": 80,
     "metadata": {},
     "output_type": "execute_result"
    }
   ],
   "source": [
    "# Create embedding matrix\n",
    "wordvec = Word2Vec.load(\"../word-vectors/word2vec\")\n",
    "wordvec.wv.most_similar(\"the\")"
   ]
  },
  {
   "cell_type": "code",
   "execution_count": 81,
   "metadata": {},
   "outputs": [
    {
     "data": {
      "text/plain": [
       "array([ 1.572987  ,  2.735609  ,  0.64099294,  2.2075114 ,  1.810811  ,\n",
       "        1.320163  , -2.0518892 ,  0.6383124 ,  1.5301269 , -1.8204945 ,\n",
       "        0.87725013, -0.9785473 , -2.4711254 ,  1.0467197 , -0.43357244,\n",
       "       -0.37392902, -3.4508646 , -0.87442845, -0.46869975,  0.5089424 ,\n",
       "        2.6256225 , -2.4643495 ,  2.2892654 , -0.29851928,  1.6183301 ,\n",
       "        2.48107   ,  0.21856466, -0.5068994 , -1.7413462 , -1.1562588 ,\n",
       "       -2.8360653 , -3.4761653 ,  2.6883032 ,  1.8478122 , -0.94803345,\n",
       "       -1.5750355 , -1.3575674 , -0.49536067,  1.0757141 ,  0.5275996 ,\n",
       "       -1.9814926 , -2.2281053 , -1.6347038 ,  1.3217245 ,  1.9017682 ,\n",
       "        2.1075456 , -0.41398883,  3.4355843 , -0.00692933, -2.4787297 ,\n",
       "       -0.9633201 ,  2.0556319 ,  0.47517714, -4.1312013 ,  1.4229084 ,\n",
       "        0.8764478 , -0.10577996, -2.3738363 , -0.73883134, -1.2658491 ,\n",
       "       -2.68997   ,  0.40155867,  0.3440695 ,  2.4353578 , -0.28661215,\n",
       "        1.7299148 , -3.2678797 , -0.93289286,  0.552735  ,  3.1327786 ,\n",
       "       -0.48288715, -3.2755373 , -1.6189119 ,  1.9075192 ,  1.1046098 ,\n",
       "        0.79719466,  2.3108268 , -3.6885145 , -1.0105417 , -1.2914083 ,\n",
       "       -2.881221  ,  0.5269283 , -2.3747706 ,  1.4536555 ,  0.32800522,\n",
       "        0.04006169, -0.50203353,  1.8111124 ,  0.81676346, -2.325709  ,\n",
       "       -0.68268937,  2.542379  , -2.0363274 ,  2.0029142 ,  4.7618337 ,\n",
       "        1.2583871 ,  2.8882353 ,  1.9272325 ,  1.4157581 , -0.40579018],\n",
       "      dtype=float32)"
      ]
     },
     "execution_count": 81,
     "metadata": {},
     "output_type": "execute_result"
    }
   ],
   "source": [
    "wordvec.wv.get_vector(\"the\")"
   ]
  },
  {
   "cell_type": "markdown",
   "metadata": {},
   "source": [
    "Tokens are indexed from 2. '0' is for the padding and '1' for unknown token. Vector for 0 will be zero-vector and for 1, a random vector."
   ]
  },
  {
   "cell_type": "code",
   "execution_count": 82,
   "metadata": {},
   "outputs": [],
   "source": [
    "vocab_size, embed_size = wordvec.wv.vectors.shape"
   ]
  },
  {
   "cell_type": "code",
   "execution_count": 83,
   "metadata": {},
   "outputs": [
    {
     "data": {
      "text/plain": [
       "('pred', 2)"
      ]
     },
     "execution_count": 83,
     "metadata": {},
     "output_type": "execute_result"
    }
   ],
   "source": [
    "sorted_word_to_index = sorted(zip(word_to_index.keys(), word_to_index.values()), key=lambda x: x[1])\n",
    "sorted_word_to_index[0]"
   ]
  },
  {
   "cell_type": "code",
   "execution_count": 84,
   "metadata": {},
   "outputs": [],
   "source": [
    "embedding_matrix = []\n",
    "embedding_matrix.append([0.]*embed_size)\n",
    "embedding_matrix.append(np.random.uniform(-3, 3, embed_size))\n",
    "\n",
    "for key, index in sorted_word_to_index:\n",
    "    embedding_matrix.append(wordvec.wv.get_vector(key))"
   ]
  },
  {
   "cell_type": "code",
   "execution_count": 85,
   "metadata": {},
   "outputs": [
    {
     "name": "stdout",
     "output_type": "stream",
     "text": [
      "(81434, 100)\n"
     ]
    }
   ],
   "source": [
    "print(len(embedding_matrix), len(embedding_matrix[0]))"
   ]
  },
  {
   "cell_type": "code",
   "execution_count": 86,
   "metadata": {},
   "outputs": [],
   "source": [
    "embedding_matrix = np.array(embedding_matrix)\n",
    "\n",
    "import pickle\n",
    "with open('../data/embedding_matrix.npy', 'w') as f:\n",
    "    pickle.dump(embedding_matrix, f)"
   ]
  },
  {
   "cell_type": "code",
   "execution_count": 87,
   "metadata": {},
   "outputs": [
    {
     "data": {
      "text/plain": [
       "(81434, 100)"
      ]
     },
     "execution_count": 87,
     "metadata": {},
     "output_type": "execute_result"
    }
   ],
   "source": [
    "with open('../data/embedding_matrix.npy', 'r') as f:\n",
    "    ld = pickle.load(f)\n",
    "ld.shape"
   ]
  },
  {
   "cell_type": "code",
   "execution_count": null,
   "metadata": {},
   "outputs": [],
   "source": []
  }
 ],
 "metadata": {
  "kernelspec": {
   "display_name": "Python 2",
   "language": "python",
   "name": "python2"
  },
  "language_info": {
   "codemirror_mode": {
    "name": "ipython",
    "version": 2
   },
   "file_extension": ".py",
   "mimetype": "text/x-python",
   "name": "python",
   "nbconvert_exporter": "python",
   "pygments_lexer": "ipython2",
   "version": "2.7.12"
  }
 },
 "nbformat": 4,
 "nbformat_minor": 2
}
