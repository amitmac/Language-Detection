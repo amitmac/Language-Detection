{
 "cells": [
  {
   "cell_type": "code",
   "execution_count": 1,
   "metadata": {},
   "outputs": [],
   "source": [
    "from gensim.models import Word2Vec\n",
    "import numpy as np\n",
    "import pandas as pd\n",
    "import os\n",
    "import sys\n",
    "import re\n",
    "sys.path.insert(0,'/workspace/lang-detect/')\n",
    "\n",
    "from src import utils"
   ]
  },
  {
   "cell_type": "code",
   "execution_count": 2,
   "metadata": {},
   "outputs": [
    {
     "name": "stdout",
     "output_type": "stream",
     "text": [
      "['sl', 'es', 'el', 'nl', 'hu', 'it', 'bg', 'sk', 'da', 'sv', 'cs', 'lt', 'de', 'en', 'pl', 'fr', 'fi', 'lv', 'pt', 'et', 'ro']\n"
     ]
    }
   ],
   "source": [
    "data_path = \"/workspace/lang-detect/txt/\"\n",
    "dir_list = os.listdir(data_path)\n",
    "print(dir_list)"
   ]
  },
  {
   "cell_type": "code",
   "execution_count": 3,
   "metadata": {},
   "outputs": [],
   "source": [
    "def read_data(filepath):\n",
    "    with open(filepath, \"r\") as f:\n",
    "        lines = f.readlines()\n",
    "        if len(lines) > 1:\n",
    "            return lines[1].strip(\"\\n\")\n",
    "        return None"
   ]
  },
  {
   "cell_type": "code",
   "execution_count": 4,
   "metadata": {},
   "outputs": [
    {
     "name": "stdout",
     "output_type": "stream",
     "text": [
      "CPU times: user 5.75 s, sys: 7.14 s, total: 12.9 s\n",
      "Wall time: 44.1 s\n"
     ]
    }
   ],
   "source": [
    "%%time\n",
    "data, labels = [], []\n",
    "for dir_name in dir_list:\n",
    "    files_list = os.listdir(data_path + dir_name)\n",
    "    for f in files_list:\n",
    "        sent = read_data(data_path + dir_name + \"/\" + f)\n",
    "        if sent:\n",
    "            data.append(sent)\n",
    "            labels.append(dir_name)"
   ]
  },
  {
   "cell_type": "code",
   "execution_count": 5,
   "metadata": {},
   "outputs": [
    {
     "name": "stdout",
     "output_type": "stream",
     "text": [
      "('Length of data', 186458)\n"
     ]
    }
   ],
   "source": [
    "print(\"Length of data\", len(data))"
   ]
  },
  {
   "cell_type": "code",
   "execution_count": 6,
   "metadata": {},
   "outputs": [
    {
     "name": "stdout",
     "output_type": "stream",
     "text": [
      "CPU times: user 1.44 s, sys: 0 ns, total: 1.44 s\n",
      "Wall time: 1.44 s\n"
     ]
    }
   ],
   "source": [
    "%%time\n",
    "for i in range(len(data)):\n",
    "    data[i] = utils.preprocess(data[i])"
   ]
  },
  {
   "cell_type": "code",
   "execution_count": 7,
   "metadata": {},
   "outputs": [
    {
     "data": {
      "text/plain": [
       "186458"
      ]
     },
     "execution_count": 7,
     "metadata": {},
     "output_type": "execute_result"
    }
   ],
   "source": [
    "len(data)"
   ]
  },
  {
   "cell_type": "code",
   "execution_count": 9,
   "metadata": {},
   "outputs": [],
   "source": [
    "sentences = []\n",
    "for i in range(len(data)):\n",
    "    x = utils.create_n_gram(data[i], 4)\n",
    "    sentences.append(x.split())"
   ]
  },
  {
   "cell_type": "code",
   "execution_count": 10,
   "metadata": {},
   "outputs": [
    {
     "name": "stdout",
     "output_type": "stream",
     "text": [
      "('Vocabulary size', 82934)\n"
     ]
    }
   ],
   "source": [
    "# Create word_to_index and index_to_word mapping\n",
    "word_to_index, index_to_word = {}, {}\n",
    "\n",
    "index = 1\n",
    "for sent in sentences:\n",
    "    for token in sent:\n",
    "        if token not in word_to_index:\n",
    "            word_to_index[token] = index\n",
    "            index_to_word[index] = token\n",
    "            index += 1\n",
    "\n",
    "print(\"Vocabulary size\", index-1)"
   ]
  },
  {
   "cell_type": "code",
   "execution_count": 11,
   "metadata": {},
   "outputs": [],
   "source": [
    "# Change words to their index\n",
    "train_x = []\n",
    "for sent in sentences:\n",
    "    x = []\n",
    "    for token in sent:\n",
    "        x.append(word_to_index[token])\n",
    "    train_x.append(x)"
   ]
  },
  {
   "cell_type": "code",
   "execution_count": 12,
   "metadata": {},
   "outputs": [],
   "source": [
    "# Check distribution of length of sentences\n",
    "lens = {}\n",
    "for sent in train_x:\n",
    "    if len(sent) in lens:\n",
    "        lens[len(sent)] += 1\n",
    "    else:\n",
    "        lens[len(sent)] = 1"
   ]
  },
  {
   "cell_type": "code",
   "execution_count": 13,
   "metadata": {},
   "outputs": [],
   "source": [
    "import matplotlib.pyplot as plt\n",
    "%matplotlib inline  "
   ]
  },
  {
   "cell_type": "code",
   "execution_count": 14,
   "metadata": {},
   "outputs": [
    {
     "data": {
      "image/png": "[encoded data removed]",
      "text/plain": [
       "<Figure size 1296x648 with 1 Axes>"
      ]
     },
     "metadata": {},
     "output_type": "display_data"
    }
   ],
   "source": [
    "plt.figure(figsize=(18,9))\n",
    "plt.bar(lens.keys(), lens.values())\n",
    "plt.xticks(np.arange(min(lens.keys()), max(lens.keys())+1, 50))\n",
    "plt.show()"
   ]
  },
  {
   "cell_type": "code",
   "execution_count": 15,
   "metadata": {},
   "outputs": [
    {
     "name": "stdout",
     "output_type": "stream",
     "text": [
      "(8329, 1158, 257)\n"
     ]
    }
   ],
   "source": [
    "# check number of sentences with length more than 100, 200, 300\n",
    "n_100, n_200, n_300 = 0, 0, 0\n",
    "for k,v in lens.items():\n",
    "    if k >= 300:\n",
    "        n_300 += v\n",
    "    if k >= 200:\n",
    "        n_200 += v\n",
    "    if k >= 100:\n",
    "        n_100 += v\n",
    "print(n_100, n_200, n_300)"
   ]
  },
  {
   "cell_type": "code",
   "execution_count": 16,
   "metadata": {},
   "outputs": [
    {
     "name": "stdout",
     "output_type": "stream",
     "text": [
      "514\n"
     ]
    }
   ],
   "source": [
    "# check number of sentences with length more than 500\n",
    "n_500 = 0\n",
    "for k,v in lens.items():\n",
    "    if k >= 250:\n",
    "        n_500 += v\n",
    "print(n_500)"
   ]
  },
  {
   "cell_type": "markdown",
   "metadata": {},
   "source": [
    "**There are some very long sentences but I don't want to loose information. What I am going to do is, truncate the sentences with length more than 250 and create a new sentence from index 251 to 500 and so on. Since I have included 4-gram tokens only in this data, some noise might get added at the start and end of new sentences, but the model should not get affected by that.**"
   ]
  },
  {
   "cell_type": "code",
   "execution_count": 17,
   "metadata": {},
   "outputs": [
    {
     "name": "stdout",
     "output_type": "stream",
     "text": [
      "(186458, 186458)\n"
     ]
    }
   ],
   "source": [
    "print(len(train_x), len(labels))"
   ]
  },
  {
   "cell_type": "code",
   "execution_count": 18,
   "metadata": {},
   "outputs": [
    {
     "name": "stdout",
     "output_type": "stream",
     "text": [
      "(187021, 187021)\n"
     ]
    }
   ],
   "source": [
    "train_x_trunc, train_y_trunc = [], []\n",
    "\n",
    "max_len = 250\n",
    "\n",
    "for ind, sent in enumerate(train_x):\n",
    "    while(len(sent) > max_len):\n",
    "        train_x_trunc.append(sent[:max_len])\n",
    "        train_y_trunc.append(labels[ind])\n",
    "        sent = sent[max_len:]\n",
    "    train_x_trunc.append(sent)\n",
    "    train_y_trunc.append(labels[ind])\n",
    "\n",
    "print(len(train_x_trunc), len(train_y_trunc))"
   ]
  },
  {
   "cell_type": "code",
   "execution_count": 22,
   "metadata": {},
   "outputs": [
    {
     "name": "stdout",
     "output_type": "stream",
     "text": [
      "{'el': 0, 'fr': 1, 'bg': 2, 'nl': 3, 'es': 20, 'pt': 5, 'da': 19, 'de': 8, 'sv': 7, 'it': 9, 'lv': 6, 'lt': 13, 'en': 14, 'sk': 11, 'sl': 16, 'cs': 17, 'et': 12, 'hu': 10, 'ro': 4, 'fi': 18, 'pl': 15}\n"
     ]
    }
   ],
   "source": [
    "classes = {}\n",
    "for ind, c in enumerate(list(set(train_y_trunc))):\n",
    "    classes[c] = ind\n",
    "print(classes)"
   ]
  },
  {
   "cell_type": "code",
   "execution_count": 23,
   "metadata": {},
   "outputs": [
    {
     "name": "stdout",
     "output_type": "stream",
     "text": [
      "set([0, 1, 2, 3, 4, 5, 6, 7, 8, 9, 10, 11, 12, 13, 14, 15, 16, 17, 18, 19, 20])\n"
     ]
    }
   ],
   "source": [
    "for ind in range(len(train_y_trunc)):\n",
    "    train_y_trunc[ind] = classes[train_y_trunc[ind]]\n",
    "print(set(train_y_trunc))"
   ]
  },
  {
   "cell_type": "code",
   "execution_count": 24,
   "metadata": {},
   "outputs": [],
   "source": [
    "# Check distribution of length of sentences\n",
    "lens = {}\n",
    "for sent in train_x_trunc:\n",
    "    if len(sent) in lens:\n",
    "        lens[len(sent)] += 1\n",
    "    else:\n",
    "        lens[len(sent)] = 1"
   ]
  },
  {
   "cell_type": "code",
   "execution_count": 25,
   "metadata": {},
   "outputs": [
    {
     "data": {
      "text/plain": [
       "{10: 13859,\n",
       " 20: 33441,\n",
       " 30: 39557,\n",
       " 40: 34036,\n",
       " 50: 22827,\n",
       " 60: 14012,\n",
       " 70: 8451,\n",
       " 80: 5394,\n",
       " 90: 4408,\n",
       " 100: 2697,\n",
       " 110: 1789,\n",
       " 120: 1571,\n",
       " 130: 985,\n",
       " 140: 689,\n",
       " 150: 594,\n",
       " 160: 485,\n",
       " 170: 356,\n",
       " 180: 273,\n",
       " 190: 205,\n",
       " 200: 177,\n",
       " 210: 152,\n",
       " 220: 162,\n",
       " 230: 111,\n",
       " 240: 102,\n",
       " 250: 688}"
      ]
     },
     "execution_count": 25,
     "metadata": {},
     "output_type": "execute_result"
    }
   ],
   "source": [
    "buckets = [10*x for x in range(1,26)]\n",
    "buckets_data_sum = {}\n",
    "for k, v in lens.items():\n",
    "    for x in buckets:\n",
    "        if k <= x:\n",
    "            if x in buckets_data_sum:\n",
    "                buckets_data_sum[x] += v\n",
    "            else:\n",
    "                buckets_data_sum[x] = v\n",
    "            break\n",
    "buckets_data_sum"
   ]
  },
  {
   "cell_type": "code",
   "execution_count": 26,
   "metadata": {},
   "outputs": [
    {
     "data": {
      "text/plain": [
       "187021"
      ]
     },
     "execution_count": 26,
     "metadata": {},
     "output_type": "execute_result"
    }
   ],
   "source": [
    "sum(buckets_data_sum.values())"
   ]
  },
  {
   "cell_type": "code",
   "execution_count": 27,
   "metadata": {},
   "outputs": [],
   "source": [
    "from collections import defaultdict\n",
    "\n",
    "# Create batch data\n",
    "batch_data = defaultdict(list)\n",
    "batch_label = defaultdict(list)\n",
    "PAD_ID = 0\n",
    "\n",
    "for ind, sent in enumerate(train_x_trunc):\n",
    "    for x in buckets:\n",
    "        if len(sent) <= x:\n",
    "            sent += [PAD_ID]*(x - len(sent))\n",
    "            batch_data[x].append(sent)\n",
    "            batch_label[x].append(train_y_trunc[ind])\n",
    "            break"
   ]
  },
  {
   "cell_type": "code",
   "execution_count": 28,
   "metadata": {},
   "outputs": [
    {
     "data": {
      "text/plain": [
       "[[304, 305, 306, 292, 307, 70, 308, 0, 0, 0],\n",
       " [360, 58, 59, 60, 61, 62, 63, 143, 0, 0],\n",
       " [360, 58, 59, 60, 61, 62, 63, 143, 0, 0],\n",
       " [123, 190, 191, 192, 193, 194, 0, 0, 0, 0],\n",
       " [689, 690, 691, 692, 693, 694, 695, 308, 0, 0],\n",
       " [360, 58, 59, 60, 61, 62, 63, 143, 0, 0],\n",
       " [689, 690, 691, 692, 693, 694, 695, 308, 0, 0],\n",
       " [849, 850, 851, 499, 852, 853, 854, 855, 856, 857],\n",
       " [360, 58, 59, 60, 61, 62, 63, 143, 0, 0],\n",
       " [689, 690, 691, 692, 693, 694, 695, 308, 0, 0]]"
      ]
     },
     "execution_count": 28,
     "metadata": {},
     "output_type": "execute_result"
    }
   ],
   "source": [
    "batch_data[10][:10]"
   ]
  },
  {
   "cell_type": "code",
   "execution_count": 30,
   "metadata": {},
   "outputs": [],
   "source": [
    "# Convert to numpy array each key\n",
    "for key in batch_data:\n",
    "    batch_data[key] = np.array(batch_data[key])\n",
    "    batch_label[key] = np.array(batch_label[key])"
   ]
  },
  {
   "cell_type": "code",
   "execution_count": 31,
   "metadata": {},
   "outputs": [],
   "source": [
    "import pickle\n",
    "\n",
    "with open('../data/batch_data.npy', 'w') as f:\n",
    "    pickle.dump(batch_data, f)\n",
    "\n",
    "with open('../data/batch_label.npy', 'w') as f:\n",
    "    pickle.dump(batch_label, f)"
   ]
  },
  {
   "cell_type": "code",
   "execution_count": 24,
   "metadata": {},
   "outputs": [
    {
     "data": {
      "text/plain": [
       "[('and', 0.7841068506240845),\n",
       " ('on', 0.759896993637085),\n",
       " ('of', 0.7271450757980347),\n",
       " ('fety', 0.7232488393783569),\n",
       " ('shor', 0.7075440883636475),\n",
       " ('ourt', 0.7063887119293213),\n",
       " ('din', 0.7044749855995178),\n",
       " ('to', 0.7022175192832947),\n",
       " ('afet', 0.6996240019798279),\n",
       " ('from', 0.691842794418335)]"
      ]
     },
     "execution_count": 24,
     "metadata": {},
     "output_type": "execute_result"
    }
   ],
   "source": [
    "# Create embedding matrix\n",
    "wordvec = Word2Vec.load(\"../word-vectors/word2vec\")\n",
    "wordvec.wv.most_similar(\"the\")"
   ]
  },
  {
   "cell_type": "code",
   "execution_count": 31,
   "metadata": {},
   "outputs": [
    {
     "data": {
      "text/plain": [
       "array([ 1.572987  ,  2.735609  ,  0.64099294,  2.2075114 ,  1.810811  ,\n",
       "        1.320163  , -2.0518892 ,  0.6383124 ,  1.5301269 , -1.8204945 ,\n",
       "        0.87725013, -0.9785473 , -2.4711254 ,  1.0467197 , -0.43357244,\n",
       "       -0.37392902, -3.4508646 , -0.87442845, -0.46869975,  0.5089424 ,\n",
       "        2.6256225 , -2.4643495 ,  2.2892654 , -0.29851928,  1.6183301 ,\n",
       "        2.48107   ,  0.21856466, -0.5068994 , -1.7413462 , -1.1562588 ,\n",
       "       -2.8360653 , -3.4761653 ,  2.6883032 ,  1.8478122 , -0.94803345,\n",
       "       -1.5750355 , -1.3575674 , -0.49536067,  1.0757141 ,  0.5275996 ,\n",
       "       -1.9814926 , -2.2281053 , -1.6347038 ,  1.3217245 ,  1.9017682 ,\n",
       "        2.1075456 , -0.41398883,  3.4355843 , -0.00692933, -2.4787297 ,\n",
       "       -0.9633201 ,  2.0556319 ,  0.47517714, -4.1312013 ,  1.4229084 ,\n",
       "        0.8764478 , -0.10577996, -2.3738363 , -0.73883134, -1.2658491 ,\n",
       "       -2.68997   ,  0.40155867,  0.3440695 ,  2.4353578 , -0.28661215,\n",
       "        1.7299148 , -3.2678797 , -0.93289286,  0.552735  ,  3.1327786 ,\n",
       "       -0.48288715, -3.2755373 , -1.6189119 ,  1.9075192 ,  1.1046098 ,\n",
       "        0.79719466,  2.3108268 , -3.6885145 , -1.0105417 , -1.2914083 ,\n",
       "       -2.881221  ,  0.5269283 , -2.3747706 ,  1.4536555 ,  0.32800522,\n",
       "        0.04006169, -0.50203353,  1.8111124 ,  0.81676346, -2.325709  ,\n",
       "       -0.68268937,  2.542379  , -2.0363274 ,  2.0029142 ,  4.7618337 ,\n",
       "        1.2583871 ,  2.8882353 ,  1.9272325 ,  1.4157581 , -0.40579018],\n",
       "      dtype=float32)"
      ]
     },
     "execution_count": 31,
     "metadata": {},
     "output_type": "execute_result"
    }
   ],
   "source": [
    "wordvec.wv.get_vector(\"the\")"
   ]
  },
  {
   "cell_type": "markdown",
   "metadata": {},
   "source": [
    "Tokens are indexed starting from 1. '0' is for the padding. Vector for 0 will be zero-vector."
   ]
  },
  {
   "cell_type": "code",
   "execution_count": 33,
   "metadata": {},
   "outputs": [],
   "source": [
    "vocab_size, embed_size = wordvec.wv.vectors.shape"
   ]
  },
  {
   "cell_type": "code",
   "execution_count": 38,
   "metadata": {},
   "outputs": [
    {
     "data": {
      "text/plain": [
       "('pred', 1)"
      ]
     },
     "execution_count": 38,
     "metadata": {},
     "output_type": "execute_result"
    }
   ],
   "source": [
    "sorted_word_to_index = sorted(zip(word_to_index.keys(), word_to_index.values()), key=lambda x: x[1])\n",
    "sorted_word_to_index[0]"
   ]
  },
  {
   "cell_type": "code",
   "execution_count": 41,
   "metadata": {},
   "outputs": [],
   "source": [
    "embedding_matrix = []\n",
    "embedding_matrix.append([0.]*embed_size)\n",
    "\n",
    "for key, index in sorted_word_to_index:\n",
    "    embedding_matrix.append(wordvec.wv.get_vector(key))"
   ]
  },
  {
   "cell_type": "code",
   "execution_count": 42,
   "metadata": {},
   "outputs": [
    {
     "name": "stdout",
     "output_type": "stream",
     "text": [
      "(82935, 100)\n"
     ]
    }
   ],
   "source": [
    "print(len(embedding_matrix), len(embedding_matrix[0]))"
   ]
  },
  {
   "cell_type": "code",
   "execution_count": 43,
   "metadata": {},
   "outputs": [],
   "source": [
    "embedding_matrix = np.array(embedding_matrix)\n",
    "\n",
    "import pickle\n",
    "with open('../data/embedding_matrix.npy', 'w') as f:\n",
    "    pickle.dump(embedding_matrix, f)"
   ]
  },
  {
   "cell_type": "code",
   "execution_count": 44,
   "metadata": {},
   "outputs": [
    {
     "data": {
      "text/plain": [
       "(82935, 100)"
      ]
     },
     "execution_count": 44,
     "metadata": {},
     "output_type": "execute_result"
    }
   ],
   "source": [
    "with open('../data/embedding_matrix.npy', 'r') as f:\n",
    "    ld = pickle.load(f)\n",
    "ld.shape"
   ]
  },
  {
   "cell_type": "code",
   "execution_count": null,
   "metadata": {},
   "outputs": [],
   "source": []
  }
 ],
 "metadata": {
  "kernelspec": {
   "display_name": "Python 2",
   "language": "python",
   "name": "python2"
  },
  "language_info": {
   "codemirror_mode": {
    "name": "ipython",
    "version": 2
   },
   "file_extension": ".py",
   "mimetype": "text/x-python",
   "name": "python",
   "nbconvert_exporter": "python",
   "pygments_lexer": "ipython2",
   "version": "2.7.12"
  }
 },
 "nbformat": 4,
 "nbformat_minor": 2
}
