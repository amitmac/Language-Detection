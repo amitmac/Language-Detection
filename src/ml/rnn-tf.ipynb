{
 "cells": [
  {
   "cell_type": "code",
   "execution_count": 1,
   "metadata": {},
   "outputs": [],
   "source": [
    "import numpy as np\n",
    "import tensorflow as tf\n",
    "import os\n",
    "import sys\n",
    "from gensim.models import Word2Vec\n",
    "import math"
   ]
  },
  {
   "cell_type": "markdown",
   "metadata": {},
   "source": [
    "**Define functions**"
   ]
  },
  {
   "cell_type": "code",
   "execution_count": 2,
   "metadata": {},
   "outputs": [],
   "source": [
    "# Create placeholders\n",
    "X = tf.placeholder(shape=(None, None), dtype=tf.int32)\n",
    "Y = tf.placeholder(shape=(None), dtype=tf.int32)"
   ]
  },
  {
   "cell_type": "code",
   "execution_count": 3,
   "metadata": {},
   "outputs": [],
   "source": [
    "# Create RNN\n",
    "def get_init_cell(batch_size, rnn_size):\n",
    "    \"\"\"\n",
    "    Create an RNN Cell and initialize it.\n",
    "        :param batch_size: Size of batches\n",
    "        :param rnn_size: Size of RNNs\n",
    "        :return: Tuple (cell, initialize state)\n",
    "    \"\"\"\n",
    "    lstm_cell = tf.nn.rnn_cell.BasicLSTMCell(rnn_size)\n",
    "    initial_state = lstm_cell.zero_state(batch_size, dtype=tf.float32)\n",
    "    return lstm_cell, initial_state\n",
    "\n",
    "def build_rnn(cell, inputs, num_classes):\n",
    "    outputs, final_state = tf.nn.dynamic_rnn(cell, inputs, dtype=tf.float32)\n",
    "    logits = tf.contrib.layers.fully_connected(outputs, num_classes, \n",
    "                                               activation_fn=None,\n",
    "                                               weights_initializer=tf.truncated_normal_initializer(stddev=0.1),\n",
    "                                               biases_initializer=tf.zeros_initializer)\n",
    "    return logits, final_state"
   ]
  },
  {
   "cell_type": "code",
   "execution_count": 4,
   "metadata": {},
   "outputs": [],
   "source": [
    "# Create loss function\n",
    "def loss_function(labels, logits):\n",
    "    loss = tf.nn.sparse_softmax_cross_entropy_with_logits(labels=labels, logits=logits)\n",
    "    return tf.reduce_mean(loss)"
   ]
  },
  {
   "cell_type": "markdown",
   "metadata": {},
   "source": [
    "**Get data**"
   ]
  },
  {
   "cell_type": "code",
   "execution_count": 5,
   "metadata": {},
   "outputs": [
    {
     "data": {
      "text/plain": [
       "(81434, 100)"
      ]
     },
     "execution_count": 5,
     "metadata": {},
     "output_type": "execute_result"
    }
   ],
   "source": [
    "import pickle\n",
    "with open('../data/embedding_matrix.npy', 'r') as f:\n",
    "    embedding_matrix = pickle.load(f)\n",
    "embedding_matrix.shape"
   ]
  },
  {
   "cell_type": "code",
   "execution_count": 6,
   "metadata": {},
   "outputs": [
    {
     "data": {
      "text/plain": [
       "TensorShape([Dimension(None), Dimension(None), Dimension(100)])"
      ]
     },
     "execution_count": 6,
     "metadata": {},
     "output_type": "execute_result"
    }
   ],
   "source": [
    "# Create embedding lookup\n",
    "embeddings = tf.constant(embedding_matrix, dtype=tf.float32)\n",
    "X_embedded = tf.nn.embedding_lookup(embeddings, X)\n",
    "X_embedded.shape"
   ]
  },
  {
   "cell_type": "code",
   "execution_count": 7,
   "metadata": {},
   "outputs": [],
   "source": [
    "with open('../data/train_batch.npy', 'r') as f:\n",
    "    train = pickle.load(f)\n",
    "\n",
    "with open('../data/valid_batch.npy', 'r') as f:\n",
    "    valid = pickle.load(f)\n",
    "    \n",
    "with open('../data/test_data.npy', 'r') as f:\n",
    "    test = pickle.load(f)\n",
    "    \n",
    "train_batch_data, train_batch_labels = train['data'], train['labels']\n",
    "valid_batch_data, valid_batch_labels = valid['data'], valid['labels']\n",
    "test_data, test_labels = test['data'], test['labels']"
   ]
  },
  {
   "cell_type": "markdown",
   "metadata": {},
   "source": [
    "**Build the graph**"
   ]
  },
  {
   "cell_type": "code",
   "execution_count": 8,
   "metadata": {},
   "outputs": [],
   "source": [
    "num_classes = 21\n",
    "num_epochs = 15\n",
    "batch_size = 32\n",
    "learning_rate = 0.001\n",
    "rnn_size = 100"
   ]
  },
  {
   "cell_type": "code",
   "execution_count": 9,
   "metadata": {},
   "outputs": [],
   "source": [
    "lstm_cell, initial_state = get_init_cell(tf.shape(X)[0], rnn_size)\n",
    "logits, final_state = build_rnn(lstm_cell, X_embedded, num_classes)\n",
    "logits = logits[:,-1,:]\n",
    "probs = tf.nn.softmax(logits)\n",
    "cost = loss_function(Y, logits)\n",
    "train_op = tf.train.AdamOptimizer(learning_rate).minimize(cost)"
   ]
  },
  {
   "cell_type": "markdown",
   "metadata": {},
   "source": [
    "**Train**"
   ]
  },
  {
   "cell_type": "code",
   "execution_count": 10,
   "metadata": {},
   "outputs": [],
   "source": [
    "sess = tf.InteractiveSession()\n",
    "sess.run(tf.global_variables_initializer())"
   ]
  },
  {
   "cell_type": "code",
   "execution_count": 11,
   "metadata": {},
   "outputs": [],
   "source": [
    "train_loss_history, valid_loss_history = [], []"
   ]
  },
  {
   "cell_type": "code",
   "execution_count": 12,
   "metadata": {},
   "outputs": [
    {
     "name": "stdout",
     "output_type": "stream",
     "text": [
      "Epoch 0\n",
      "Training Loss: 0.00103627372528\n",
      "Validation Loss: 0.412224358618\n",
      "Epoch 1\n",
      "Training Loss: 0.000360021860314\n",
      "Validation Loss: 0.138930102019\n",
      "Epoch 2\n",
      "Training Loss: 0.000101715873477\n",
      "Validation Loss: 0.0745713533787\n",
      "Epoch 3\n",
      "Training Loss: 6.63036035111e-05\n",
      "Validation Loss: 0.0582519684976\n",
      "Epoch 4\n",
      "Training Loss: 4.58338238622e-05\n",
      "Validation Loss: 0.0493895545782\n",
      "Epoch 5\n",
      "Training Loss: 2.92274860368e-05\n",
      "Validation Loss: 0.0474537885048\n",
      "Epoch 6\n",
      "Training Loss: 1.355854811e-05\n",
      "Validation Loss: 0.0462275409124\n",
      "Epoch 7\n",
      "Training Loss: 9.01927024316e-06\n",
      "Validation Loss: 0.04659284083\n",
      "Epoch 8\n",
      "Training Loss: 9.93057899603e-06\n",
      "Validation Loss: 0.0450686198669\n",
      "Epoch 9\n",
      "Training Loss: 7.90549431664e-06\n",
      "Validation Loss: 0.0420636774369\n",
      "Epoch 10\n",
      "Training Loss: 6.19575670469e-06\n",
      "Validation Loss: 0.0399298551232\n",
      "Epoch 11\n",
      "Training Loss: 5.19621794907e-06\n",
      "Validation Loss: 0.0397577340457\n",
      "Epoch 12\n",
      "Training Loss: 6.58657302817e-06\n",
      "Validation Loss: 0.0433061839761\n",
      "Epoch 13\n",
      "Training Loss: 4.97369467549e-06\n",
      "Validation Loss: 0.0399382838387\n",
      "Epoch 14\n",
      "Training Loss: 9.95295151654e-06\n",
      "Validation Loss: 0.0397675608638\n",
      "CPU times: user 2h 36min 20s, sys: 12min 25s, total: 2h 48min 45s\n",
      "Wall time: 55min 10s\n"
     ]
    }
   ],
   "source": [
    "%%time\n",
    "for epoch in range(num_epochs):\n",
    "    print(\"Epoch {}\".format(epoch))\n",
    "    state = sess.run(initial_state, {X: train_batch_data[10][:64]})\n",
    "    iterations = 0\n",
    "    for key in train_batch_data:\n",
    "        total_data = len(train_batch_data[key])\n",
    "        num_batches = int(math.ceil(total_data/float(batch_size)))\n",
    "        train_loss = 0\n",
    "        for batch in range(num_batches):\n",
    "            train_x = train_batch_data[key][batch*batch_size:(batch+1)*batch_size]\n",
    "            train_y = train_batch_labels[key][batch*batch_size:(batch+1)*batch_size]\n",
    "            train_y = train_y.reshape(train_y.shape[0])\n",
    "            feed = {X: train_x,\n",
    "                    Y: train_y,\n",
    "                    initial_state: state}\n",
    "            t_loss, state, _ = sess.run([cost, final_state, train_op], feed)\n",
    "            train_loss += t_loss\n",
    "            iterations += 1\n",
    "    train_loss = train_loss/iterations\n",
    "    print(\"Training Loss: {}\".format(train_loss))\n",
    "    train_loss_history.append(train_loss)\n",
    "    \n",
    "    # Validation Loss\n",
    "    valid_loss = 0\n",
    "    for key in valid_batch_data:\n",
    "        feed = {X: valid_batch_data[key],\n",
    "                Y: valid_batch_labels[key],\n",
    "                initial_state: state}\n",
    "        v_loss = sess.run(cost, feed)\n",
    "        valid_loss += v_loss\n",
    "    valid_loss = valid_loss/len(valid_batch_data)\n",
    "    print(\"Validation Loss: {}\".format(valid_loss))\n",
    "    valid_loss_history.append(valid_loss)"
   ]
  },
  {
   "cell_type": "markdown",
   "metadata": {},
   "source": [
    "**Looks like the model has too much overfitting. The loss has gone down to $10^{-6}$ range while validation loss is still in $10^{-2}$ range.**"
   ]
  },
  {
   "cell_type": "code",
   "execution_count": 13,
   "metadata": {},
   "outputs": [
    {
     "name": "stdout",
     "output_type": "stream",
     "text": [
      "0.0022380952380952382\n"
     ]
    }
   ],
   "source": [
    "predictions = []\n",
    "for ind, test_i in enumerate(test_data):\n",
    "    test_i = np.reshape(test_i, (1,-1))\n",
    "    if test_i.shape[1] > 0:\n",
    "        p = sess.run(probs, {X: test_i})\n",
    "        predictions.append(np.argmax(p[0]))\n",
    "    else:\n",
    "        predictions.append(-1)\n",
    "predictions = np.array(predictions)\n",
    "print(sum(predictions == test_labels)/float(len(test_labels)))"
   ]
  },
  {
   "cell_type": "code",
   "execution_count": 17,
   "metadata": {},
   "outputs": [],
   "source": [
    "import matplotlib.pyplot as plt\n",
    "%matplotlib inline "
   ]
  },
  {
   "cell_type": "code",
   "execution_count": 26,
   "metadata": {},
   "outputs": [
    {
     "data": {
      "image/png": "[encoded data removed]",
      "text/plain": [
       "<Figure size 1008x360 with 1 Axes>"
      ]
     },
     "metadata": {},
     "output_type": "display_data"
    }
   ],
   "source": [
    "plt.figure(figsize=(14, 5))\n",
    "plt.plot(train_loss_history)\n",
    "plt.plot(valid_loss_history)\n",
    "min_y = min(min(valid_loss_history),min(train_loss_history))\n",
    "max_y = max(max(valid_loss_history),max(train_loss_history))\n",
    "\n",
    "plt.show()"
   ]
  },
  {
   "cell_type": "code",
   "execution_count": null,
   "metadata": {},
   "outputs": [],
   "source": []
  }
 ],
 "metadata": {
  "kernelspec": {
   "display_name": "Python 2",
   "language": "python",
   "name": "python2"
  },
  "language_info": {
   "codemirror_mode": {
    "name": "ipython",
    "version": 2
   },
   "file_extension": ".py",
   "mimetype": "text/x-python",
   "name": "python",
   "nbconvert_exporter": "python",
   "pygments_lexer": "ipython2",
   "version": "2.7.12"
  }
 },
 "nbformat": 4,
 "nbformat_minor": 2
}
