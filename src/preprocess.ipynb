{
 "cells": [
  {
   "cell_type": "code",
   "execution_count": 1,
   "metadata": {},
   "outputs": [],
   "source": [
    "import numpy as np\n",
    "import pandas as pd\n",
    "import os"
   ]
  },
  {
   "cell_type": "markdown",
   "metadata": {},
   "source": [
    "#### Load data"
   ]
  },
  {
   "cell_type": "code",
   "execution_count": 2,
   "metadata": {},
   "outputs": [
    {
     "name": "stdout",
     "output_type": "stream",
     "text": [
      "['sl', 'es', 'el', 'nl', 'hu', 'it', 'bg', 'sk', 'da', 'sv', 'cs', 'lt', 'de', 'en', 'pl', 'fr', 'fi', 'lv', 'pt', 'et', 'ro']\n"
     ]
    }
   ],
   "source": [
    "data_path = \"/workspace/lang-detect/txt/\"\n",
    "dir_list = os.listdir(data_path)\n",
    "print(dir_list)"
   ]
  },
  {
   "cell_type": "code",
   "execution_count": 3,
   "metadata": {},
   "outputs": [],
   "source": [
    "def read_data(filepath):\n",
    "    with open(filepath, \"r\") as f:\n",
    "        lines = f.readlines()\n",
    "        if len(lines) > 1:\n",
    "            return lines[1].strip(\"\\n\")\n",
    "        return None"
   ]
  },
  {
   "cell_type": "code",
   "execution_count": 4,
   "metadata": {},
   "outputs": [
    {
     "name": "stdout",
     "output_type": "stream",
     "text": [
      "CPU times: user 2.81 s, sys: 1.69 s, total: 4.5 s\n",
      "Wall time: 4.53 s\n"
     ]
    }
   ],
   "source": [
    "%%time\n",
    "data, labels = [], []\n",
    "for dir_name in dir_list:\n",
    "    files_list = os.listdir(data_path + dir_name)\n",
    "    for f in files_list:\n",
    "        sent = read_data(data_path + dir_name + \"/\" + f)\n",
    "        if sent:\n",
    "            data.append(sent)\n",
    "            labels.append(dir_name)"
   ]
  },
  {
   "cell_type": "code",
   "execution_count": 5,
   "metadata": {},
   "outputs": [
    {
     "name": "stdout",
     "output_type": "stream",
     "text": [
      "('Length of data', 186458)\n"
     ]
    }
   ],
   "source": [
    "print(\"Length of data\", len(data))"
   ]
  },
  {
   "cell_type": "code",
   "execution_count": 6,
   "metadata": {},
   "outputs": [
    {
     "name": "stdout",
     "output_type": "stream",
     "text": [
      "('10. Qualit\\xc3\\xa0 delle acque destinate alla molluschicoltura (versione codificata) (votazione) ', 'it')\n",
      "('\\xc3\\x84\\xc3\\xa4nestykset', 'fi')\n",
      "('4. Flughafenkapazit\\xc3\\xa4t und Bodenabfertigung: der Weg zu mehr Effizienz (Abstimmung) ', 'de')\n",
      "('Istuntokauden keskeytt\\xc3\\xa4minen', 'fi')\n",
      "('Durchf\\xc3\\xbchrungsma\\xc3\\x9fnahmen (Artikel 88 GO): siehe Protokoll', 'de')\n",
      "('N\\xc4\\x81kamo s\\xc4\\x93\\xc5\\xbeu datumi (sk. protokolu)', 'lv')\n",
      "('\\xd0\\x97\\xd0\\xb0\\xd0\\xba\\xd1\\x80\\xd0\\xb8\\xd0\\xb2\\xd0\\xb0\\xd0\\xbd\\xd0\\xb5 \\xd0\\xbd\\xd0\\xb0 \\xd0\\xb7\\xd0\\xb0\\xd1\\x81\\xd0\\xb5\\xd0\\xb4\\xd0\\xb0\\xd0\\xbd\\xd0\\xb8\\xd0\\xb5\\xd1\\x82\\xd0\\xbe', 'bg')\n",
      "('Aprobaci\\xc3\\xb3n del Acta de la sesi\\xc3\\xb3n anterior', 'es')\n",
      "('Zaklju\\xc4\\x8dek seje', 'sl')\n",
      "('In het register ingeschreven schriftelijke verklaringen (artikel 116 van het reglement) ', 'nl')\n",
      "('4. Globaliseerumisega Kohanemise Euroopa Fondi kasutuselev\\xc3\\xb5tmine: Heidelberger Druckmaschinen AG, Saksamaa (', 'et')\n",
      "('3. Som\\xc3\\xa1lia (vota\\xc3\\xa7\\xc3\\xa3o) ', 'pt')\n",
      "('Petice: viz z\\xc3\\xa1pis', 'cs')\n",
      "('Eelmise istungi protokolli kinnitamine (vt protokoll)', 'et')\n",
      "('5. Sundhedstjek af den f\\xc3\\xa6lles landbrugspolitik (', 'da')\n",
      "('Neuvoston toimittamat sopimustekstit: ks. p\\xc3\\xb6yt\\xc3\\xa4kirja', 'fi')\n",
      "('Approbation du proc\\xc3\\xa8s-verbal de la s\\xc3\\xa9ance pr\\xc3\\xa9c\\xc3\\xa9dente : voir proc\\xc3\\xa8s-verbal', 'fr')\n",
      "('Securitatea energetic\\xc4\\x83 (Nabucco \\xc5\\x9fi Desertec) (dezbatere) ', 'ro')\n",
      "('Istungi l\\xc3\\xb5pp', 'et')\n",
      "('Transmisi\\xc3\\xb3n por el Consejo de textos de Acuerdos: v\\xc3\\xa9ase el Acta', 'es')\n"
     ]
    }
   ],
   "source": [
    "# Check data sample\n",
    "import random\n",
    "rand_indices = random.sample(range(len(data)),  20)\n",
    "for i in rand_indices:\n",
    "    print(data[i],labels[i])"
   ]
  },
  {
   "cell_type": "markdown",
   "metadata": {},
   "source": [
    "#### Preprocess the data"
   ]
  },
  {
   "cell_type": "code",
   "execution_count": 7,
   "metadata": {},
   "outputs": [
    {
     "data": {
      "text/plain": [
       "'aftale mellem EF og japans lin p\\xc3\\xb6yt\\xc3\\xa4kirjan hyv\\xc3\\xa4ksyminen '"
      ]
     },
     "execution_count": 7,
     "metadata": {},
     "output_type": "execute_result"
    }
   ],
   "source": [
    "import re, string\n",
    "\n",
    "pattern = re.compile(\"[\\d{}]+$\".format(re.escape(string.punctuation)))\n",
    "\n",
    "def preprocess(text):\n",
    "    # remove punctuations\n",
    "    text = re.sub(\"[()/.:?,!@#$%\\\"']\", \"\", text)\n",
    "    new_string = \"\"\n",
    "    for token in text.split():\n",
    "        # check if no alphabet character\n",
    "        if not pattern.match(token):\n",
    "            # if not in all-caps, make it lower case\n",
    "            if not token.isupper():\n",
    "                token = token.lower()\n",
    "            new_string += (token + \" \")\n",
    "    return new_string\n",
    "\n",
    "test_text = \"12. Aftale mellem EF\\\" 'og' Japans !2### ( 100.9 lin 1233 ??? p\\xc3\\xb6yt\\xc3\\xa4kirjan hyv\\xc3\\xa4ksyminen:\"\n",
    "preprocess(test_text)"
   ]
  },
  {
   "cell_type": "code",
   "execution_count": 8,
   "metadata": {},
   "outputs": [
    {
     "name": "stdout",
     "output_type": "stream",
     "text": [
      "CPU times: user 1.17 s, sys: 10.4 ms, total: 1.18 s\n",
      "Wall time: 1.18 s\n"
     ]
    }
   ],
   "source": [
    "%%time\n",
    "for i in range(len(data)):\n",
    "    data[i] = preprocess(data[i])"
   ]
  },
  {
   "cell_type": "code",
   "execution_count": 9,
   "metadata": {},
   "outputs": [
    {
     "name": "stdout",
     "output_type": "stream",
     "text": [
      "['predlog splo\\xc5\\xa1nega prora\\xc4\\x8duna za leto oddelek III ', '\\xc5\\xbdenske in vodenje podjetij ', 'razmere na bli\\xc5\\xbenjem vzhodugaza glasovanje ', 'predlo\\xc5\\xbeitev dokumentov glej zapisnik ', 'javna ponudba vrednostnih papirjev in uskladitev zahtev v zvezi s preglednostjo razprava ']\n"
     ]
    }
   ],
   "source": [
    "#test\n",
    "print(data[:5])"
   ]
  },
  {
   "cell_type": "markdown",
   "metadata": {},
   "source": [
    "#### Create dictionary for each language"
   ]
  },
  {
   "cell_type": "code",
   "execution_count": 10,
   "metadata": {},
   "outputs": [],
   "source": [
    "from collections import defaultdict\n",
    "\n",
    "lang_dict = defaultdict(lambda: defaultdict(int))\n",
    "\n",
    "for i in range(len(data)):\n",
    "    for token in data[i].split():\n",
    "        if (labels[i] in lang_dict) and (token in lang_dict[labels[i]]):\n",
    "            lang_dict[labels[i]][token] += 1\n",
    "        else:\n",
    "            lang_dict[labels[i]][token] = 0"
   ]
  },
  {
   "cell_type": "code",
   "execution_count": 11,
   "metadata": {},
   "outputs": [
    {
     "data": {
      "text/plain": [
       "5324"
      ]
     },
     "execution_count": 11,
     "metadata": {},
     "output_type": "execute_result"
    }
   ],
   "source": [
    "lang_dict['en']['the']"
   ]
  },
  {
   "cell_type": "code",
   "execution_count": 12,
   "metadata": {},
   "outputs": [
    {
     "name": "stdout",
     "output_type": "stream",
     "text": [
      "('el', 6713)\n",
      "('fr', 4738)\n",
      "('bg', 5449)\n",
      "('nl', 5100)\n",
      "('ro', 5111)\n",
      "('pt', 4241)\n",
      "('lv', 6186)\n",
      "('sv', 5645)\n",
      "('de', 5617)\n",
      "('it', 4819)\n",
      "('hu', 6841)\n",
      "('sk', 6480)\n",
      "('et', 6733)\n",
      "('lt', 6431)\n",
      "('en', 4035)\n",
      "('pl', 6485)\n",
      "('sl', 6391)\n",
      "('cs', 6002)\n",
      "('fi', 7015)\n",
      "('da', 5240)\n",
      "('es', 4273)\n"
     ]
    }
   ],
   "source": [
    "# Vocabulary size in each language\n",
    "for key in lang_dict.keys():\n",
    "    print(key, len(lang_dict[key].keys()))"
   ]
  },
  {
   "cell_type": "markdown",
   "metadata": {},
   "source": [
    "#### Save the data"
   ]
  },
  {
   "cell_type": "code",
   "execution_count": 13,
   "metadata": {},
   "outputs": [],
   "source": [
    "import json\n",
    "\n",
    "with open('lang_dict.json', 'w') as outfile:\n",
    "    json.dump(lang_dict, outfile)"
   ]
  },
  {
   "cell_type": "code",
   "execution_count": null,
   "metadata": {},
   "outputs": [],
   "source": []
  },
  {
   "cell_type": "code",
   "execution_count": 14,
   "metadata": {},
   "outputs": [
    {
     "name": "stdout",
     "output_type": "stream",
     "text": [
      "Доклад относно проекта на общ бюджет на Европейския съюз за финансовата година Раздел III Комисия \n",
      "Жените и ръководството на предприятия \n",
      "Положението в Средния изтокИвицата Газа гласуване \n",
      "Внасяне на документи вж протоколи \n",
      "Въпроси с искане за устен отговор и писмени декларации внасяне вж протокола \n",
      "Десета годишнина от приемането на Резолюция на Съвета за сигурност на ООН относно жените мира и сигурността внесени предложения за резолюция вж протокола \n",
      "Ред за работата на Парламента вж протоколи \n",
      "Поправки и намерения за гласуване вж протоколи \n",
      "Сътрудничество между съдилища на държавите-членки при събирането на доказателства по граждански или търговски дела кратко представяне \n",
      "Поправки член 204а от Правилника за дейността вж протокола \n"
     ]
    }
   ],
   "source": [
    "# Test bg language data\n",
    "count = 0\n",
    "for i in range(len(data)):\n",
    "    if labels[i] == 'bg':\n",
    "        print(data[i])\n",
    "        count += 1\n",
    "    if count == 10:\n",
    "        break"
   ]
  },
  {
   "cell_type": "code",
   "execution_count": null,
   "metadata": {},
   "outputs": [],
   "source": []
  }
 ],
 "metadata": {
  "kernelspec": {
   "display_name": "Python 2",
   "language": "python",
   "name": "python2"
  },
  "language_info": {
   "codemirror_mode": {
    "name": "ipython",
    "version": 2
   },
   "file_extension": ".py",
   "mimetype": "text/x-python",
   "name": "python",
   "nbconvert_exporter": "python",
   "pygments_lexer": "ipython2",
   "version": "2.7.12"
  }
 },
 "nbformat": 4,
 "nbformat_minor": 2
}
