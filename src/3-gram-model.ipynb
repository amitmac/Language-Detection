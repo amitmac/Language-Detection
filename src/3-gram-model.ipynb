{
 "cells": [
  {
   "cell_type": "code",
   "execution_count": 2,
   "metadata": {},
   "outputs": [],
   "source": [
    "import numpy as np\n",
    "import pandas as pd\n",
    "import os\n",
    "import json\n",
    "import pickle"
   ]
  },
  {
   "cell_type": "code",
   "execution_count": 3,
   "metadata": {},
   "outputs": [],
   "source": [
    "with open('lang_dict_3_gram.json', 'r') as f:\n",
    "    lang_dict_n_gram = pickle.load(f)"
   ]
  },
  {
   "cell_type": "code",
   "execution_count": 4,
   "metadata": {},
   "outputs": [
    {
     "name": "stdout",
     "output_type": "stream",
     "text": [
      "4100\n",
      "5480\n"
     ]
    }
   ],
   "source": [
    "print(len(lang_dict_n_gram['en'].keys()))\n",
    "print(lang_dict_n_gram['en']['the'])"
   ]
  },
  {
   "cell_type": "code",
   "execution_count": 5,
   "metadata": {},
   "outputs": [
    {
     "name": "stdout",
     "output_type": "stream",
     "text": [
      "('\"\\xd0\\x95\\xd0\\xb2\\xd1\\x80\\xd0\\xbe\\xd0\\xbf\\xd0\\xb0 2020\" \\xd0\\xbd\\xd0\\xb5 \\xd1\\x82\\xd1\\x80\\xd1\\x8f\\xd0\\xb1\\xd0\\xb2\\xd0\\xb0 \\xd0\\xb4\\xd0\\xb0 \\xd1\\x81\\xd1\\x82\\xd0\\xb0\\xd1\\x80\\xd1\\x82\\xd0\\xb8\\xd1\\x80\\xd0\\xb0 \\xd0\\xbd\\xd0\\xbe\\xd0\\xb2 \\xd0\\xba\\xd0\\xbe\\xd0\\xbd\\xd0\\xba\\xd1\\x83\\xd1\\x80\\xd0\\xb5\\xd0\\xbd\\xd1\\x82\\xd0\\xb5\\xd0\\xbd \\xd0\\xbc\\xd0\\xb0\\xd1\\x80\\xd0\\xb0\\xd1\\x82\\xd0\\xbe\\xd0\\xbd \\xd0\\xb8 \\xd0\\xb8\\xd0\\xb7\\xd1\\x85\\xd0\\xbe\\xd0\\xb4 \\xd1\\x81 \\xd0\\xbf\\xd1\\x80\\xd0\\xb8\\xd0\\xb2\\xd0\\xb0\\xd1\\x82\\xd0\\xb8\\xd0\\xb7\\xd0\\xb0\\xd1\\x86\\xd0\\xb8\\xd1\\x8f.', 'bg')\n"
     ]
    }
   ],
   "source": [
    "test_data, test_labels = [], []\n",
    "with open(\"/workspace/lang-detect/europarl.test\", \"r\") as f:\n",
    "    for line in f:\n",
    "        line = line.split()\n",
    "        test_data.append(\" \".join(line[1:]))\n",
    "        test_labels.append(line[0])\n",
    "print(test_data[0], test_labels[0])"
   ]
  },
  {
   "cell_type": "code",
   "execution_count": 6,
   "metadata": {},
   "outputs": [
    {
     "name": "stdout",
     "output_type": "stream",
     "text": [
      "21000\n"
     ]
    }
   ],
   "source": [
    "print(len(test_data))"
   ]
  },
  {
   "cell_type": "code",
   "execution_count": 7,
   "metadata": {},
   "outputs": [],
   "source": [
    "import utils\n",
    "\n",
    "for i in range(len(test_data)):\n",
    "    test_data[i] = utils.preprocess(test_data[i])\n",
    "\n",
    "new_data = [0]*len(test_data)\n",
    "\n",
    "for i in range(len(test_data)):\n",
    "    new_data[i] = utils.create_n_gram(test_data[i], 3)"
   ]
  },
  {
   "cell_type": "code",
   "execution_count": 8,
   "metadata": {},
   "outputs": [
    {
     "data": {
      "text/plain": [
       "['\\xd0\\x95\\xd0 \\x95\\xd0\\xb2 \\xd0\\xb2\\xd1 \\xb2\\xd1\\x80 \\xd1\\x80\\xd0 \\x80\\xd0\\xbe \\xd0\\xbe\\xd0 \\xbe\\xd0\\xbf \\xd0\\xbf\\xd0 \\xbf\\xd0\\xb0 \\xd0\\xbd\\xd0 \\xbd\\xd0\\xb5 \\xd1\\x82\\xd1 \\x82\\xd1\\x80 \\xd1\\x80\\xd1 \\x80\\xd1\\x8f \\xd1\\x8f\\xd0 \\x8f\\xd0\\xb1 \\xd0\\xb1\\xd0 \\xb1\\xd0\\xb2 \\xd0\\xb2\\xd0 \\xb2\\xd0\\xb0 \\xd0\\xb4\\xd0 \\xb4\\xd0\\xb0 \\xd1\\x81\\xd1 \\x81\\xd1\\x82 \\xd1\\x82\\xd0 \\x82\\xd0\\xb0 \\xd0\\xb0\\xd1 \\xb0\\xd1\\x80 \\xd1\\x80\\xd1 \\x80\\xd1\\x82 \\xd1\\x82\\xd0 \\x82\\xd0\\xb8 \\xd0\\xb8\\xd1 \\xb8\\xd1\\x80 \\xd1\\x80\\xd0 \\x80\\xd0\\xb0 \\xd0\\xbd\\xd0 \\xbd\\xd0\\xbe \\xd0\\xbe\\xd0 \\xbe\\xd0\\xb2 \\xd0\\xba\\xd0 \\xba\\xd0\\xbe \\xd0\\xbe\\xd0 \\xbe\\xd0\\xbd \\xd0\\xbd\\xd0 \\xbd\\xd0\\xba \\xd0\\xba\\xd1 \\xba\\xd1\\x83 \\xd1\\x83\\xd1 \\x83\\xd1\\x80 \\xd1\\x80\\xd0 \\x80\\xd0\\xb5 \\xd0\\xb5\\xd0 \\xb5\\xd0\\xbd \\xd0\\xbd\\xd1 \\xbd\\xd1\\x82 \\xd1\\x82\\xd0 \\x82\\xd0\\xb5 \\xd0\\xb5\\xd0 \\xb5\\xd0\\xbd \\xd0\\xbc\\xd0 \\xbc\\xd0\\xb0 \\xd0\\xb0\\xd1 \\xb0\\xd1\\x80 \\xd1\\x80\\xd0 \\x80\\xd0\\xb0 \\xd0\\xb0\\xd1 \\xb0\\xd1\\x82 \\xd1\\x82\\xd0 \\x82\\xd0\\xbe \\xd0\\xbe\\xd0 \\xbe\\xd0\\xbd \\xd0\\xb8 \\xd0\\xb8\\xd0 \\xb8\\xd0\\xb7 \\xd0\\xb7\\xd1 \\xb7\\xd1\\x85 \\xd1\\x85\\xd0 \\x85\\xd0\\xbe \\xd0\\xbe\\xd0 \\xbe\\xd0\\xb4 \\xd1\\x81 \\xd0\\xbf\\xd1 \\xbf\\xd1\\x80 \\xd1\\x80\\xd0 \\x80\\xd0\\xb8 \\xd0\\xb8\\xd0 \\xb8\\xd0\\xb2 \\xd0\\xb2\\xd0 \\xb2\\xd0\\xb0 \\xd0\\xb0\\xd1 \\xb0\\xd1\\x82 \\xd1\\x82\\xd0 \\x82\\xd0\\xb8 \\xd0\\xb8\\xd0 \\xb8\\xd0\\xb7 \\xd0\\xb7\\xd0 \\xb7\\xd0\\xb0 \\xd0\\xb0\\xd1 \\xb0\\xd1\\x86 \\xd1\\x86\\xd0 \\x86\\xd0\\xb8 \\xd0\\xb8\\xd1 \\xb8\\xd1\\x8f',\n",
       " 'CS \\xd0\\x9d\\xd0 \\x9d\\xd0\\xb0 \\xd0\\xb0\\xd0 \\xb0\\xd0\\xb9 \\xd0\\xb9- \\xb9-\\xd0 -\\xd0\\xb3 \\xd0\\xb3\\xd0 \\xb3\\xd0\\xbe \\xd0\\xbe\\xd0 \\xbe\\xd0\\xbb \\xd0\\xbb\\xd1 \\xbb\\xd1\\x8f \\xd1\\x8f\\xd0 \\x8f\\xd0\\xbc \\xd0\\xbc\\xd0 \\xbc\\xd0\\xb0 \\xd0\\xb0\\xd1 \\xb0\\xd1\\x82 \\xd1\\x82\\xd0 \\x82\\xd0\\xb0 \\xd0\\xbd\\xd0 \\xbd\\xd0\\xb5 \\xd0\\xb5\\xd1 \\xb5\\xd1\\x81 \\xd1\\x81\\xd0 \\x81\\xd0\\xbf \\xd0\\xbf\\xd1 \\xbf\\xd1\\x80 \\xd1\\x80\\xd0 \\x80\\xd0\\xb0 \\xd0\\xb0\\xd0 \\xb0\\xd0\\xb2 \\xd0\\xb2\\xd0 \\xb2\\xd0\\xb5 \\xd0\\xb5\\xd0 \\xb5\\xd0\\xb4 \\xd0\\xb4\\xd0 \\xb4\\xd0\\xbb \\xd0\\xbb\\xd0 \\xbb\\xd0\\xb8 \\xd0\\xb8\\xd0 \\xb8\\xd0\\xb2 \\xd0\\xb2\\xd0 \\xb2\\xd0\\xbe \\xd0\\xbe\\xd1 \\xbe\\xd1\\x81 \\xd1\\x81\\xd1 \\x81\\xd1\\x82 \\xd0\\xbd\\xd0 \\xbd\\xd0\\xb0 \\xd1\\x81\\xd0 \\x81\\xd0\\xb5 \\xd0\\xb5\\xd0 \\xb5\\xd0\\xb3 \\xd0\\xb3\\xd0 \\xb3\\xd0\\xb0 \\xd0\\xb0\\xd1 \\xb0\\xd1\\x88 \\xd1\\x88\\xd0 \\x88\\xd0\\xbd \\xd0\\xbd\\xd0 \\xbd\\xd0\\xb0 \\xd0\\xb0\\xd1 \\xb0\\xd1\\x82 \\xd1\\x82\\xd0 \\x82\\xd0\\xb0 \\xd0\\xbe\\xd0 \\xbe\\xd0\\xb1 \\xd0\\xb1\\xd1 \\xb1\\xd1\\x89 \\xd1\\x89\\xd0 \\x89\\xd0\\xb0 \\xd1\\x81\\xd0 \\x81\\xd0\\xb5 \\xd0\\xb5\\xd0 \\xb5\\xd0\\xbb \\xd0\\xbb\\xd1 \\xbb\\xd1\\x81 \\xd1\\x81\\xd0 \\x81\\xd0\\xba \\xd0\\xba\\xd0 \\xba\\xd0\\xbe \\xd0\\xbe\\xd1 \\xbe\\xd1\\x81 \\xd1\\x81\\xd1 \\x81\\xd1\\x82 \\xd1\\x82\\xd0 \\x82\\xd0\\xbe \\xd0\\xbe\\xd0 \\xbe\\xd0\\xbf \\xd0\\xbf\\xd0 \\xbf\\xd0\\xb0 \\xd0\\xb0\\xd0 \\xb0\\xd0\\xbd \\xd0\\xbd\\xd1 \\xbd\\xd1\\x81 \\xd1\\x81\\xd0 \\x81\\xd0\\xba \\xd0\\xba\\xd0 \\xba\\xd0\\xb0 \\xd0\\xbf\\xd0 \\xbf\\xd0\\xbe \\xd0\\xbe\\xd0 \\xbe\\xd0\\xbb \\xd0\\xbb\\xd0 \\xbb\\xd0\\xb8 \\xd0\\xb8\\xd1 \\xb8\\xd1\\x82 \\xd1\\x82\\xd0 \\x82\\xd0\\xb8 \\xd0\\xb8\\xd0 \\xb8\\xd0\\xba \\xd0\\xba\\xd0 \\xba\\xd0\\xb0 \\xd0\\xb5 \\xd1\\x84\\xd0 \\x84\\xd0\\xb0 \\xd0\\xb0\\xd0 \\xb0\\xd0\\xba \\xd0\\xba\\xd1 \\xba\\xd1\\x82 \\xd1\\x82\\xd1 \\x82\\xd1\\x8a \\xd1\\x8a\\xd1 \\x8a\\xd1\\x82 \\xd1\\x87\\xd0 \\x87\\xd0\\xb5 \\xd1\\x81\\xd1 \\x81\\xd1\\x83 \\xd1\\x83\\xd0 \\x83\\xd0\\xb1 \\xd0\\xb1\\xd1 \\xb1\\xd1\\x81 \\xd1\\x81\\xd0 \\x81\\xd0\\xb8 \\xd0\\xb8\\xd0 \\xb8\\xd0\\xb4 \\xd0\\xb4\\xd0 \\xb4\\xd0\\xb8 \\xd0\\xb8\\xd0 \\xb8\\xd0\\xb8 \\xd0\\xb8\\xd1 \\xb8\\xd1\\x82 \\xd1\\x82\\xd0 \\x82\\xd0\\xb5 \\xd1\\x81\\xd0 \\x81\\xd0\\xb5 \\xd1\\x80\\xd0 \\x80\\xd0\\xb0 \\xd0\\xb0\\xd0 \\xb0\\xd0\\xb7 \\xd0\\xb7\\xd0 \\xb7\\xd0\\xbf \\xd0\\xbf\\xd1 \\xbf\\xd1\\x80 \\xd1\\x80\\xd0 \\x80\\xd0\\xb5 \\xd0\\xb5\\xd0 \\xb5\\xd0\\xb4 \\xd0\\xb4\\xd0 \\xb4\\xd0\\xb5 \\xd0\\xb5\\xd0 \\xb5\\xd0\\xbb \\xd0\\xbb\\xd1 \\xbb\\xd1\\x8f \\xd1\\x8f\\xd1 \\x8f\\xd1\\x82 \\xd0\\xbd\\xd0 \\xbd\\xd0\\xb5 \\xd0\\xb5\\xd1 \\xb5\\xd1\\x80 \\xd1\\x80\\xd0 \\x80\\xd0\\xb0 \\xd0\\xb0\\xd0 \\xb0\\xd0\\xb2 \\xd0\\xb2\\xd0 \\xb2\\xd0\\xbd \\xd0\\xbd\\xd0 \\xbd\\xd0\\xbe \\xd0\\xbe\\xd1 \\xbe\\xd1\\x81 \\xd1\\x81\\xd1 \\x81\\xd1\\x82 \\xd1\\x82\\xd0 \\x82\\xd0\\xbe \\xd0\\xbe\\xd0 \\xbe\\xd0\\xb9 \\xd0\\xb9\\xd0 \\xb9\\xd0\\xbd \\xd0\\xbd\\xd0 \\xbd\\xd0\\xbe \\xd0\\xb8 \\xd0\\xbd\\xd0 \\xbd\\xd0\\xb5 \\xd0\\xb5\\xd1 \\xb5\\xd1\\x81 \\xd1\\x81\\xd0 \\x81\\xd0\\xbf \\xd0\\xbf\\xd1 \\xbf\\xd1\\x80 \\xd1\\x80\\xd0 \\x80\\xd0\\xb0 \\xd0\\xb0\\xd0 \\xb0\\xd0\\xb2 \\xd0\\xb2\\xd0 \\xb2\\xd0\\xb5 \\xd0\\xb5\\xd0 \\xb5\\xd0\\xb4 \\xd0\\xb4\\xd0 \\xb4\\xd0\\xbb \\xd0\\xbb\\xd0 \\xbb\\xd0\\xb8 \\xd0\\xb8\\xd0 \\xb8\\xd0\\xb2 \\xd0\\xb2\\xd0 \\xb2\\xd0\\xbe \\xd0\\xbc\\xd0 \\xbc\\xd0\\xb5 \\xd0\\xb5\\xd0 \\xb5\\xd0\\xb6 \\xd0\\xb6\\xd0 \\xb6\\xd0\\xb4 \\xd0\\xb4\\xd1 \\xb4\\xd1\\x83 \\xd1\\x81\\xd1 \\x81\\xd1\\x82 \\xd1\\x82\\xd0 \\x82\\xd0\\xb0 \\xd0\\xb0\\xd1 \\xb0\\xd1\\x80 \\xd1\\x80\\xd0 \\x80\\xd0\\xb8 \\xd0\\xb8\\xd1 \\xb8\\xd1\\x82 \\xd1\\x82\\xd0 \\x82\\xd0\\xb5 \\xd0\\xb8 \\xd0\\xbd\\xd0 \\xbd\\xd0\\xbe \\xd0\\xbe\\xd0 \\xbe\\xd0\\xb2 \\xd0\\xb2\\xd0 \\xb2\\xd0\\xb8 \\xd0\\xb8\\xd1 \\xb8\\xd1\\x82 \\xd1\\x82\\xd0 \\x82\\xd0\\xb5 \\xd0\\xb4\\xd1 \\xb4\\xd1\\x8a \\xd1\\x8a\\xd1 \\x8a\\xd1\\x80 \\xd1\\x80\\xd0 \\x80\\xd0\\xb6 \\xd0\\xb6\\xd0 \\xb6\\xd0\\xb0 \\xd0\\xb0\\xd0 \\xb0\\xd0\\xb2 \\xd0\\xb2\\xd0 \\xb2\\xd0\\xb8 \\xd0\\xb8- \\xb8-\\xd1 -\\xd1\\x87 \\xd1\\x87\\xd0 \\x87\\xd0\\xbb \\xd0\\xbb\\xd0 \\xbb\\xd0\\xb5 \\xd0\\xb5\\xd0 \\xb5\\xd0\\xbd \\xd0\\xbd\\xd0 \\xbd\\xd0\\xba \\xd0\\xba\\xd0 \\xba\\xd0\\xb8']"
      ]
     },
     "execution_count": 8,
     "metadata": {},
     "output_type": "execute_result"
    }
   ],
   "source": [
    "new_data[:2]"
   ]
  },
  {
   "cell_type": "code",
   "execution_count": 9,
   "metadata": {},
   "outputs": [],
   "source": [
    "# Based on total occurence\n",
    "output_labels = []\n",
    "for i in range(len(new_data)):\n",
    "    count = {}\n",
    "    for key in lang_dict_n_gram.keys():\n",
    "        count[key] = 0\n",
    "    for token in new_data[i].split():\n",
    "        for key in lang_dict_n_gram.keys():\n",
    "            if token in lang_dict_n_gram[key]:\n",
    "                count[key] += lang_dict_n_gram[key][token]\n",
    "    best_lang, max_count = \"NN\", 0\n",
    "    for key in count.keys():\n",
    "        if count[key] > max_count:\n",
    "            best_lang = key\n",
    "            max_count = count[key]\n",
    "    output_labels.append(best_lang)"
   ]
  },
  {
   "cell_type": "code",
   "execution_count": 10,
   "metadata": {},
   "outputs": [
    {
     "name": "stdout",
     "output_type": "stream",
     "text": [
      "(21000, 21000)\n"
     ]
    }
   ],
   "source": [
    "print(len(output_labels), len(test_labels))"
   ]
  },
  {
   "cell_type": "code",
   "execution_count": 11,
   "metadata": {},
   "outputs": [
    {
     "name": "stdout",
     "output_type": "stream",
     "text": [
      "('Accuracy', 91.85238095238095)\n"
     ]
    }
   ],
   "source": [
    "correct_preds = 0\n",
    "for i in range(len(output_labels)):\n",
    "    if output_labels[i] == test_labels[i]:\n",
    "        correct_preds += 1\n",
    "print(\"Accuracy\", float(correct_preds)/len(output_labels)*100)"
   ]
  },
  {
   "cell_type": "code",
   "execution_count": 12,
   "metadata": {},
   "outputs": [],
   "source": [
    "# Based on 0-1 occurence\n",
    "output_labels = []\n",
    "for i in range(len(new_data)):\n",
    "    count = {}\n",
    "    for key in lang_dict_n_gram.keys():\n",
    "        count[key] = 0\n",
    "    for token in new_data[i].split():\n",
    "        for key in lang_dict_n_gram.keys():\n",
    "            if token in lang_dict_n_gram[key]:\n",
    "                count[key] += 1\n",
    "    best_lang, max_count = \"NN\", 0\n",
    "    for key in count.keys():\n",
    "        if count[key] > max_count:\n",
    "            best_lang = key\n",
    "            max_count = count[key]\n",
    "    output_labels.append(best_lang)"
   ]
  },
  {
   "cell_type": "code",
   "execution_count": 13,
   "metadata": {},
   "outputs": [
    {
     "name": "stdout",
     "output_type": "stream",
     "text": [
      "('Accuracy', 97.64285714285714)\n"
     ]
    }
   ],
   "source": [
    "correct_preds = 0\n",
    "for i in range(len(output_labels)):\n",
    "    if output_labels[i] == test_labels[i]:\n",
    "        correct_preds += 1\n",
    "print(\"Accuracy\", float(correct_preds)/len(output_labels)*100)"
   ]
  },
  {
   "cell_type": "markdown",
   "metadata": {},
   "source": [
    "#### **Accuracy based on 0-1 occurence is 97.6% which is awesome while if we include total frequency of each token, then the accuracy reduces to 91.8% which is not bad either.**"
   ]
  },
  {
   "cell_type": "code",
   "execution_count": 14,
   "metadata": {},
   "outputs": [
    {
     "name": "stdout",
     "output_type": "stream",
     "text": [
      "co jsm sme tí ím teh ehd hdy dal ali naj aje jev evo\n",
      "Actual Language cs | Predicted Language sk\n",
      "{'pl': 7, 'el': 4, 'fr': 7, 'bg': 3, 'nl': 7, 'ro': 8, 'pt': 9, 'de': 8, 'sv': 7, 'da': 8, 'lv': 9, 'cs': 10, 'lt': 8, 'en': 7, 'sk': 11, 'sl': 9, 'it': 7, 'et': 9, 'hu': 10, 'fi': 10, 'es': 8}\n",
      "--------------------------------\n",
      "jme men eno nov ova val ali se wil ill lli lia iam mey eye yer ber ern rna nar ard sta tar ari rie reg egi gin ina nal ald pik ike tho hom oma mas sha haw jam ame mes mcl cle lei eis ish arc rch chi hib iba bal ald bar arr rro row owm wma man a alb lbe ber ert rob obe ber ert rts a vš ši �ic ich chn hni bud udo dou v sob obo bot otu vyz yzn zna nam ame men en� ná án �ni\n",
      "Actual Language cs | Predicted Language sk\n",
      "{'pl': 76, 'el': 44, 'fr': 74, 'bg': 38, 'nl': 74, 'ro': 65, 'pt': 73, 'de': 73, 'sv': 72, 'da': 69, 'lv': 68, 'cs': 78, 'lt': 75, 'en': 74, 'sk': 79, 'sl': 72, 'it': 66, 'et': 75, 'hu': 75, 'fi': 74, 'es': 73}\n",
      "--------------------------------\n",
      "nem em� má ám �me ča �as pro roj oje jed edn dn� ná áv �va vat roz ozv zvo voj pro kiv ivu če �el el� lí ím �me zde hum uma man ani nit it� tá ár �rn rn� ní kri riz izi\n",
      "Actual Language cs | Predicted Language sk\n",
      "{'pl': 18, 'el': 9, 'fr': 22, 'bg': 6, 'nl': 20, 'ro': 15, 'pt': 25, 'de': 24, 'sv': 23, 'da': 24, 'lv': 26, 'cs': 43, 'lt': 23, 'en': 18, 'sk': 44, 'sl': 27, 'it': 15, 'et': 20, 'hu': 36, 'fi': 22, 'es': 27}\n",
      "--------------------------------\n",
      "pro roh ohl hla la� aš šu �uj uji zas ase sed ed� dá án �n� ní evr vro rop ops psk sk� ké éh �ho par arl rla lam ame men ent ntu za uko kon on� nč če �en en� né\n",
      "Actual Language cs | Predicted Language sk\n",
      "{'pl': 24, 'el': 10, 'fr': 20, 'bg': 15, 'nl': 20, 'ro': 20, 'pt': 22, 'de': 23, 'sv': 22, 'da': 22, 'lv': 26, 'cs': 41, 'lt': 29, 'en': 18, 'sk': 42, 'sl': 31, 'it': 18, 'et': 22, 'hu': 28, 'fi': 23, 'es': 22}\n",
      "--------------------------------\n",
      "rea eal ali lit ita je drs rsn sn� ná nee eex exi xis ist stu tuj uj� jí alt lte ter ern rna nat ati tiv ivn vn� ní fos osi sil iln ln� ní pal ali liv iva kte ter er� rá jso sou lac aci cin in� ná a ú� �č či �in inn nn� ná\n",
      "Actual Language cs | Predicted Language sk\n",
      "{'pl': 30, 'el': 15, 'fr': 34, 'bg': 14, 'nl': 32, 'ro': 32, 'pt': 39, 'de': 35, 'sv': 38, 'da': 37, 'lv': 30, 'cs': 54, 'lt': 33, 'en': 33, 'sk': 55, 'sl': 41, 'it': 31, 'et': 35, 'hu': 41, 'fi': 36, 'es': 39}\n",
      "--------------------------------\n",
      "to je pod odl dle mé éh �ho ná áz �zo zor oru šk �ko kod oda\n",
      "Actual Language cs | Predicted Language sk\n",
      "{'pl': 9, 'el': 4, 'fr': 5, 'bg': 2, 'nl': 5, 'ro': 5, 'pt': 5, 'de': 7, 'sv': 8, 'da': 8, 'lv': 8, 'cs': 15, 'lt': 7, 'en': 7, 'sk': 16, 'sl': 11, 'it': 5, 'et': 6, 'hu': 12, 'fi': 6, 'es': 6}\n",
      "--------------------------------\n",
      "za čt �tr trn rn� ná ác �ct let od rok oku trh s haz aza zar ard rdn dn� ní ím �mi hra ram ami dra ram ama mat ati tic ick cky vzr zro ros ost stl\n",
      "Actual Language cs | Predicted Language sk\n",
      "{'pl': 21, 'el': 13, 'fr': 17, 'bg': 7, 'nl': 18, 'ro': 15, 'pt': 22, 'de': 21, 'sv': 22, 'da': 21, 'lv': 17, 'cs': 36, 'lt': 16, 'en': 18, 'sk': 37, 'sl': 25, 'it': 16, 'et': 18, 'hu': 25, 'fi': 20, 'es': 25}\n",
      "--------------------------------\n",
      "Úl �lo loh oho hou rus usk ska je zef efe fek ekt kti tiv ivn vni nit sv� vé pos ost stu tup upy na hra ran ani nic ic� cí íc �ch\n",
      "Actual Language cs | Predicted Language sk\n",
      "{'pl': 19, 'el': 6, 'fr': 13, 'bg': 6, 'nl': 19, 'ro': 12, 'pt': 17, 'de': 18, 'sv': 20, 'da': 20, 'lv': 19, 'cs': 32, 'lt': 19, 'en': 14, 'sk': 34, 'sl': 20, 'it': 13, 'et': 19, 'hu': 20, 'fi': 20, 'es': 17}\n",
      "--------------------------------\n",
      "alt det ett tte var pos osi sit iti tiv ive til ilt lta tag\n",
      "Actual Language da | Predicted Language de\n",
      "{'pl': 9, 'el': 5, 'fr': 14, 'bg': 4, 'nl': 14, 'ro': 13, 'pt': 14, 'de': 15, 'sv': 15, 'da': 15, 'lv': 14, 'cs': 13, 'lt': 11, 'en': 14, 'sk': 13, 'sl': 14, 'it': 15, 'et': 15, 'hu': 15, 'fi': 14, 'es': 13}\n",
      "--------------------------------\n",
      "bet etr tra rag agt gte ter vi nor ord rdp dpo pol ols lso som omr mr� rå åd �de det som en pot ote ten ent nti tie iel ene ner erg rgi gik iki kil ild lde\n",
      "Actual Language da | Predicted Language sv\n",
      "{'pl': 27, 'el': 16, 'fr': 26, 'bg': 17, 'nl': 32, 'ro': 27, 'pt': 24, 'de': 30, 'sv': 38, 'da': 38, 'lv': 28, 'cs': 26, 'lt': 27, 'en': 28, 'sk': 27, 'sl': 27, 'it': 27, 'et': 28, 'hu': 31, 'fi': 26, 'es': 27}\n",
      "--------------------------------\n"
     ]
    }
   ],
   "source": [
    "# Test few cases where this model didn't work\n",
    "num_case = 0\n",
    "for i in range(len(output_labels)):\n",
    "    if output_labels[i] != test_labels[i]:\n",
    "        print(new_data[i])\n",
    "        print(\"Actual Language {0} | Predicted Language {1}\".format(test_labels[i], output_labels[i]))\n",
    "        count = {}\n",
    "        for key in lang_dict_n_gram.keys():\n",
    "            count[key] = 0\n",
    "        for token in new_data[i].split():\n",
    "            for key in lang_dict_n_gram.keys():\n",
    "                if token in lang_dict_n_gram[key]:\n",
    "                    count[key] += 1\n",
    "        print(count)\n",
    "        print(\"--------------------------------\")\n",
    "        num_case += 1\n",
    "        if num_case == 10:\n",
    "            break"
   ]
  },
  {
   "cell_type": "markdown",
   "metadata": {},
   "source": [
    "#### **If we actually notice the difference between actual language and predicted language, we see very less difference in terms of occurence of words/trigrams.**"
   ]
  },
  {
   "cell_type": "code",
   "execution_count": 15,
   "metadata": {},
   "outputs": [
    {
     "name": "stdout",
     "output_type": "stream",
     "text": [
      "{'pl': 0, 'el': 0, 'fr': 12, 'bg': 0, 'nl': 7, 'ro': 9, 'pt': 20, 'de': 21, 'sv': 21, 'da': 32, 'lv': 1, 'cs': 8, 'lt': 4, 'en': 66, 'sk': 62, 'sl': 34, 'it': 92, 'et': 27, 'hu': 1, 'fi': 16, 'es': 62}\n"
     ]
    }
   ],
   "source": [
    "# Lets check which language has most wrong predictions\n",
    "wrong_pred = {}\n",
    "for key in lang_dict_n_gram.keys():\n",
    "    wrong_pred[key] = 0\n",
    "for i in range(len(output_labels)):\n",
    "    if output_labels[i] != test_labels[i]:\n",
    "        wrong_pred[test_labels[i]] += 1\n",
    "print(wrong_pred)"
   ]
  },
  {
   "cell_type": "code",
   "execution_count": 16,
   "metadata": {},
   "outputs": [],
   "source": [
    "%matplotlib inline\n",
    "import matplotlib.pyplot as plt"
   ]
  },
  {
   "cell_type": "code",
   "execution_count": 17,
   "metadata": {},
   "outputs": [
    {
     "data": {
      "image/png": "[encoded data removed]",
      "text/plain": [
       "<Figure size 432x288 with 1 Axes>"
      ]
     },
     "metadata": {},
     "output_type": "display_data"
    }
   ],
   "source": [
    "plt.bar(wrong_pred.keys(), wrong_pred.values())\n",
    "plt.show()"
   ]
  },
  {
   "cell_type": "markdown",
   "metadata": {},
   "source": [
    "The most number of mismatches happened with italian(it) - 92, english(en) - 66, slovak(sk) - 62 and spanish(es) - 62. While bulgarian(bg), polish(pl) and greek(el) has true positive rate 1. Another thing to notice from the base model is that, for that bulgarian and greek had the least TPR while in this model they have the highest TPR. For italian, english and spanish language, TPR was higher in base model while they have least TPR in the n-gram model."
   ]
  },
  {
   "cell_type": "code",
   "execution_count": 57,
   "metadata": {},
   "outputs": [],
   "source": [
    "# Convert the classes to numbers\n",
    "classes_map = {}\n",
    "classes = []\n",
    "for ind, key in enumerate(count.keys()):\n",
    "    classes_map[key] = ind\n",
    "    classes.append(key)\n",
    "\n",
    "test_labels_n, output_labels_n = [], []\n",
    "for i in range(len(test_labels)):\n",
    "    test_labels_n.append(classes_map[test_labels[i]])\n",
    "    output_labels_n.append(classes_map[output_labels[i]])"
   ]
  },
  {
   "cell_type": "code",
   "execution_count": 58,
   "metadata": {},
   "outputs": [
    {
     "data": {
      "text/plain": [
       "Text(123,0.5,'True')"
      ]
     },
     "execution_count": 58,
     "metadata": {},
     "output_type": "execute_result"
    },
    {
     "data": {
      "image/png": "[encoded data removed]",
      "text/plain": [
       "<Figure size 1152x864 with 2 Axes>"
      ]
     },
     "metadata": {},
     "output_type": "display_data"
    }
   ],
   "source": [
    "# Plot confusion matrix\n",
    "from sklearn.metrics import confusion_matrix\n",
    "cnf_matrix = confusion_matrix(test_labels_n, output_labels_n)\n",
    "\n",
    "import seaborn as sns\n",
    "fig = plt.figure(figsize=(16,12))\n",
    "ax = fig.add_subplot(111)\n",
    "sns.heatmap(cnf_matrix, annot=True, fmt='g',ax=ax)\n",
    "ax.xaxis.set_ticklabels(classes)\n",
    "ax.yaxis.set_ticklabels(classes)\n",
    "plt.xlabel('Predicted')\n",
    "plt.ylabel('True')"
   ]
  },
  {
   "cell_type": "markdown",
   "metadata": {},
   "source": [
    "From confusion matrix we can seee that 42 English(en) sentences are classified as Dutch(nl). Lets see what are those sentences."
   ]
  },
  {
   "cell_type": "code",
   "execution_count": 61,
   "metadata": {},
   "outputs": [
    {
     "name": "stdout",
     "output_type": "stream",
     "text": [
      "SK dear colleagues it saddens me very much that the situation concerning democracy human rights and the rule of law has not been improving in belarus \n",
      "SK dea ear col oll lle lea eag agu gue ues it sad add dde den ens me ver ery muc uch tha hat the sit itu tua uat ati tio ion con onc nce cer ern rni nin ing dem emo moc ocr cra rac acy hum uma man rig igh ght hts and the rul ule of law has not bee een imp mpr pro rov ovi vin ing in bel ela lar aru rus\n",
      "----------------------------------------------\n",
      "A constructive response to it from the european union is overdue and necessary \n",
      "A con ons nst str tru ruc uct cti tiv ive res esp spo pon ons nse to it fro rom the eur uro rop ope pea ean uni nio ion is ove ver erd rdu due and nec ece ces ess ssa sar ary\n",
      "----------------------------------------------\n",
      "and he is right of course \n",
      "and he is rig igh ght of cou our urs rse\n",
      "----------------------------------------------\n",
      "capital adequacy of financial institutions \n",
      "cap api pit ita tal ade deq equ qua uac acy of fin ina nan anc nci cia ial ins nst sti tit itu tut uti tio ion ons\n",
      "----------------------------------------------\n",
      "clarification is undoubtedly necessary \n",
      "cla lar ari rif ifi fic ica cat ati tio ion is und ndo dou oub ubt bte ted edl dly nec ece ces ess ssa sar ary\n",
      "----------------------------------------------\n"
     ]
    }
   ],
   "source": [
    "counter = 0\n",
    "for i in range(len(output_labels)):\n",
    "    if (output_labels[i] == 'nl') and (test_labels[i] == 'en'):\n",
    "        print(test_data[i])\n",
    "        print(new_data[i])\n",
    "        print(\"----------------------------------------------\")\n",
    "        counter += 1\n",
    "    if counter == 5:\n",
    "        break"
   ]
  },
  {
   "cell_type": "markdown",
   "metadata": {},
   "source": [
    "**Could 4-gram model help?**"
   ]
  },
  {
   "cell_type": "code",
   "execution_count": null,
   "metadata": {},
   "outputs": [],
   "source": []
  }
 ],
 "metadata": {
  "kernelspec": {
   "display_name": "Python 2",
   "language": "python",
   "name": "python2"
  },
  "language_info": {
   "codemirror_mode": {
    "name": "ipython",
    "version": 2
   },
   "file_extension": ".py",
   "mimetype": "text/x-python",
   "name": "python",
   "nbconvert_exporter": "python",
   "pygments_lexer": "ipython2",
   "version": "2.7.12"
  }
 },
 "nbformat": 4,
 "nbformat_minor": 2
}
