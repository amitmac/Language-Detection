{
 "cells": [
  {
   "cell_type": "markdown",
   "metadata": {},
   "source": [
    "### **Based on word occurence and frequency**"
   ]
  },
  {
   "cell_type": "code",
   "execution_count": 1,
   "metadata": {},
   "outputs": [],
   "source": [
    "import numpy as np\n",
    "import pandas as pd\n",
    "import os\n",
    "import json"
   ]
  },
  {
   "cell_type": "markdown",
   "metadata": {},
   "source": [
    "##### **Load data dictionary and test data**"
   ]
  },
  {
   "cell_type": "code",
   "execution_count": 2,
   "metadata": {},
   "outputs": [],
   "source": [
    "with open(\"lang_dict.json\",\"r\") as f:\n",
    "    lang_dict = json.load(f)"
   ]
  },
  {
   "cell_type": "code",
   "execution_count": 3,
   "metadata": {},
   "outputs": [
    {
     "data": {
      "text/plain": [
       "5324"
      ]
     },
     "execution_count": 3,
     "metadata": {},
     "output_type": "execute_result"
    }
   ],
   "source": [
    "lang_dict[\"en\"][\"the\"]"
   ]
  },
  {
   "cell_type": "code",
   "execution_count": 4,
   "metadata": {},
   "outputs": [
    {
     "name": "stderr",
     "output_type": "stream",
     "text": [
      "IOPub data rate exceeded.\n",
      "The notebook server will temporarily stop sending output\n",
      "to the client in order to avoid crashing it.\n",
      "To change this limit, set the config variable\n",
      "`--NotebookApp.iopub_data_rate_limit`.\n",
      "\n",
      "Current values:\n",
      "NotebookApp.iopub_data_rate_limit=1000000.0 (bytes/sec)\n",
      "NotebookApp.rate_limit_window=3.0 (secs)\n",
      "\n"
     ]
    }
   ],
   "source": [
    "test_data, test_labels = [], []\n",
    "with open(\"/workspace/lang-detect/europarl.test\", \"r\") as f:\n",
    "    for line in f:\n",
    "        line = line.split()\n",
    "        test_data.append(\" \".join(line[1:]))\n",
    "        test_labels.append(line[0])\n",
    "print(test_data[0], test_labels[0])"
   ]
  },
  {
   "cell_type": "code",
   "execution_count": 5,
   "metadata": {},
   "outputs": [
    {
     "name": "stdout",
     "output_type": "stream",
     "text": [
      "21000\n"
     ]
    }
   ],
   "source": [
    "print(len(test_data))"
   ]
  },
  {
   "cell_type": "code",
   "execution_count": 6,
   "metadata": {},
   "outputs": [
    {
     "data": {
      "text/plain": [
       "['\"\\xd0\\x95\\xd0\\xb2\\xd1\\x80\\xd0\\xbe\\xd0\\xbf\\xd0\\xb0 2020\" \\xd0\\xbd\\xd0\\xb5 \\xd1\\x82\\xd1\\x80\\xd1\\x8f\\xd0\\xb1\\xd0\\xb2\\xd0\\xb0 \\xd0\\xb4\\xd0\\xb0 \\xd1\\x81\\xd1\\x82\\xd0\\xb0\\xd1\\x80\\xd1\\x82\\xd0\\xb8\\xd1\\x80\\xd0\\xb0 \\xd0\\xbd\\xd0\\xbe\\xd0\\xb2 \\xd0\\xba\\xd0\\xbe\\xd0\\xbd\\xd0\\xba\\xd1\\x83\\xd1\\x80\\xd0\\xb5\\xd0\\xbd\\xd1\\x82\\xd0\\xb5\\xd0\\xbd \\xd0\\xbc\\xd0\\xb0\\xd1\\x80\\xd0\\xb0\\xd1\\x82\\xd0\\xbe\\xd0\\xbd \\xd0\\xb8 \\xd0\\xb8\\xd0\\xb7\\xd1\\x85\\xd0\\xbe\\xd0\\xb4 \\xd1\\x81 \\xd0\\xbf\\xd1\\x80\\xd0\\xb8\\xd0\\xb2\\xd0\\xb0\\xd1\\x82\\xd0\\xb8\\xd0\\xb7\\xd0\\xb0\\xd1\\x86\\xd0\\xb8\\xd1\\x8f.',\n",
       " '(CS) \\xd0\\x9d\\xd0\\xb0\\xd0\\xb9-\\xd0\\xb3\\xd0\\xbe\\xd0\\xbb\\xd1\\x8f\\xd0\\xbc\\xd0\\xb0\\xd1\\x82\\xd0\\xb0 \\xd0\\xbd\\xd0\\xb5\\xd1\\x81\\xd0\\xbf\\xd1\\x80\\xd0\\xb0\\xd0\\xb2\\xd0\\xb5\\xd0\\xb4\\xd0\\xbb\\xd0\\xb8\\xd0\\xb2\\xd0\\xbe\\xd1\\x81\\xd1\\x82 \\xd0\\xbd\\xd0\\xb0 \\xd1\\x81\\xd0\\xb5\\xd0\\xb3\\xd0\\xb0\\xd1\\x88\\xd0\\xbd\\xd0\\xb0\\xd1\\x82\\xd0\\xb0 \\xd0\\xbe\\xd0\\xb1\\xd1\\x89\\xd0\\xb0 \\xd1\\x81\\xd0\\xb5\\xd0\\xbb\\xd1\\x81\\xd0\\xba\\xd0\\xbe\\xd1\\x81\\xd1\\x82\\xd0\\xbe\\xd0\\xbf\\xd0\\xb0\\xd0\\xbd\\xd1\\x81\\xd0\\xba\\xd0\\xb0 \\xd0\\xbf\\xd0\\xbe\\xd0\\xbb\\xd0\\xb8\\xd1\\x82\\xd0\\xb8\\xd0\\xba\\xd0\\xb0 \\xd0\\xb5 \\xd1\\x84\\xd0\\xb0\\xd0\\xba\\xd1\\x82\\xd1\\x8a\\xd1\\x82, \\xd1\\x87\\xd0\\xb5 \\xd1\\x81\\xd1\\x83\\xd0\\xb1\\xd1\\x81\\xd0\\xb8\\xd0\\xb4\\xd0\\xb8\\xd0\\xb8\\xd1\\x82\\xd0\\xb5 \\xd1\\x81\\xd0\\xb5 \\xd1\\x80\\xd0\\xb0\\xd0\\xb7\\xd0\\xbf\\xd1\\x80\\xd0\\xb5\\xd0\\xb4\\xd0\\xb5\\xd0\\xbb\\xd1\\x8f\\xd1\\x82 \\xd0\\xbd\\xd0\\xb5\\xd1\\x80\\xd0\\xb0\\xd0\\xb2\\xd0\\xbd\\xd0\\xbe\\xd1\\x81\\xd1\\x82\\xd0\\xbe\\xd0\\xb9\\xd0\\xbd\\xd0\\xbe \\xd0\\xb8 \\xd0\\xbd\\xd0\\xb5\\xd1\\x81\\xd0\\xbf\\xd1\\x80\\xd0\\xb0\\xd0\\xb2\\xd0\\xb5\\xd0\\xb4\\xd0\\xbb\\xd0\\xb8\\xd0\\xb2\\xd0\\xbe \\xd0\\xbc\\xd0\\xb5\\xd0\\xb6\\xd0\\xb4\\xd1\\x83 \\xd1\\x81\\xd1\\x82\\xd0\\xb0\\xd1\\x80\\xd0\\xb8\\xd1\\x82\\xd0\\xb5 \\xd0\\xb8 \\xd0\\xbd\\xd0\\xbe\\xd0\\xb2\\xd0\\xb8\\xd1\\x82\\xd0\\xb5 \\xd0\\xb4\\xd1\\x8a\\xd1\\x80\\xd0\\xb6\\xd0\\xb0\\xd0\\xb2\\xd0\\xb8-\\xd1\\x87\\xd0\\xbb\\xd0\\xb5\\xd0\\xbd\\xd0\\xba\\xd0\\xb8.']"
      ]
     },
     "execution_count": 6,
     "metadata": {},
     "output_type": "execute_result"
    }
   ],
   "source": [
    "test_data[:2]"
   ]
  },
  {
   "cell_type": "markdown",
   "metadata": {},
   "source": [
    "##### **Preprocess the data**"
   ]
  },
  {
   "cell_type": "code",
   "execution_count": 21,
   "metadata": {},
   "outputs": [],
   "source": [
    "import utils"
   ]
  },
  {
   "cell_type": "code",
   "execution_count": 8,
   "metadata": {},
   "outputs": [],
   "source": [
    "for i in range(len(test_data)):\n",
    "    test_data[i] = utils.preprocess(test_data[i])"
   ]
  },
  {
   "cell_type": "code",
   "execution_count": 9,
   "metadata": {},
   "outputs": [
    {
     "data": {
      "text/plain": [
       "['\\xd0\\x95\\xd0\\xb2\\xd1\\x80\\xd0\\xbe\\xd0\\xbf\\xd0\\xb0 \\xd0\\xbd\\xd0\\xb5 \\xd1\\x82\\xd1\\x80\\xd1\\x8f\\xd0\\xb1\\xd0\\xb2\\xd0\\xb0 \\xd0\\xb4\\xd0\\xb0 \\xd1\\x81\\xd1\\x82\\xd0\\xb0\\xd1\\x80\\xd1\\x82\\xd0\\xb8\\xd1\\x80\\xd0\\xb0 \\xd0\\xbd\\xd0\\xbe\\xd0\\xb2 \\xd0\\xba\\xd0\\xbe\\xd0\\xbd\\xd0\\xba\\xd1\\x83\\xd1\\x80\\xd0\\xb5\\xd0\\xbd\\xd1\\x82\\xd0\\xb5\\xd0\\xbd \\xd0\\xbc\\xd0\\xb0\\xd1\\x80\\xd0\\xb0\\xd1\\x82\\xd0\\xbe\\xd0\\xbd \\xd0\\xb8 \\xd0\\xb8\\xd0\\xb7\\xd1\\x85\\xd0\\xbe\\xd0\\xb4 \\xd1\\x81 \\xd0\\xbf\\xd1\\x80\\xd0\\xb8\\xd0\\xb2\\xd0\\xb0\\xd1\\x82\\xd0\\xb8\\xd0\\xb7\\xd0\\xb0\\xd1\\x86\\xd0\\xb8\\xd1\\x8f ',\n",
       " 'CS \\xd0\\x9d\\xd0\\xb0\\xd0\\xb9-\\xd0\\xb3\\xd0\\xbe\\xd0\\xbb\\xd1\\x8f\\xd0\\xbc\\xd0\\xb0\\xd1\\x82\\xd0\\xb0 \\xd0\\xbd\\xd0\\xb5\\xd1\\x81\\xd0\\xbf\\xd1\\x80\\xd0\\xb0\\xd0\\xb2\\xd0\\xb5\\xd0\\xb4\\xd0\\xbb\\xd0\\xb8\\xd0\\xb2\\xd0\\xbe\\xd1\\x81\\xd1\\x82 \\xd0\\xbd\\xd0\\xb0 \\xd1\\x81\\xd0\\xb5\\xd0\\xb3\\xd0\\xb0\\xd1\\x88\\xd0\\xbd\\xd0\\xb0\\xd1\\x82\\xd0\\xb0 \\xd0\\xbe\\xd0\\xb1\\xd1\\x89\\xd0\\xb0 \\xd1\\x81\\xd0\\xb5\\xd0\\xbb\\xd1\\x81\\xd0\\xba\\xd0\\xbe\\xd1\\x81\\xd1\\x82\\xd0\\xbe\\xd0\\xbf\\xd0\\xb0\\xd0\\xbd\\xd1\\x81\\xd0\\xba\\xd0\\xb0 \\xd0\\xbf\\xd0\\xbe\\xd0\\xbb\\xd0\\xb8\\xd1\\x82\\xd0\\xb8\\xd0\\xba\\xd0\\xb0 \\xd0\\xb5 \\xd1\\x84\\xd0\\xb0\\xd0\\xba\\xd1\\x82\\xd1\\x8a\\xd1\\x82 \\xd1\\x87\\xd0\\xb5 \\xd1\\x81\\xd1\\x83\\xd0\\xb1\\xd1\\x81\\xd0\\xb8\\xd0\\xb4\\xd0\\xb8\\xd0\\xb8\\xd1\\x82\\xd0\\xb5 \\xd1\\x81\\xd0\\xb5 \\xd1\\x80\\xd0\\xb0\\xd0\\xb7\\xd0\\xbf\\xd1\\x80\\xd0\\xb5\\xd0\\xb4\\xd0\\xb5\\xd0\\xbb\\xd1\\x8f\\xd1\\x82 \\xd0\\xbd\\xd0\\xb5\\xd1\\x80\\xd0\\xb0\\xd0\\xb2\\xd0\\xbd\\xd0\\xbe\\xd1\\x81\\xd1\\x82\\xd0\\xbe\\xd0\\xb9\\xd0\\xbd\\xd0\\xbe \\xd0\\xb8 \\xd0\\xbd\\xd0\\xb5\\xd1\\x81\\xd0\\xbf\\xd1\\x80\\xd0\\xb0\\xd0\\xb2\\xd0\\xb5\\xd0\\xb4\\xd0\\xbb\\xd0\\xb8\\xd0\\xb2\\xd0\\xbe \\xd0\\xbc\\xd0\\xb5\\xd0\\xb6\\xd0\\xb4\\xd1\\x83 \\xd1\\x81\\xd1\\x82\\xd0\\xb0\\xd1\\x80\\xd0\\xb8\\xd1\\x82\\xd0\\xb5 \\xd0\\xb8 \\xd0\\xbd\\xd0\\xbe\\xd0\\xb2\\xd0\\xb8\\xd1\\x82\\xd0\\xb5 \\xd0\\xb4\\xd1\\x8a\\xd1\\x80\\xd0\\xb6\\xd0\\xb0\\xd0\\xb2\\xd0\\xb8-\\xd1\\x87\\xd0\\xbb\\xd0\\xb5\\xd0\\xbd\\xd0\\xba\\xd0\\xb8 ']"
      ]
     },
     "execution_count": 9,
     "metadata": {},
     "output_type": "execute_result"
    }
   ],
   "source": [
    "test_data[:2]"
   ]
  },
  {
   "cell_type": "markdown",
   "metadata": {},
   "source": [
    "#### **Test**"
   ]
  },
  {
   "cell_type": "code",
   "execution_count": 10,
   "metadata": {},
   "outputs": [],
   "source": [
    "# Based on total occurence\n",
    "output_labels = []\n",
    "for i in range(len(test_data)):\n",
    "    count = {}\n",
    "    for key in lang_dict.keys():\n",
    "        count[key] = 0\n",
    "    for token in test_data[i].split():\n",
    "        for key in lang_dict.keys():\n",
    "            if token in lang_dict[key]:\n",
    "                count[key] += lang_dict[key][token]\n",
    "    best_lang, max_count = \"NN\", 0\n",
    "    for key in count.keys():\n",
    "        if count[key] > max_count:\n",
    "            best_lang = key\n",
    "            max_count = count[key]\n",
    "    output_labels.append(best_lang)"
   ]
  },
  {
   "cell_type": "code",
   "execution_count": 11,
   "metadata": {},
   "outputs": [
    {
     "name": "stdout",
     "output_type": "stream",
     "text": [
      "(21000, 21000)\n"
     ]
    }
   ],
   "source": [
    "print(len(output_labels), len(test_labels))"
   ]
  },
  {
   "cell_type": "code",
   "execution_count": 12,
   "metadata": {},
   "outputs": [
    {
     "name": "stdout",
     "output_type": "stream",
     "text": [
      "('Accuracy', 56.08571428571428)\n"
     ]
    }
   ],
   "source": [
    "correct_preds = 0\n",
    "for i in range(len(output_labels)):\n",
    "    if output_labels[i] == test_labels[i]:\n",
    "        correct_preds += 1\n",
    "print(\"Accuracy\", float(correct_preds)/len(output_labels)*100)"
   ]
  },
  {
   "cell_type": "code",
   "execution_count": 13,
   "metadata": {},
   "outputs": [],
   "source": [
    "# Based on 0-1 occurence\n",
    "output_labels = []\n",
    "for i in range(len(test_data)):\n",
    "    count = {}\n",
    "    for key in lang_dict.keys():\n",
    "        count[key] = 0\n",
    "    for token in test_data[i].split():\n",
    "        for key in lang_dict.keys():\n",
    "            if token in lang_dict[key]:\n",
    "                count[key] += 1\n",
    "    best_lang, max_count = \"NN\", 0\n",
    "    for key in count.keys():\n",
    "        if count[key] > max_count:\n",
    "            best_lang = key\n",
    "            max_count = count[key]\n",
    "    output_labels.append(best_lang)"
   ]
  },
  {
   "cell_type": "code",
   "execution_count": 14,
   "metadata": {},
   "outputs": [
    {
     "name": "stdout",
     "output_type": "stream",
     "text": [
      "('Accuracy', 85.26666666666667)\n"
     ]
    }
   ],
   "source": [
    "correct_preds = 0\n",
    "for i in range(len(output_labels)):\n",
    "    if output_labels[i] == test_labels[i]:\n",
    "        correct_preds += 1\n",
    "print(\"Accuracy\", float(correct_preds)/len(output_labels)*100)"
   ]
  },
  {
   "cell_type": "markdown",
   "metadata": {},
   "source": [
    "#### **Accuracy based on 0-1 occurence is 85% which is remarkable while if we include total frequency of each token, then the accuracy reduces to 56%.**"
   ]
  },
  {
   "cell_type": "code",
   "execution_count": 15,
   "metadata": {},
   "outputs": [
    {
     "name": "stdout",
     "output_type": "stream",
     "text": [
      "Европа не трябва да стартира нов конкурентен маратон и изход с приватизация \n",
      "Actual Language bg | Predicted Language NN\n",
      "{u'pl': 0, u'el': 0, u'fr': 0, u'bg': 0, u'nl': 0, u'ro': 0, u'pt': 0, u'de': 0, u'sv': 0, u'da': 0, u'lv': 0, u'cs': 0, u'lt': 0, u'en': 0, u'sk': 0, u'sl': 0, u'it': 0, u'et': 0, u'hu': 0, u'fi': 0, u'es': 0}\n",
      "--------------------------------\n",
      "CS Най-голямата несправедливост на сегашната обща селскостопанска политика е фактът че субсидиите се разпределят неравностойно и несправедливо между старите и новите държави-членки \n",
      "Actual Language bg | Predicted Language el\n",
      "{u'pl': 0, u'el': 1, u'fr': 0, u'bg': 0, u'nl': 0, u'ro': 0, u'pt': 0, u'de': 0, u'sv': 0, u'da': 0, u'lv': 0, u'cs': 0, u'lt': 0, u'en': 0, u'sk': 0, u'sl': 0, u'it': 0, u'et': 0, u'hu': 0, u'fi': 0, u'es': 0}\n",
      "--------------------------------\n",
      "DE Г-жо председател г-н член на Комисията по принцип съм против въвеждането на нови данъци \n",
      "Actual Language bg | Predicted Language nl\n",
      "{u'pl': 0, u'el': 0, u'fr': 0, u'bg': 0, u'nl': 1, u'ro': 0, u'pt': 0, u'de': 0, u'sv': 0, u'da': 0, u'lv': 0, u'cs': 0, u'lt': 0, u'en': 0, u'sk': 0, u'sl': 0, u'it': 0, u'et': 0, u'hu': 0, u'fi': 0, u'es': 1}\n",
      "--------------------------------\n",
      "DE Г-н председател бих искал да започна с коментар на казаното от члена на Комисията Димас \n",
      "Actual Language bg | Predicted Language nl\n",
      "{u'pl': 0, u'el': 0, u'fr': 0, u'bg': 0, u'nl': 1, u'ro': 0, u'pt': 0, u'de': 0, u'sv': 0, u'da': 0, u'lv': 0, u'cs': 0, u'lt': 0, u'en': 0, u'sk': 0, u'sl': 0, u'it': 0, u'et': 0, u'hu': 0, u'fi': 0, u'es': 1}\n",
      "--------------------------------\n",
      "DE Г-н председател въпросът за правата на човека и зачитането на правата на малцинствата е постоянен източник на противоречие в продължение на години ако не и на десетилетия в отношенията между Европейския съюз и Китайската народна република \n",
      "Actual Language bg | Predicted Language nl\n",
      "{u'pl': 0, u'el': 0, u'fr': 0, u'bg': 0, u'nl': 1, u'ro': 0, u'pt': 0, u'de': 0, u'sv': 0, u'da': 0, u'lv': 0, u'cs': 0, u'lt': 0, u'en': 0, u'sk': 0, u'sl': 0, u'it': 0, u'et': 0, u'hu': 0, u'fi': 0, u'es': 1}\n",
      "--------------------------------\n",
      "DE Г-н председател гласувах в подкрепа на Комисията и също така подкрепям Рамковото споразумение което представлява историческа крачка напред \n",
      "Actual Language bg | Predicted Language nl\n",
      "{u'pl': 0, u'el': 0, u'fr': 0, u'bg': 0, u'nl': 1, u'ro': 0, u'pt': 0, u'de': 0, u'sv': 0, u'da': 0, u'lv': 0, u'cs': 0, u'lt': 0, u'en': 0, u'sk': 0, u'sl': 0, u'it': 0, u'et': 0, u'hu': 0, u'fi': 0, u'es': 1}\n",
      "--------------------------------\n",
      "DE Г-н председател госпожи и господа в каква позиция сме сега по пътя към срещата на върха в Европа \n",
      "Actual Language bg | Predicted Language nl\n",
      "{u'pl': 0, u'el': 0, u'fr': 0, u'bg': 0, u'nl': 1, u'ro': 0, u'pt': 0, u'de': 0, u'sv': 0, u'da': 0, u'lv': 0, u'cs': 0, u'lt': 0, u'en': 0, u'sk': 0, u'sl': 0, u'it': 0, u'et': 0, u'hu': 0, u'fi': 0, u'es': 1}\n",
      "--------------------------------\n",
      "DE Г-н председател госпожи и господа неотдавна направих изказване за работата ми в Европейския парламент за задачите ми тук и за многобройните ми срещи \n",
      "Actual Language bg | Predicted Language nl\n",
      "{u'pl': 0, u'el': 0, u'fr': 0, u'bg': 0, u'nl': 1, u'ro': 0, u'pt': 0, u'de': 0, u'sv': 0, u'da': 0, u'lv': 0, u'cs': 0, u'lt': 0, u'en': 0, u'sk': 0, u'sl': 0, u'it': 0, u'et': 0, u'hu': 0, u'fi': 0, u'es': 1}\n",
      "--------------------------------\n",
      "DE Г-н председател след повече от години колониално управление и след като континентът се превърна в арена на Студената война днес Латинска Америка вече е един от нововъзникващите региони в света \n",
      "Actual Language bg | Predicted Language nl\n",
      "{u'pl': 0, u'el': 0, u'fr': 0, u'bg': 0, u'nl': 1, u'ro': 0, u'pt': 0, u'de': 0, u'sv': 0, u'da': 0, u'lv': 0, u'cs': 0, u'lt': 0, u'en': 0, u'sk': 0, u'sl': 0, u'it': 0, u'et': 0, u'hu': 0, u'fi': 0, u'es': 1}\n",
      "--------------------------------\n",
      "EN Благодаря Ви Сара за сериозното съдействие \n",
      "Actual Language bg | Predicted Language NN\n",
      "{u'pl': 0, u'el': 0, u'fr': 0, u'bg': 0, u'nl': 0, u'ro': 0, u'pt': 0, u'de': 0, u'sv': 0, u'da': 0, u'lv': 0, u'cs': 0, u'lt': 0, u'en': 0, u'sk': 0, u'sl': 0, u'it': 0, u'et': 0, u'hu': 0, u'fi': 0, u'es': 0}\n",
      "--------------------------------\n"
     ]
    }
   ],
   "source": [
    "# Test few cases where this model didn't work\n",
    "num_case = 0\n",
    "for i in range(len(output_labels)):\n",
    "    if output_labels[i] != test_labels[i]:\n",
    "        print(test_data[i])\n",
    "        print(\"Actual Language {0} | Predicted Language {1}\".format(test_labels[i], output_labels[i]))\n",
    "        count = {}\n",
    "        for key in lang_dict.keys():\n",
    "            count[key] = 0\n",
    "        for token in test_data[i].split():\n",
    "            for key in lang_dict.keys():\n",
    "                if token in lang_dict[key]:\n",
    "                    count[key] += 1\n",
    "        print(count)\n",
    "        print(\"--------------------------------\")\n",
    "        num_case += 1\n",
    "        if num_case == 10:\n",
    "            break"
   ]
  },
  {
   "cell_type": "markdown",
   "metadata": {},
   "source": [
    "#### **The words occurence is zero. That means these words has not occurred in our training data for that specific language.**"
   ]
  },
  {
   "cell_type": "code",
   "execution_count": 16,
   "metadata": {},
   "outputs": [
    {
     "name": "stdout",
     "output_type": "stream",
     "text": [
      "{u'pl': 12, u'el': 991, u'fr': 9, u'bg': 1000, u'nl': 4, u'ro': 29, u'pt': 20, u'de': 15, u'sv': 33, u'da': 32, u'lv': 72, u'cs': 127, u'lt': 87, u'en': 11, u'sk': 268, u'sl': 38, u'it': 18, u'et': 64, u'hu': 106, u'fi': 133, u'es': 25}\n"
     ]
    }
   ],
   "source": [
    "# Lets check which language has most wrong predictions\n",
    "wrong_pred = {}\n",
    "for key in lang_dict.keys():\n",
    "    wrong_pred[key] = 0\n",
    "for i in range(len(output_labels)):\n",
    "    if output_labels[i] != test_labels[i]:\n",
    "        wrong_pred[test_labels[i]] += 1\n",
    "print(wrong_pred)"
   ]
  },
  {
   "cell_type": "code",
   "execution_count": 17,
   "metadata": {},
   "outputs": [
    {
     "name": "stdout",
     "output_type": "stream",
     "text": [
      "('Total errors', 3094)\n",
      "('bg and el errors', 1991)\n",
      "('Share of bg and el erros', 64.35035552682612)\n"
     ]
    }
   ],
   "source": [
    "total_errors = sum(wrong_pred.values())\n",
    "bg_el_errors = wrong_pred['bg'] + wrong_pred['el']\n",
    "print(\"Total errors\", total_errors)\n",
    "print(\"bg and el errors\", bg_el_errors)\n",
    "print(\"Share of bg and el erros\", bg_el_errors/float(total_errors)*100)"
   ]
  },
  {
   "cell_type": "markdown",
   "metadata": {},
   "source": [
    "#### **Bulgarian(bg) and Greek(el) has most number of mismatches.**"
   ]
  },
  {
   "cell_type": "code",
   "execution_count": 18,
   "metadata": {},
   "outputs": [],
   "source": [
    "%matplotlib inline\n",
    "import matplotlib.pyplot as plt"
   ]
  },
  {
   "cell_type": "code",
   "execution_count": 20,
   "metadata": {},
   "outputs": [
    {
     "data": {
      "image/png": "[encoded data removed]",
      "text/plain": [
       "<Figure size 432x288 with 1 Axes>"
      ]
     },
     "metadata": {},
     "output_type": "display_data"
    }
   ],
   "source": [
    "plt.bar(wrong_pred.keys(), wrong_pred.values())\n",
    "plt.show()"
   ]
  },
  {
   "cell_type": "code",
   "execution_count": null,
   "metadata": {},
   "outputs": [],
   "source": []
  }
 ],
 "metadata": {
  "kernelspec": {
   "display_name": "Python 2",
   "language": "python",
   "name": "python2"
  },
  "language_info": {
   "codemirror_mode": {
    "name": "ipython",
    "version": 2
   },
   "file_extension": ".py",
   "mimetype": "text/x-python",
   "name": "python",
   "nbconvert_exporter": "python",
   "pygments_lexer": "ipython2",
   "version": "2.7.12"
  }
 },
 "nbformat": 4,
 "nbformat_minor": 2
}
